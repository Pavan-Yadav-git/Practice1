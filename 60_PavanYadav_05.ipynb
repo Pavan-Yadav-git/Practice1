{
 "cells": [
  {
   "cell_type": "code",
   "execution_count": null,
   "id": "af07ebaf",
   "metadata": {},
   "outputs": [],
   "source": [
    "1. Python Program for Find largest prime factor of a number"
   ]
  },
  {
   "cell_type": "code",
   "execution_count": 9,
   "id": "359e29da",
   "metadata": {},
   "outputs": [
    {
     "name": "stdout",
     "output_type": "stream",
     "text": [
      "Enter a positive integer: 36\n",
      "Largest prime factor of 36 is: 3\n"
     ]
    }
   ],
   "source": [
    "# Function to check if a number is prime\n",
    "def is_prime(num):\n",
    "    if num <= 1:\n",
    "        return False\n",
    "    for i in range(2, int(num**0.5) + 1):\n",
    "        if num % i == 0:\n",
    "            return False\n",
    "    return True\n",
    "\n",
    "# Function to find the largest prime factor of a number\n",
    "def largest_prime_factor(n):\n",
    "    largest_prime = 1\n",
    "    while n % 2 == 0:\n",
    "        largest_prime = 2\n",
    "        n = n // 2\n",
    "    for i in range(3, n + 1, 2):\n",
    "        while n % i == 0:\n",
    "            largest_prime = i\n",
    "            n = n // i\n",
    "    if n > 2:\n",
    "        largest_prime = n\n",
    "    return largest_prime\n",
    "\n",
    "# Input number\n",
    "num = int(input(\"Enter a positive integer: \"))\n",
    "\n",
    "# Call the function and print the result\n",
    "result = largest_prime_factor(num)\n",
    "print(\"Largest prime factor of\", num, \"is:\", result)\n"
   ]
  },
  {
   "cell_type": "code",
   "execution_count": 19,
   "id": "82495e26",
   "metadata": {},
   "outputs": [
    {
     "data": {
      "text/plain": [
       "6325"
      ]
     },
     "execution_count": 19,
     "metadata": {},
     "output_type": "execute_result"
    }
   ],
   "source": [
    "find_largest_prime(18975)"
   ]
  },
  {
   "cell_type": "code",
   "execution_count": null,
   "id": "505e5e42",
   "metadata": {},
   "outputs": [],
   "source": [
    "2. Python Program for Product of unique prime factors of a number"
   ]
  },
  {
   "cell_type": "code",
   "execution_count": null,
   "id": "c2cff849",
   "metadata": {},
   "outputs": [],
   "source": []
  },
  {
   "cell_type": "code",
   "execution_count": null,
   "id": "714a3f5a",
   "metadata": {},
   "outputs": [],
   "source": [
    "3. Python Program to find Factorial of Number"
   ]
  },
  {
   "cell_type": "code",
   "execution_count": 29,
   "id": "42288b6f",
   "metadata": {},
   "outputs": [],
   "source": [
    "def get_fact(n):\n",
    "    num=1\n",
    "    for i in range(1,n+1):\n",
    "        num*=i\n",
    "    return num\n"
   ]
  },
  {
   "cell_type": "code",
   "execution_count": null,
   "id": "b030eff4",
   "metadata": {
    "scrolled": false
   },
   "outputs": [],
   "source": []
  },
  {
   "cell_type": "code",
   "execution_count": 41,
   "id": "0373e63b",
   "metadata": {},
   "outputs": [
    {
     "ename": "TypeError",
     "evalue": "string indices must be integers",
     "output_type": "error",
     "traceback": [
      "\u001b[1;31m---------------------------------------------------------------------------\u001b[0m",
      "\u001b[1;31mTypeError\u001b[0m                                 Traceback (most recent call last)",
      "\u001b[1;32m~\\AppData\\Local\\Temp\\ipykernel_4068\\4162604805.py\u001b[0m in \u001b[0;36m<module>\u001b[1;34m\u001b[0m\n\u001b[0;32m      4\u001b[0m     \u001b[1;32mif\u001b[0m \u001b[0mi\u001b[0m \u001b[1;32mnot\u001b[0m \u001b[1;32min\u001b[0m \u001b[0mb\u001b[0m\u001b[1;33m:\u001b[0m\u001b[1;33m\u001b[0m\u001b[1;33m\u001b[0m\u001b[0m\n\u001b[0;32m      5\u001b[0m         \u001b[0mb\u001b[0m\u001b[1;33m+=\u001b[0m\u001b[0mi\u001b[0m\u001b[1;33m\u001b[0m\u001b[1;33m\u001b[0m\u001b[0m\n\u001b[1;32m----> 6\u001b[1;33m \u001b[0mdict1\u001b[0m\u001b[1;33m=\u001b[0m\u001b[1;33m{\u001b[0m\u001b[0mb\u001b[0m\u001b[1;33m[\u001b[0m\u001b[0mi\u001b[0m\u001b[1;33m]\u001b[0m\u001b[1;33m:\u001b[0m\u001b[0ma\u001b[0m\u001b[1;33m.\u001b[0m\u001b[0mcount\u001b[0m\u001b[1;33m(\u001b[0m\u001b[0mi\u001b[0m\u001b[1;33m)\u001b[0m\u001b[1;33m}\u001b[0m\u001b[1;33m\u001b[0m\u001b[1;33m\u001b[0m\u001b[0m\n\u001b[0m\u001b[0;32m      7\u001b[0m \u001b[0mdict1\u001b[0m\u001b[1;33m\u001b[0m\u001b[1;33m\u001b[0m\u001b[0m\n\u001b[0;32m      8\u001b[0m \u001b[1;33m\u001b[0m\u001b[0m\n",
      "\u001b[1;31mTypeError\u001b[0m: string indices must be integers"
     ]
    }
   ],
   "source": [
    "a=str(get_fact(15265))\n",
    "b=\"\"\n",
    "for i in a:\n",
    "    if i not in b:\n",
    "        b+=i\n",
    "dict1={b[i]:a.count(i)}\n",
    "dict1\n",
    "    "
   ]
  },
  {
   "cell_type": "code",
   "execution_count": null,
   "id": "9dbd103c",
   "metadata": {},
   "outputs": [],
   "source": [
    "4. Python Program for Find sum of odd factors of a number"
   ]
  },
  {
   "cell_type": "code",
   "execution_count": 4,
   "id": "b90d6d31",
   "metadata": {},
   "outputs": [
    {
     "data": {
      "text/plain": [
       "72"
      ]
     },
     "execution_count": 4,
     "metadata": {},
     "output_type": "execute_result"
    }
   ],
   "source": [
    "def sum_of_odd_factors(n):\n",
    "    sum1=[]\n",
    "    for i in range(1,n+1,2):#to find all odd numbers\n",
    "        if n%i==0:\n",
    "            sum1.append(i)\n",
    "    return sum(sum1)\n",
    "sum_of_odd_factors(51)"
   ]
  },
  {
   "cell_type": "code",
   "execution_count": null,
   "id": "63162222",
   "metadata": {},
   "outputs": [],
   "source": [
    "5. Python Program to Check if binary representation is a palindrome"
   ]
  },
  {
   "cell_type": "code",
   "execution_count": 7,
   "id": "d484569a",
   "metadata": {},
   "outputs": [
    {
     "data": {
      "text/plain": [
       "False"
      ]
     },
     "execution_count": 7,
     "metadata": {},
     "output_type": "execute_result"
    }
   ],
   "source": [
    "def palindrome(num):\n",
    "    binary=bin(num)\n",
    "    binary=binary[2:]\n",
    "    return binary==binary[-1::-1]\n",
    "palindrome(4)"
   ]
  },
  {
   "cell_type": "code",
   "execution_count": 9,
   "id": "8ab5a66d",
   "metadata": {},
   "outputs": [
    {
     "data": {
      "text/plain": [
       "'0b100'"
      ]
     },
     "execution_count": 9,
     "metadata": {},
     "output_type": "execute_result"
    }
   ],
   "source": [
    " bin(4)"
   ]
  },
  {
   "cell_type": "code",
   "execution_count": null,
   "id": "508b7e12",
   "metadata": {},
   "outputs": [],
   "source": []
  },
  {
   "cell_type": "code",
   "execution_count": null,
   "id": "3db2957d",
   "metadata": {},
   "outputs": [],
   "source": [
    "6. Python Program for Number of elements with odd factors in a given range"
   ]
  },
  {
   "cell_type": "code",
   "execution_count": null,
   "id": "9eebe88a",
   "metadata": {},
   "outputs": [],
   "source": [
    "def odd_factors(num):\n",
    "    "
   ]
  },
  {
   "cell_type": "code",
   "execution_count": null,
   "id": "9a8ca42b",
   "metadata": {},
   "outputs": [],
   "source": []
  },
  {
   "cell_type": "code",
   "execution_count": null,
   "id": "094ddb27",
   "metadata": {},
   "outputs": [],
   "source": [
    " 7. Python Program for Common Divisors of Two Numbers"
   ]
  },
  {
   "cell_type": "code",
   "execution_count": 4,
   "id": "54a0ef47",
   "metadata": {},
   "outputs": [],
   "source": [
    "def common_diviors(num1, num2):\n",
    "    a=[]\n",
    "    b=[]\n",
    "    for i in range(1,num1+1):\n",
    "        if num1%i==0:\n",
    "            a.append(i)\n",
    "    for j in range(1,num2+1):\n",
    "        if num2%j ==0:\n",
    "            b.append(j)\n",
    "    c=set(a).intersection(set(b))\n",
    "    return list(c)"
   ]
  },
  {
   "cell_type": "code",
   "execution_count": 5,
   "id": "6d1f4b19",
   "metadata": {},
   "outputs": [
    {
     "data": {
      "text/plain": [
       "[1, 2, 4, 5, 10, 20]"
      ]
     },
     "execution_count": 5,
     "metadata": {},
     "output_type": "execute_result"
    }
   ],
   "source": [
    "common_diviors(20,40)"
   ]
  },
  {
   "cell_type": "code",
   "execution_count": null,
   "id": "d7339fb0",
   "metadata": {},
   "outputs": [],
   "source": [
    "8. Python Program to Check if a count of divisors is even or odd"
   ]
  },
  {
   "cell_type": "code",
   "execution_count": 9,
   "id": "b7436fba",
   "metadata": {},
   "outputs": [],
   "source": [
    "def get_count_divisors(num):\n",
    "    a=[i for i in range(1, num) if num%i==0]\n",
    "    b=len(a)\n",
    "    print(a)\n",
    "    print(b)\n",
    "    if b%2==0:\n",
    "        print(\"Even\")\n",
    "    else:\n",
    "        print(\"Odd\")"
   ]
  },
  {
   "cell_type": "code",
   "execution_count": 31,
   "id": "4eb0bb3a",
   "metadata": {},
   "outputs": [
    {
     "ename": "SyntaxError",
     "evalue": "expected 'else' after 'if' expression (2995785868.py, line 3)",
     "output_type": "error",
     "traceback": [
      "\u001b[1;36m  Cell \u001b[1;32mIn[31], line 3\u001b[1;36m\u001b[0m\n\u001b[1;33m    b=[print(\"even\") if len(a)%2==0 print(\"odd\") elif len(a)%2!= 0  else pass ]\u001b[0m\n\u001b[1;37m       ^\u001b[0m\n\u001b[1;31mSyntaxError\u001b[0m\u001b[1;31m:\u001b[0m expected 'else' after 'if' expression\n"
     ]
    }
   ],
   "source": [
    "def get_count_divisors(num):\n",
    "    a=[i for i in range(1, num) if num%i==0]\n",
    "    b=[print(\"even\") if len(a)%2==0 print(\"odd\") elif len(a)%2!= 0  else pass ]\n",
    "    print(a)\n",
    "    print(len(a))\n",
    "    \n",
    "#     if b%2==0:\n",
    "#         print(\"Even\")\n",
    "#     else:\n",
    "#         print(\"Odd\")"
   ]
  },
  {
   "cell_type": "code",
   "execution_count": 27,
   "id": "0a006e85",
   "metadata": {},
   "outputs": [
    {
     "name": "stdout",
     "output_type": "stream",
     "text": [
      "odd\n",
      "[1, 2, 4, 5, 8, 10, 16, 20, 25, 32, 40, 50, 80, 100, 160, 200, 400]\n",
      "17\n"
     ]
    }
   ],
   "source": [
    "get_count_divisors(800)"
   ]
  },
  {
   "cell_type": "code",
   "execution_count": null,
   "id": "df7f5035",
   "metadata": {},
   "outputs": [],
   "source": [
    "9. Python Program to Find the minimum sum of factors of a number"
   ]
  },
  {
   "cell_type": "code",
   "execution_count": 45,
   "id": "754c5e0b",
   "metadata": {},
   "outputs": [
    {
     "data": {
      "text/plain": [
       "13"
      ]
     },
     "execution_count": 45,
     "metadata": {},
     "output_type": "execute_result"
    }
   ],
   "source": [
    "\n"
   ]
  },
  {
   "cell_type": "code",
   "execution_count": 47,
   "id": "ebc2ba42",
   "metadata": {},
   "outputs": [],
   "source": [
    "def get_min_sum_num(num):\n",
    "    a=[]\n",
    "    b=[]\n",
    "    for i in range(1, num):\n",
    "        if num%i==0:\n",
    "            a.append(i)\n",
    "    for j in a:\n",
    "        for k in a:\n",
    "            if j*k==num:\n",
    "                print(j)\n",
    "                print(k)\n",
    "    return a\n",
    "            "
   ]
  },
  {
   "cell_type": "code",
   "execution_count": 48,
   "id": "f31fce5f",
   "metadata": {},
   "outputs": [
    {
     "name": "stdout",
     "output_type": "stream",
     "text": [
      "2\n",
      "25\n",
      "5\n",
      "10\n",
      "10\n",
      "5\n",
      "25\n",
      "2\n"
     ]
    },
    {
     "data": {
      "text/plain": [
       "[1, 2, 5, 10, 25]"
      ]
     },
     "execution_count": 48,
     "metadata": {},
     "output_type": "execute_result"
    }
   ],
   "source": [
    "get_min_sum_num(50)"
   ]
  },
  {
   "cell_type": "code",
   "execution_count": null,
   "id": "93bd1736",
   "metadata": {},
   "outputs": [],
   "source": [
    "10. Python Program to find Difference between sums of odd and even digits"
   ]
  },
  {
   "cell_type": "code",
   "execution_count": 27,
   "id": "3fe3b254",
   "metadata": {
    "scrolled": true
   },
   "outputs": [
    {
     "data": {
      "text/plain": [
       "1"
      ]
     },
     "execution_count": 27,
     "metadata": {},
     "output_type": "execute_result"
    }
   ],
   "source": [
    "def diff_odd_even(digit):\n",
    "    str_digit=str(digit)\n",
    "    even=sum([int(i) for i in str1 if int(i)%2==0])\n",
    "    odd=sum([int(i) for i in str1 if int(i)%2!=0])\n",
    "    return abs(even-odd)\n",
    "diff_odd_even(1)"
   ]
  },
  {
   "cell_type": "code",
   "execution_count": 26,
   "id": "f16a5800",
   "metadata": {},
   "outputs": [
    {
     "name": "stdout",
     "output_type": "stream",
     "text": [
      "0\n",
      "1\n"
     ]
    }
   ],
   "source": [
    "str1=str(1)\n",
    "even=sum([int(i) for i in str1 if int(i)%2==0])\n",
    "odd=sum([int(i) for i in str1 if int(i)%2!=0])\n",
    "print(even)\n",
    "print(odd)"
   ]
  },
  {
   "cell_type": "code",
   "execution_count": null,
   "id": "0f7b170e",
   "metadata": {},
   "outputs": [],
   "source": [
    "11. Python Program for Largest and Smallest K digit number divisible by X\n",
    "12. Python Program to calculate the area of a Tetrahedron\n",
    "13. Python Program to Find the perimeter of a cylinder"
   ]
  },
  {
   "cell_type": "code",
   "execution_count": null,
   "id": "a124bb3b",
   "metadata": {},
   "outputs": [],
   "source": [
    "14. Python Program to Find the vertex, focus, and directrix of a parabola"
   ]
  },
  {
   "cell_type": "code",
   "execution_count": 28,
   "id": "22befc2e",
   "metadata": {},
   "outputs": [
    {
     "data": {
      "text/plain": [
       "(0.25, 2.875)"
      ]
     },
     "execution_count": 28,
     "metadata": {},
     "output_type": "execute_result"
    }
   ],
   "source": [
    "def get_vertex(a,b,c):\n",
    "    x=-b/(2*a)\n",
    "    y=a*x**2+b*x+c\n",
    "    vertex=(x, y)\n",
    "    return vertex\n",
    "get_vertex(2,-1,3)"
   ]
  },
  {
   "cell_type": "code",
   "execution_count": null,
   "id": "afa2ddc6",
   "metadata": {},
   "outputs": [],
   "source": [
    "15. Python program to find the most occurring character and its count\n",
    "16. Python Program to Find the sum of even factors of a number\n",
    "17. Python Program to Check if all digits of a number divide it\n",
    "18. Python program to convert float decimal to Octal number\n",
    "19. Python program to copy odd lines of one file to other\n",
    "20. Write a Python program to replace whitespaces with an underscore and vice versa\n",
    "21. Write a Python program to convert a date or yyyy-mm-dd format to dd-mm-yyyy\n",
    "22. Write a Python program to find all words starting with 'a' or 'e' in a given string.\n",
    "23. Write a Python program to abbreviate 'Road' as 'Rd.' in a given string."
   ]
  }
 ],
 "metadata": {
  "kernelspec": {
   "display_name": "Python 3 (ipykernel)",
   "language": "python",
   "name": "python3"
  },
  "language_info": {
   "codemirror_mode": {
    "name": "ipython",
    "version": 3
   },
   "file_extension": ".py",
   "mimetype": "text/x-python",
   "name": "python",
   "nbconvert_exporter": "python",
   "pygments_lexer": "ipython3",
   "version": "3.10.9"
  }
 },
 "nbformat": 4,
 "nbformat_minor": 5
}
