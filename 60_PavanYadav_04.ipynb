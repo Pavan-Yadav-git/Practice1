{
 "cells": [
  {
   "cell_type": "markdown",
   "id": "6e5fd83a",
   "metadata": {},
   "source": [
    "1. Python program to sort Python Dictionaries by Keys"
   ]
  },
  {
   "cell_type": "code",
   "execution_count": 16,
   "id": "db139000",
   "metadata": {},
   "outputs": [
    {
     "data": {
      "text/plain": [
       "{'Clear': 'C', 'Manager1': 'ABsing', 'Peon': 'D', 'manager2': 'B'}"
      ]
     },
     "execution_count": 16,
     "metadata": {},
     "output_type": "execute_result"
    }
   ],
   "source": [
    "def get_dict(dict1):\n",
    "    a= sorted(dict1.keys())\n",
    "    b={i:dict1[i] for i in a}\n",
    "    return b\n",
    "pavan_dict={\"Manager1\":\"ABsing\",\"manager2\":\"B\", \"Clear\":\"C\", \"Peon\":\"D\"}\n",
    "get_dict(pavan_dict)\n"
   ]
  },
  {
   "cell_type": "code",
   "execution_count": 1,
   "id": "0dcc24ae",
   "metadata": {},
   "outputs": [
    {
     "name": "stdout",
     "output_type": "stream",
     "text": [
      "Original dictionary: {'banana': 3, 'apple': 1, 'cherry': 2, 'date': 4}\n",
      "Sorted dictionary by keys: {'apple': 1, 'banana': 3, 'cherry': 2, 'date': 4}\n"
     ]
    }
   ],
   "source": [
    "# Define a sample dictionary\n",
    "my_dict = {'banana': 3, 'apple': 1, 'cherry': 2, 'date': 4}\n",
    "\n",
    "# Sort the dictionary by keys\n",
    "sorted_dict = dict(sorted(my_dict.items()))\n",
    "\n",
    "# Print the sorted dictionary\n",
    "print(\"Original dictionary:\", my_dict)\n",
    "print(\"Sorted dictionary by keys:\", sorted_dict)"
   ]
  },
  {
   "cell_type": "code",
   "execution_count": 3,
   "id": "5e32c0d6",
   "metadata": {
    "scrolled": true
   },
   "outputs": [
    {
     "name": "stdout",
     "output_type": "stream",
     "text": [
      "Help on built-in function sorted in module builtins:\n",
      "\n",
      "sorted(iterable, /, *, key=None, reverse=False)\n",
      "    Return a new list containing all items from the iterable in ascending order.\n",
      "    \n",
      "    A custom key function can be supplied to customize the sort order, and the\n",
      "    reverse flag can be set to request the result in descending order.\n",
      "\n"
     ]
    }
   ],
   "source": [
    "help(sorted)"
   ]
  },
  {
   "cell_type": "markdown",
   "id": "1fae49e0",
   "metadata": {},
   "source": [
    "### 2. Python program to sort Python Dictionaries by Values"
   ]
  },
  {
   "cell_type": "code",
   "execution_count": 19,
   "id": "e7e54e00",
   "metadata": {},
   "outputs": [
    {
     "data": {
      "text/plain": [
       "[25, 32, 98, 100]"
      ]
     },
     "execution_count": 19,
     "metadata": {},
     "output_type": "execute_result"
    }
   ],
   "source": [
    "# def sort_by_value(dict1):\n",
    "#     a=sorted(dict1.values())\n",
    "#     b={i:dict1[i] for i in a }\n",
    "#     return b\n",
    "p1_dict={\"Pavan\":32, \"A\":25, \"B\":98, \"C\":100}\n",
    "a=sorted(p1_dict.values())\n",
    "a\n"
   ]
  },
  {
   "cell_type": "code",
   "execution_count": 2,
   "id": "ede16c21",
   "metadata": {},
   "outputs": [
    {
     "name": "stdout",
     "output_type": "stream",
     "text": [
      "Original dictionary: {'banana': 3, 'apple': 1, 'cherry': 2, 'date': 4}\n",
      "Sorted dictionary by values in ascending order: {'apple': 1, 'cherry': 2, 'banana': 3, 'date': 4}\n"
     ]
    }
   ],
   "source": [
    "# Define a sample dictionary\n",
    "my_dict = {'banana': 3, 'apple': 1, 'cherry': 2, 'date': 4}\n",
    "\n",
    "# Sort the dictionary by values in ascending order\n",
    "sorted_dict = dict(sorted(my_dict.items(), key=lambda x: x[1]))\n",
    "\n",
    "# Print the sorted dictionary\n",
    "print(\"Original dictionary:\", my_dict)\n",
    "print(\"Sorted dictionary by values in ascending order:\", sorted_dict)\n"
   ]
  },
  {
   "cell_type": "code",
   "execution_count": null,
   "id": "37662639",
   "metadata": {},
   "outputs": [],
   "source": []
  },
  {
   "cell_type": "markdown",
   "id": "5b88c74f",
   "metadata": {},
   "source": [
    "3. Python program to find the sum of all items in a dictionary"
   ]
  },
  {
   "cell_type": "markdown",
   "id": "3a268f55",
   "metadata": {},
   "source": []
  },
  {
   "cell_type": "markdown",
   "id": "94d2498c",
   "metadata": {},
   "source": [
    "4. Python program to remove a key from a dictionary"
   ]
  },
  {
   "cell_type": "code",
   "execution_count": 1,
   "id": "01ded7e4",
   "metadata": {},
   "outputs": [
    {
     "data": {
      "text/plain": [
       "{'Pavan': 'Boy', 'Bread': 'Food', 'ShriRam': 'God'}"
      ]
     },
     "execution_count": 1,
     "metadata": {},
     "output_type": "execute_result"
    }
   ],
   "source": [
    "def get_dict(dict1,key):\n",
    "    dict1.pop(key)\n",
    "    return dict1\n",
    "dict2={\"Pavan\":\"Boy\",\"Dog\":\"Animal\",\"Bread\":\"Food\",\"ShriRam\":\"God\"}\n",
    "key2=\"Dog\"\n",
    "get_dict(dict2,key2)"
   ]
  },
  {
   "cell_type": "markdown",
   "id": "4ec90fe0",
   "metadata": {},
   "source": [
    "5. Python program to merge two Dictionaries"
   ]
  },
  {
   "cell_type": "code",
   "execution_count": 5,
   "id": "85d1dfe6",
   "metadata": {},
   "outputs": [
    {
     "data": {
      "text/plain": [
       "{'A': 1, 'B': 2, 'C': 3, 'D': 4, 'E': 5, 'F': 6, 'G': 7}"
      ]
     },
     "execution_count": 5,
     "metadata": {},
     "output_type": "execute_result"
    }
   ],
   "source": [
    "def get_dicts(dict1,dict2):\n",
    "    newd={**dict1,**dict2}\n",
    "    return newd\n",
    "dict1={\"A\":1,\"B\":2,\"C\":3}\n",
    "dict2={\"D\":4,\"E\":5, \"F\":6, \"G\":7}\n",
    "get_dicts(dict1,dict2)"
   ]
  },
  {
   "cell_type": "markdown",
   "id": "13940113",
   "metadata": {},
   "source": [
    "6. Program to create grade calculator in Python"
   ]
  },
  {
   "cell_type": "code",
   "execution_count": 1,
   "id": "de4695c8",
   "metadata": {},
   "outputs": [
    {
     "name": "stdout",
     "output_type": "stream",
     "text": [
      "Grade E\n"
     ]
    },
    {
     "data": {
      "text/plain": [
       "50"
      ]
     },
     "execution_count": 1,
     "metadata": {},
     "output_type": "execute_result"
    }
   ],
   "source": [
    "def grade_calc(score):\n",
    "    if score>=90:\n",
    "        print(\"Grade A\")\n",
    "    elif score>=80  and score <90:\n",
    "        print(\"Grade B\")\n",
    "    elif score >=70 and score <80:\n",
    "        print(\"Grade C\")\n",
    "    elif score >=60 and score <70:\n",
    "        print(\"Grade D\")\n",
    "    elif score >=50 and score <60:\n",
    "        print(\"Grade E\")\n",
    "    elif score >=40 and score <50:\n",
    "        print(\"Grade F\")\n",
    "    return score\n",
    "grade_calc(50)"
   ]
  },
  {
   "cell_type": "markdown",
   "id": "02e9a6f2",
   "metadata": {},
   "source": [
    "7. Print anagrams together in Python using List and Dictionary"
   ]
  },
  {
   "cell_type": "code",
   "execution_count": 8,
   "id": "95d9d228",
   "metadata": {},
   "outputs": [
    {
     "name": "stdout",
     "output_type": "stream",
     "text": [
      "['listen', 'silent']\n",
      "['elbow', 'below']\n",
      "['state', 'taste']\n",
      "['night', 'thing']\n",
      "['act', 'cat']\n",
      "['dog', 'god']\n"
     ]
    }
   ],
   "source": [
    "words_list = ['listen', 'silent', 'elbow', 'below', 'state', 'taste', 'night', 'thing', 'act', 'cat', 'dog', 'god']\n",
    "def get_anagram_list(words_list):\n",
    "    anagram_dict = {}\n",
    "    for word in words_list:\n",
    "        sorted_word = ''.join(sorted(word))\n",
    "        if sorted_word in anagram_dict:\n",
    "                anagram_dict[sorted_word].append(word)\n",
    "        else:\n",
    "            anagram_dict[sorted_word] = [word]\n",
    "    for anagrams in anagram_dict.values():\n",
    "        print(anagrams)\n",
    "get_anagram_list(words_list)            \n",
    "        "
   ]
  },
  {
   "cell_type": "markdown",
   "id": "939f25ae",
   "metadata": {},
   "source": [
    "8. Check if binary representations of two numbers are an anagram"
   ]
  },
  {
   "cell_type": "code",
   "execution_count": 28,
   "id": "1eddd5c6",
   "metadata": {},
   "outputs": [
    {
     "data": {
      "text/plain": [
       "True"
      ]
     },
     "execution_count": 28,
     "metadata": {},
     "output_type": "execute_result"
    }
   ],
   "source": [
    "def is_binary_anagram(num1, num2):\n",
    "    binary1 = str(sorted(str(bin(num1))[2:]))\n",
    "    binary2 = str(sorted(str(bin(num2))[2:]))\n",
    "    return binary1==binary2\n",
    "is_binary_anagram(4, 4)"
   ]
  },
  {
   "cell_type": "code",
   "execution_count": 24,
   "id": "dc1443a6",
   "metadata": {},
   "outputs": [
    {
     "data": {
      "text/plain": [
       "\"['0', '0', '1']\""
      ]
     },
     "execution_count": 24,
     "metadata": {},
     "output_type": "execute_result"
    }
   ],
   "source": [
    "str(sorted((str(bin(4))[2:])))"
   ]
  },
  {
   "cell_type": "markdown",
   "id": "6b7ac404",
   "metadata": {},
   "source": [
    "9. Python Counter to find the size of the largest subset of anagram words"
   ]
  },
  {
   "cell_type": "code",
   "execution_count": null,
   "id": "bf369f05",
   "metadata": {},
   "outputs": [],
   "source": [
    "from collection import counter\n"
   ]
  },
  {
   "cell_type": "markdown",
   "id": "73585bc1",
   "metadata": {},
   "source": [
    "10. Python Dictionary to find mirror characters in a string"
   ]
  },
  {
   "cell_type": "code",
   "execution_count": 36,
   "id": "4f358ede",
   "metadata": {},
   "outputs": [
    {
     "ename": "AttributeError",
     "evalue": "'dict' object has no attribute 'add'",
     "output_type": "error",
     "traceback": [
      "\u001b[1;31m---------------------------------------------------------------------------\u001b[0m",
      "\u001b[1;31mAttributeError\u001b[0m                            Traceback (most recent call last)",
      "\u001b[1;32m~\\AppData\\Local\\Temp\\ipykernel_9836\\3163051725.py\u001b[0m in \u001b[0;36m<module>\u001b[1;34m\u001b[0m\n\u001b[0;32m      6\u001b[0m             \u001b[0mmirrordict\u001b[0m\u001b[1;33m.\u001b[0m\u001b[0madd\u001b[0m\u001b[1;33m(\u001b[0m\u001b[0mi\u001b[0m\u001b[1;33m)\u001b[0m\u001b[1;33m\u001b[0m\u001b[1;33m\u001b[0m\u001b[0m\n\u001b[0;32m      7\u001b[0m     \u001b[1;32mreturn\u001b[0m \u001b[0mmirrordict\u001b[0m\u001b[1;33m\u001b[0m\u001b[1;33m\u001b[0m\u001b[0m\n\u001b[1;32m----> 8\u001b[1;33m \u001b[0mget_mirror_char\u001b[0m\u001b[1;33m(\u001b[0m\u001b[1;34m\"pavan\"\u001b[0m\u001b[1;33m)\u001b[0m\u001b[1;33m\u001b[0m\u001b[1;33m\u001b[0m\u001b[0m\n\u001b[0m\u001b[0;32m      9\u001b[0m \u001b[1;33m\u001b[0m\u001b[0m\n\u001b[0;32m     10\u001b[0m \u001b[1;33m\u001b[0m\u001b[0m\n",
      "\u001b[1;32m~\\AppData\\Local\\Temp\\ipykernel_9836\\3163051725.py\u001b[0m in \u001b[0;36mget_mirror_char\u001b[1;34m(string)\u001b[0m\n\u001b[0;32m      4\u001b[0m     \u001b[1;32mfor\u001b[0m \u001b[0mi\u001b[0m \u001b[1;32min\u001b[0m \u001b[0mstring\u001b[0m\u001b[1;33m:\u001b[0m\u001b[1;33m\u001b[0m\u001b[1;33m\u001b[0m\u001b[0m\n\u001b[0;32m      5\u001b[0m         \u001b[1;32mif\u001b[0m \u001b[0mi\u001b[0m \u001b[1;32min\u001b[0m \u001b[0mmirror_char\u001b[0m\u001b[1;33m:\u001b[0m\u001b[1;33m\u001b[0m\u001b[1;33m\u001b[0m\u001b[0m\n\u001b[1;32m----> 6\u001b[1;33m             \u001b[0mmirrordict\u001b[0m\u001b[1;33m.\u001b[0m\u001b[0madd\u001b[0m\u001b[1;33m(\u001b[0m\u001b[0mi\u001b[0m\u001b[1;33m)\u001b[0m\u001b[1;33m\u001b[0m\u001b[1;33m\u001b[0m\u001b[0m\n\u001b[0m\u001b[0;32m      7\u001b[0m     \u001b[1;32mreturn\u001b[0m \u001b[0mmirrordict\u001b[0m\u001b[1;33m\u001b[0m\u001b[1;33m\u001b[0m\u001b[0m\n\u001b[0;32m      8\u001b[0m \u001b[0mget_mirror_char\u001b[0m\u001b[1;33m(\u001b[0m\u001b[1;34m\"pavan\"\u001b[0m\u001b[1;33m)\u001b[0m\u001b[1;33m\u001b[0m\u001b[1;33m\u001b[0m\u001b[0m\n",
      "\u001b[1;31mAttributeError\u001b[0m: 'dict' object has no attribute 'add'"
     ]
    }
   ],
   "source": [
    "mirror_char=[\"p\",\"q\",\"b\",\"d\"]\n",
    "mirrordict={}\n",
    "def get_mirror_char(string):\n",
    "    for i in string:\n",
    "        if i in mirror_char:\n",
    "            mirrordict.add(i)\n",
    "    return mirrordict\n",
    "get_mirror_char(\"pavan\")\n",
    "            \n",
    "            "
   ]
  },
  {
   "cell_type": "markdown",
   "id": "978af878",
   "metadata": {},
   "source": [
    "11. Counting the frequencies in a list using a dictionary in Python"
   ]
  },
  {
   "cell_type": "code",
   "execution_count": 37,
   "id": "e3c09c6e",
   "metadata": {},
   "outputs": [
    {
     "data": {
      "text/plain": [
       "{1: 3, 2: 2, 3: 1, 4: 2, 5: 1}"
      ]
     },
     "execution_count": 37,
     "metadata": {},
     "output_type": "execute_result"
    }
   ],
   "source": [
    "\n",
    "def get_frequency_ele(list1):\n",
    "    dict1={}\n",
    "    for i in list1:\n",
    "        if i in dict1:\n",
    "            dict1[i]+=1\n",
    "        else:\n",
    "            dict1[i]=1\n",
    "    return dict1\n",
    "my_list = [1, 2, 3, 2, 1, 1, 4, 5, 4]\n",
    "get_frequency_ele(my_list)"
   ]
  },
  {
   "cell_type": "code",
   "execution_count": 39,
   "id": "56724332",
   "metadata": {},
   "outputs": [
    {
     "data": {
      "text/plain": [
       "1"
      ]
     },
     "execution_count": 39,
     "metadata": {},
     "output_type": "execute_result"
    }
   ],
   "source": [
    "dict1={\"p\":1, \"q\":2}\n",
    "dict1[\"p\"]"
   ]
  },
  {
   "cell_type": "markdown",
   "id": "7ee0b9b9",
   "metadata": {},
   "source": []
  },
  {
   "cell_type": "markdown",
   "id": "8e328455",
   "metadata": {},
   "source": [
    "12. Python program to convert a list of Tuples into Dictionary"
   ]
  },
  {
   "cell_type": "code",
   "execution_count": 20,
   "id": "07eae51a",
   "metadata": {},
   "outputs": [
    {
     "data": {
      "text/plain": [
       "{'A': 1, 'B': 2, 'C': 3, 'D': 4, 'E': 5}"
      ]
     },
     "execution_count": 20,
     "metadata": {},
     "output_type": "execute_result"
    }
   ],
   "source": [
    "def convert_list_of_tup_into_dict(list1):\n",
    "    a=dict(list1)\n",
    "    return a\n",
    "Pavan_list=[(\"A\",1),(\"B\",2),(\"C\",3),(\"D\",4),(\"E\",5)]\n",
    "convert_list_of_tup_into_dict(Pavan_list)"
   ]
  },
  {
   "cell_type": "markdown",
   "id": "c2baccd3",
   "metadata": {},
   "source": [
    "13. Scraping And Finding Ordered Words In A Dictionary using Python"
   ]
  },
  {
   "cell_type": "markdown",
   "id": "af9ae3a0",
   "metadata": {},
   "source": [
    "14. Create a list of tuples from the given list having a number and its cube in each tuple"
   ]
  },
  {
   "cell_type": "markdown",
   "id": "15d9abc1",
   "metadata": {},
   "source": [
    "15. Sort a list of tuples by the second Item"
   ]
  },
  {
   "cell_type": "code",
   "execution_count": null,
   "id": "897e62f4",
   "metadata": {},
   "outputs": [],
   "source": []
  },
  {
   "cell_type": "markdown",
   "id": "7f45684a",
   "metadata": {},
   "source": [
    "16. Python Program for Insertion Sort"
   ]
  },
  {
   "cell_type": "markdown",
   "id": "7172b705",
   "metadata": {},
   "source": [
    "17. Python Program for SelectionSort"
   ]
  },
  {
   "cell_type": "markdown",
   "id": "e27268af",
   "metadata": {},
   "source": [
    "18. Python Program for Bubble Sort"
   ]
  },
  {
   "cell_type": "markdown",
   "id": "21a693d5",
   "metadata": {},
   "source": [
    "19. Python Program for Merge Sort"
   ]
  },
  {
   "cell_type": "markdown",
   "id": "dfa52871",
   "metadata": {},
   "source": []
  },
  {
   "cell_type": "markdown",
   "id": "6ece5bd3",
   "metadata": {},
   "source": [
    "19. Python Program for Merge Sort"
   ]
  },
  {
   "cell_type": "markdown",
   "id": "a3edbb46",
   "metadata": {},
   "source": [
    "20. Python Program for QuickSortSort"
   ]
  }
 ],
 "metadata": {
  "kernelspec": {
   "display_name": "Python 3 (ipykernel)",
   "language": "python",
   "name": "python3"
  },
  "language_info": {
   "codemirror_mode": {
    "name": "ipython",
    "version": 3
   },
   "file_extension": ".py",
   "mimetype": "text/x-python",
   "name": "python",
   "nbconvert_exporter": "python",
   "pygments_lexer": "ipython3",
   "version": "3.10.9"
  }
 },
 "nbformat": 4,
 "nbformat_minor": 5
}
