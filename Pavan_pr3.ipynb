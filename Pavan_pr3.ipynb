{
 "cells": [
  {
   "cell_type": "markdown",
   "id": "09bd4c18",
   "metadata": {},
   "source": [
    "### Make a Dictionary"
   ]
  },
  {
   "cell_type": "code",
   "execution_count": 133,
   "id": "0c0ad52a",
   "metadata": {},
   "outputs": [
    {
     "data": {
      "text/plain": [
       "{'Name': ['Raj'], 'Location': ['Punjab'], 'Score': [35]}"
      ]
     },
     "execution_count": 133,
     "metadata": {},
     "output_type": "execute_result"
    }
   ],
   "source": [
    "dic = {\"Name\": [\"Raj\"], \n",
    "       \"Location\": [\"Punjab\"],\n",
    "       \"Score\": [35]}\n",
    "dic"
   ]
  },
  {
   "cell_type": "code",
   "execution_count": 134,
   "id": "b40fcab7",
   "metadata": {},
   "outputs": [],
   "source": [
    "Nam = [\"Kamal\", \"Bhaskar\", \"Gupta ji\"]\n",
    "Loc = [\"Hisar\",\"Ballabhgarh\",\"Gurgaon\"]\n",
    "sco = [65,74,89] "
   ]
  },
  {
   "cell_type": "code",
   "execution_count": 136,
   "id": "12f4c604",
   "metadata": {},
   "outputs": [
    {
     "data": {
      "text/plain": [
       "{'Name': ['Raj', 'Kamal', 'Bhaskar', 'Gupta ji'],\n",
       " 'Location': ['Punjab'],\n",
       " 'Score': [35]}"
      ]
     },
     "execution_count": 136,
     "metadata": {},
     "output_type": "execute_result"
    }
   ],
   "source": [
    "dic[\"Name\"].extend(Nam)\n",
    "dic"
   ]
  },
  {
   "cell_type": "code",
   "execution_count": 137,
   "id": "89db9a32",
   "metadata": {},
   "outputs": [],
   "source": [
    "dic[\"Location\"].extend(Loc)\n",
    "dic[\"Score\"].extend(sco)\n"
   ]
  },
  {
   "cell_type": "code",
   "execution_count": 138,
   "id": "08ff4a1c",
   "metadata": {},
   "outputs": [
    {
     "data": {
      "text/plain": [
       "{'Name': ['Raj', 'Kamal', 'Bhaskar', 'Gupta ji'],\n",
       " 'Location': ['Punjab', 'Hisar', 'Ballabhgarh', 'Gurgaon'],\n",
       " 'Score': [35, 65, 74, 89]}"
      ]
     },
     "execution_count": 138,
     "metadata": {},
     "output_type": "execute_result"
    }
   ],
   "source": [
    "dic"
   ]
  },
  {
   "cell_type": "code",
   "execution_count": 73,
   "id": "e897da71",
   "metadata": {},
   "outputs": [
    {
     "data": {
      "text/plain": [
       "dict"
      ]
     },
     "execution_count": 73,
     "metadata": {},
     "output_type": "execute_result"
    }
   ],
   "source": [
    "type(dic)"
   ]
  },
  {
   "cell_type": "code",
   "execution_count": 56,
   "id": "187a605b",
   "metadata": {},
   "outputs": [],
   "source": [
    "Nam1 = [\"Kamal\", \"Bhaskar\", \"Gupta ji\"]\n",
    "Loc1 = [\"Hisar\",\"Ballabhgarh\",\"Gurgaon\"]\n",
    "sco1 = [65,74,89] "
   ]
  },
  {
   "cell_type": "code",
   "execution_count": 61,
   "id": "84ac090d",
   "metadata": {},
   "outputs": [
    {
     "data": {
      "text/plain": [
       "{'Kamal': 'Hisar', 'Bhaskar': 'Ballabhgarh', 'Gupta ji': 'Gurgaon'}"
      ]
     },
     "execution_count": 61,
     "metadata": {},
     "output_type": "execute_result"
    }
   ],
   "source": [
    "dic1 = dict(zip(Nam1,Loc1))\n",
    "dic1"
   ]
  },
  {
   "cell_type": "code",
   "execution_count": 1,
   "id": "398c42a7",
   "metadata": {},
   "outputs": [
    {
     "name": "stdout",
     "output_type": "stream",
     "text": [
      "[('apple', 1.0, 10), ('banana', 1.5, 15), ('orange', 2.0, 20)]\n"
     ]
    },
    {
     "ename": "ValueError",
     "evalue": "dictionary update sequence element #0 has length 3; 2 is required",
     "output_type": "error",
     "traceback": [
      "\u001b[1;31m---------------------------------------------------------------------------\u001b[0m",
      "\u001b[1;31mValueError\u001b[0m                                Traceback (most recent call last)",
      "\u001b[1;32m~\\AppData\\Local\\Temp\\ipykernel_9996\\170719193.py\u001b[0m in \u001b[0;36m<module>\u001b[1;34m\u001b[0m\n\u001b[0;32m      5\u001b[0m \u001b[0mcombined\u001b[0m \u001b[1;33m=\u001b[0m \u001b[0mlist\u001b[0m\u001b[1;33m(\u001b[0m\u001b[0mzip\u001b[0m\u001b[1;33m(\u001b[0m\u001b[0mfruits\u001b[0m\u001b[1;33m,\u001b[0m \u001b[0mprices\u001b[0m\u001b[1;33m,\u001b[0m \u001b[0mquantities\u001b[0m\u001b[1;33m)\u001b[0m\u001b[1;33m)\u001b[0m\u001b[1;33m\u001b[0m\u001b[1;33m\u001b[0m\u001b[0m\n\u001b[0;32m      6\u001b[0m \u001b[0mprint\u001b[0m\u001b[1;33m(\u001b[0m\u001b[0mcombined\u001b[0m\u001b[1;33m)\u001b[0m\u001b[1;33m\u001b[0m\u001b[1;33m\u001b[0m\u001b[0m\n\u001b[1;32m----> 7\u001b[1;33m \u001b[0mmy_dict\u001b[0m \u001b[1;33m=\u001b[0m \u001b[0mdict\u001b[0m\u001b[1;33m(\u001b[0m\u001b[0mcombined\u001b[0m\u001b[1;33m)\u001b[0m\u001b[1;33m\u001b[0m\u001b[1;33m\u001b[0m\u001b[0m\n\u001b[0m\u001b[0;32m      8\u001b[0m \u001b[1;33m\u001b[0m\u001b[0m\n\u001b[0;32m      9\u001b[0m \u001b[0mprint\u001b[0m\u001b[1;33m(\u001b[0m\u001b[0mmy_dict\u001b[0m\u001b[1;33m)\u001b[0m\u001b[1;33m\u001b[0m\u001b[1;33m\u001b[0m\u001b[0m\n",
      "\u001b[1;31mValueError\u001b[0m: dictionary update sequence element #0 has length 3; 2 is required"
     ]
    }
   ],
   "source": [
    "fruits = ['apple', 'banana', 'orange']\n",
    "prices = [1.0, 1.5, 2.0]\n",
    "quantities = [10, 15, 20]\n",
    "\n",
    "combined = list(zip(fruits, prices, quantities))\n",
    "print(combined)\n",
    "my_dict = dict(combined)\n",
    "\n",
    "print(my_dict)\n"
   ]
  },
  {
   "cell_type": "code",
   "execution_count": 63,
   "id": "1ebd641c",
   "metadata": {},
   "outputs": [
    {
     "data": {
      "text/plain": [
       "{'Kamal': 'Hisar', 'Bhaskar': 'Ballabhgarh', 'Gupta ji': 'Gurgaon'}"
      ]
     },
     "execution_count": 63,
     "metadata": {},
     "output_type": "execute_result"
    }
   ],
   "source": [
    "dic1\n"
   ]
  },
  {
   "cell_type": "code",
   "execution_count": 75,
   "id": "5f5fc50c",
   "metadata": {},
   "outputs": [],
   "source": [
    "dic2 = {\"PinCode\" : [252557,565687,412154,425789,]}"
   ]
  },
  {
   "cell_type": "code",
   "execution_count": 76,
   "id": "55fdf423",
   "metadata": {},
   "outputs": [],
   "source": [
    "dic.update(dic2)"
   ]
  },
  {
   "cell_type": "code",
   "execution_count": 77,
   "id": "8aeeecb4",
   "metadata": {},
   "outputs": [
    {
     "data": {
      "text/plain": [
       "{'Name': ['Raj', 'Kamal', 'Bhaskar', 'Gupta ji'],\n",
       " 'Location': ['Punjab', 'Hisar', 'Ballabhgarh', 'Gurgaon'],\n",
       " 'Score': [35, 65, 74, 89],\n",
       " 'PinCode': [252557, 565687, 412154, 425789]}"
      ]
     },
     "execution_count": 77,
     "metadata": {},
     "output_type": "execute_result"
    }
   ],
   "source": [
    "dic"
   ]
  },
  {
   "cell_type": "markdown",
   "id": "45a46d91",
   "metadata": {},
   "source": [
    "## Sort an Array"
   ]
  },
  {
   "cell_type": "code",
   "execution_count": 78,
   "id": "75f2f25c",
   "metadata": {},
   "outputs": [
    {
     "data": {
      "text/plain": [
       "[1, 2, 5, 87, 9, 5, 8, 4, 6, 23, 5, 8]"
      ]
     },
     "execution_count": 78,
     "metadata": {},
     "output_type": "execute_result"
    }
   ],
   "source": [
    "x = [1,2,5,87,9,5,8,4,6,23,5,8]\n",
    "x"
   ]
  },
  {
   "cell_type": "code",
   "execution_count": 81,
   "id": "a95eb19a",
   "metadata": {},
   "outputs": [
    {
     "name": "stdout",
     "output_type": "stream",
     "text": [
      "[1, 2, 4, 5, 5, 5, 6, 8, 8, 9, 23, 87]\n"
     ]
    }
   ],
   "source": [
    "# soritng of Array in Ascending Order\n",
    "for i in range(len(x)):\n",
    "    for j in range(i+1, len(x)):\n",
    "        if x[i] > x[j]:\n",
    "            x[i],x[j] =x[j],x[i]\n",
    "print(x)"
   ]
  },
  {
   "cell_type": "code",
   "execution_count": 99,
   "id": "f098a19e",
   "metadata": {},
   "outputs": [],
   "source": [
    "# soritng of Array in Descsnding Order\n",
    "def sorR(x):\n",
    "    for i in range(len(x)):\n",
    "        for j in range(i+1, len(x)):\n",
    "            if x[i] < x[j]:\n",
    "                x[i],x[j] = x[j],x[i]\n"
   ]
  },
  {
   "cell_type": "code",
   "execution_count": 101,
   "id": "19b693b0",
   "metadata": {},
   "outputs": [
    {
     "name": "stdout",
     "output_type": "stream",
     "text": [
      "[87, 23, 9, 8, 8, 6, 5, 5, 5, 4, 2, 1]\n"
     ]
    }
   ],
   "source": [
    "x = [1,2,5,87,9,5,8,4,6,23,5,8]\n",
    "sorR(x)\n",
    "print(x)"
   ]
  },
  {
   "cell_type": "markdown",
   "id": "4cd34e15",
   "metadata": {},
   "source": [
    "### Reverse an String"
   ]
  },
  {
   "cell_type": "code",
   "execution_count": 105,
   "id": "8d8dbed3",
   "metadata": {},
   "outputs": [
    {
     "name": "stdout",
     "output_type": "stream",
     "text": [
      "iniaS nipiV\n"
     ]
    }
   ],
   "source": [
    "x = \"Vipin Saini\"\n",
    "\n",
    "rev= \"\"\n",
    "for i in range(len(x)-1,-1,-1):\n",
    "    rev+=x[i]\n",
    "print(rev)\n",
    "    "
   ]
  },
  {
   "cell_type": "code",
   "execution_count": 19,
   "id": "fdd68243",
   "metadata": {},
   "outputs": [
    {
     "name": "stdout",
     "output_type": "stream",
     "text": [
      "['Vipin', 'Saini']\n",
      "['Saini', 'Vipin']\n"
     ]
    }
   ],
   "source": [
    "x = \"Vipin Saini\"\n",
    "y = x.split(\" \")\n",
    "print(y)\n",
    "print(y[::-1])"
   ]
  },
  {
   "cell_type": "code",
   "execution_count": 20,
   "id": "27f7dcf2",
   "metadata": {},
   "outputs": [
    {
     "data": {
      "text/plain": [
       "'iniaS nipiV'"
      ]
     },
     "execution_count": 20,
     "metadata": {},
     "output_type": "execute_result"
    }
   ],
   "source": [
    "x = \"Vipin Saini\"\n",
    "x[::-1]\n"
   ]
  },
  {
   "cell_type": "code",
   "execution_count": 26,
   "id": "b660a7b1",
   "metadata": {},
   "outputs": [
    {
     "data": {
      "text/plain": [
       "'Saini Vipin'"
      ]
     },
     "execution_count": 26,
     "metadata": {},
     "output_type": "execute_result"
    }
   ],
   "source": [
    "x = \"Vipin Saini\"\n",
    "y = x.split(\" \")\n",
    "y = y[::-1]\n",
    "y = \" \".join(y)\n",
    "y"
   ]
  },
  {
   "cell_type": "markdown",
   "id": "5dec6fc3",
   "metadata": {},
   "source": [
    "### Index No."
   ]
  },
  {
   "cell_type": "code",
   "execution_count": 121,
   "id": "b442fa2a",
   "metadata": {},
   "outputs": [],
   "source": [
    "x = [87,9,5,8,4,6,23,5,8]"
   ]
  },
  {
   "cell_type": "code",
   "execution_count": 122,
   "id": "2a9edd71",
   "metadata": {},
   "outputs": [
    {
     "name": "stdout",
     "output_type": "stream",
     "text": [
      "0 87\n",
      "1 9\n",
      "2 5\n",
      "3 8\n",
      "4 4\n",
      "5 6\n",
      "6 23\n",
      "7 5\n",
      "8 8\n"
     ]
    }
   ],
   "source": [
    "for index,values in enumerate(x):\n",
    "    print(index,values)"
   ]
  },
  {
   "cell_type": "code",
   "execution_count": 2,
   "id": "070a7a13",
   "metadata": {},
   "outputs": [],
   "source": [
    "import pandas as pd\n",
    "import numpy as  np"
   ]
  },
  {
   "cell_type": "code",
   "execution_count": 125,
   "id": "ff715bc6",
   "metadata": {},
   "outputs": [],
   "source": [
    "y = pd.Series(x)"
   ]
  },
  {
   "cell_type": "code",
   "execution_count": 126,
   "id": "f234531c",
   "metadata": {},
   "outputs": [],
   "source": [
    "df = pd.Series(y)"
   ]
  },
  {
   "cell_type": "code",
   "execution_count": 128,
   "id": "23653c27",
   "metadata": {},
   "outputs": [
    {
     "data": {
      "text/plain": [
       "5     2\n",
       "8     2\n",
       "87    1\n",
       "9     1\n",
       "4     1\n",
       "6     1\n",
       "23    1\n",
       "dtype: int64"
      ]
     },
     "execution_count": 128,
     "metadata": {},
     "output_type": "execute_result"
    }
   ],
   "source": [
    "df.value_counts()"
   ]
  },
  {
   "cell_type": "code",
   "execution_count": 129,
   "id": "c26be107",
   "metadata": {},
   "outputs": [],
   "source": [
    "from collections import Counter"
   ]
  },
  {
   "cell_type": "code",
   "execution_count": 132,
   "id": "4f745a94",
   "metadata": {},
   "outputs": [
    {
     "data": {
      "text/plain": [
       "Counter({87: 1, 9: 1, 5: 2, 8: 2, 4: 1, 6: 1, 23: 1})"
      ]
     },
     "execution_count": 132,
     "metadata": {},
     "output_type": "execute_result"
    }
   ],
   "source": [
    "Counter(x)"
   ]
  },
  {
   "cell_type": "markdown",
   "id": "e6ae830b",
   "metadata": {},
   "source": [
    "### Sort the Dictionary in Ascending Order through Values"
   ]
  },
  {
   "cell_type": "code",
   "execution_count": 143,
   "id": "b29ad669",
   "metadata": {},
   "outputs": [],
   "source": [
    "lst1 = [\"A\",\"D\",\"B\",\"C\",\"T\"]\n",
    "lst2 = [2,4,8,75,6]"
   ]
  },
  {
   "cell_type": "code",
   "execution_count": 144,
   "id": "776b96df",
   "metadata": {},
   "outputs": [
    {
     "data": {
      "text/plain": [
       "{'A': 2, 'D': 4, 'B': 8, 'C': 75, 'T': 6}"
      ]
     },
     "execution_count": 144,
     "metadata": {},
     "output_type": "execute_result"
    }
   ],
   "source": [
    "dit = dict(zip(lst1,lst2))\n",
    "dit"
   ]
  },
  {
   "cell_type": "code",
   "execution_count": 149,
   "id": "12528eb7",
   "metadata": {},
   "outputs": [
    {
     "data": {
      "text/plain": [
       "{'A': 2, 'D': 4, 'T': 6, 'B': 8, 'C': 75}"
      ]
     },
     "execution_count": 149,
     "metadata": {},
     "output_type": "execute_result"
    }
   ],
   "source": [
    "sort = dict(sorted(dit.items(), key = lambda x:x[1]))\n",
    "sort"
   ]
  },
  {
   "cell_type": "markdown",
   "id": "9039e5b0",
   "metadata": {},
   "source": [
    "### Sort the Dictionary in Ascending Order through Keys"
   ]
  },
  {
   "cell_type": "code",
   "execution_count": 150,
   "id": "f87ccd69",
   "metadata": {},
   "outputs": [
    {
     "data": {
      "text/plain": [
       "{'A': 2, 'B': 8, 'C': 75, 'D': 4, 'T': 6}"
      ]
     },
     "execution_count": 150,
     "metadata": {},
     "output_type": "execute_result"
    }
   ],
   "source": [
    "sort = dict(sorted(dit.items()))\n",
    "sort"
   ]
  },
  {
   "cell_type": "markdown",
   "id": "994702f5",
   "metadata": {},
   "source": [
    "### Sort the Dictionary in Descending Order through Keys"
   ]
  },
  {
   "cell_type": "code",
   "execution_count": 151,
   "id": "9cb15b03",
   "metadata": {},
   "outputs": [
    {
     "data": {
      "text/plain": [
       "{'T': 6, 'D': 4, 'C': 75, 'B': 8, 'A': 2}"
      ]
     },
     "execution_count": 151,
     "metadata": {},
     "output_type": "execute_result"
    }
   ],
   "source": [
    "sort = dict(sorted(dit.items(), reverse = True))\n",
    "sort"
   ]
  },
  {
   "cell_type": "markdown",
   "id": "4eb5ae76",
   "metadata": {},
   "source": [
    "### Empty Array"
   ]
  },
  {
   "cell_type": "code",
   "execution_count": 154,
   "id": "a31dd3a2",
   "metadata": {},
   "outputs": [
    {
     "data": {
      "text/plain": [
       "array([0, 0, 0, 0, 0])"
      ]
     },
     "execution_count": 154,
     "metadata": {},
     "output_type": "execute_result"
    }
   ],
   "source": [
    "x = np.zeros(5,int)\n",
    "x"
   ]
  },
  {
   "cell_type": "code",
   "execution_count": 155,
   "id": "1ee62c07",
   "metadata": {},
   "outputs": [
    {
     "data": {
      "text/plain": [
       "array([0, 0, 5, 0, 0])"
      ]
     },
     "execution_count": 155,
     "metadata": {},
     "output_type": "execute_result"
    }
   ],
   "source": [
    "x[2] = 5\n",
    "x"
   ]
  },
  {
   "cell_type": "code",
   "execution_count": 156,
   "id": "9adf0995",
   "metadata": {},
   "outputs": [
    {
     "data": {
      "text/plain": [
       "array([[0.01537018, 0.79854675, 0.36743878, 0.77230883, 0.70512396],\n",
       "       [0.87762598, 0.28169666, 0.86562425, 0.19204888, 0.96201669]])"
      ]
     },
     "execution_count": 156,
     "metadata": {},
     "output_type": "execute_result"
    }
   ],
   "source": [
    "x = np.random.rand(2,5)\n",
    "x"
   ]
  },
  {
   "cell_type": "code",
   "execution_count": 164,
   "id": "35de83ff",
   "metadata": {},
   "outputs": [
    {
     "data": {
      "text/plain": [
       "2"
      ]
     },
     "execution_count": 164,
     "metadata": {},
     "output_type": "execute_result"
    }
   ],
   "source": [
    "x = np.random.randint(2,5)\n",
    "x"
   ]
  },
  {
   "cell_type": "code",
   "execution_count": 166,
   "id": "b53e3bbd",
   "metadata": {},
   "outputs": [
    {
     "data": {
      "text/plain": [
       "array([4, 4, 3, 4, 4])"
      ]
     },
     "execution_count": 166,
     "metadata": {},
     "output_type": "execute_result"
    }
   ],
   "source": [
    "x = np.random.randint(2,5, size =(5))\n",
    "x"
   ]
  },
  {
   "cell_type": "code",
   "execution_count": 168,
   "id": "89d1329b",
   "metadata": {},
   "outputs": [
    {
     "data": {
      "text/plain": [
       "array([[3, 2, 2, 4],\n",
       "       [4, 4, 3, 2],\n",
       "       [2, 3, 3, 4],\n",
       "       [3, 4, 2, 3]])"
      ]
     },
     "execution_count": 168,
     "metadata": {},
     "output_type": "execute_result"
    }
   ],
   "source": [
    "x = np.random.randint(2,5, size =(4,4))\n",
    "x"
   ]
  },
  {
   "cell_type": "code",
   "execution_count": 167,
   "id": "df93b4a6",
   "metadata": {},
   "outputs": [
    {
     "data": {
      "text/plain": [
       "array([3, 4, 4, 4, 4])"
      ]
     },
     "execution_count": 167,
     "metadata": {},
     "output_type": "execute_result"
    }
   ],
   "source": [
    "np.sort(x)"
   ]
  },
  {
   "cell_type": "code",
   "execution_count": 169,
   "id": "e2a9d6bb",
   "metadata": {},
   "outputs": [
    {
     "data": {
      "text/plain": [
       "31.0"
      ]
     },
     "execution_count": 169,
     "metadata": {},
     "output_type": "execute_result"
    }
   ],
   "source": [
    "y = np.linalg.det(x)\n",
    "y"
   ]
  },
  {
   "cell_type": "code",
   "execution_count": 170,
   "id": "dd07bc2a",
   "metadata": {},
   "outputs": [
    {
     "data": {
      "text/plain": [
       "array([[ 0.41935484,  0.25806452, -0.4516129 , -0.12903226],\n",
       "       [-0.38709677, -0.16129032,  0.03225806,  0.58064516],\n",
       "       [-0.19354839,  0.41935484,  0.51612903, -0.70967742],\n",
       "       [ 0.22580645, -0.32258065,  0.06451613,  0.16129032]])"
      ]
     },
     "execution_count": 170,
     "metadata": {},
     "output_type": "execute_result"
    }
   ],
   "source": [
    "y = np.linalg.inv(x)\n",
    "y"
   ]
  },
  {
   "cell_type": "markdown",
   "id": "b2c2b439",
   "metadata": {},
   "source": [
    "### Create a 3x3 matrix with values ranging from 0 to 8"
   ]
  },
  {
   "cell_type": "code",
   "execution_count": 173,
   "id": "ee352b89",
   "metadata": {},
   "outputs": [
    {
     "data": {
      "text/plain": [
       "array([[0, 1, 2],\n",
       "       [3, 4, 5],\n",
       "       [6, 7, 8]])"
      ]
     },
     "execution_count": 173,
     "metadata": {},
     "output_type": "execute_result"
    }
   ],
   "source": [
    "x = np.arange(0,9).reshape(3,3)\n",
    "x"
   ]
  },
  {
   "cell_type": "code",
   "execution_count": 174,
   "id": "1ca80611",
   "metadata": {},
   "outputs": [
    {
     "data": {
      "text/plain": [
       "array([[6, 7, 8],\n",
       "       [3, 4, 5],\n",
       "       [0, 1, 2]])"
      ]
     },
     "execution_count": 174,
     "metadata": {},
     "output_type": "execute_result"
    }
   ],
   "source": [
    "np.flip(x, axis = 0)"
   ]
  },
  {
   "cell_type": "code",
   "execution_count": 175,
   "id": "ee829d48",
   "metadata": {},
   "outputs": [
    {
     "data": {
      "text/plain": [
       "array([[2, 1, 0],\n",
       "       [5, 4, 3],\n",
       "       [8, 7, 6]])"
      ]
     },
     "execution_count": 175,
     "metadata": {},
     "output_type": "execute_result"
    }
   ],
   "source": [
    "np.flip(x, axis = 1)"
   ]
  },
  {
   "cell_type": "code",
   "execution_count": 176,
   "id": "cb37b414",
   "metadata": {},
   "outputs": [
    {
     "data": {
      "text/plain": [
       "array([[2, 5],\n",
       "       [8, 7]])"
      ]
     },
     "execution_count": 176,
     "metadata": {},
     "output_type": "execute_result"
    }
   ],
   "source": [
    "x = np.array([[2,5],[8,7]])\n",
    "x"
   ]
  },
  {
   "cell_type": "code",
   "execution_count": 180,
   "id": "4aa14ac9",
   "metadata": {},
   "outputs": [
    {
     "data": {
      "text/plain": [
       "array([7, 7, 3, 5, 8, 2])"
      ]
     },
     "execution_count": 180,
     "metadata": {},
     "output_type": "execute_result"
    }
   ],
   "source": [
    "x = np.random.randint(2,9, size =(6))\n",
    "x"
   ]
  },
  {
   "cell_type": "code",
   "execution_count": 182,
   "id": "0264bda7",
   "metadata": {},
   "outputs": [
    {
     "data": {
      "text/plain": [
       "array([ 7,  7,  3,  5, 15,  2])"
      ]
     },
     "execution_count": 182,
     "metadata": {},
     "output_type": "execute_result"
    }
   ],
   "source": [
    "x[x.argmax()] = 15\n",
    "x"
   ]
  },
  {
   "cell_type": "code",
   "execution_count": 228,
   "id": "82e900b8",
   "metadata": {},
   "outputs": [
    {
     "data": {
      "text/plain": [
       "{'Week Day': ['Mon', 'Tue', 'Wed', 'Thu', 'Fri'],\n",
       " 'Subject': ['Chemisry', 'Physics', 'Maths', 'English', 'Biology'],\n",
       " 'Time': ['2 PM', '10 AM', '11 AM', '1 PM', '3 PM']}"
      ]
     },
     "execution_count": 228,
     "metadata": {},
     "output_type": "execute_result"
    }
   ],
   "source": [
    "x = {'Week Day': ['Mon', 'Tue', 'Wed','Thu', 'Fri'],\n",
    "     'Subject': ['Chemisry','Physics','Maths','English','Biology'],\n",
    "     'Time': ['2 PM', '10 AM', '11 AM','1 PM', '3 PM']}\n",
    "x"
   ]
  },
  {
   "cell_type": "code",
   "execution_count": 229,
   "id": "c568e2af",
   "metadata": {},
   "outputs": [
    {
     "data": {
      "text/html": [
       "<div>\n",
       "<style scoped>\n",
       "    .dataframe tbody tr th:only-of-type {\n",
       "        vertical-align: middle;\n",
       "    }\n",
       "\n",
       "    .dataframe tbody tr th {\n",
       "        vertical-align: top;\n",
       "    }\n",
       "\n",
       "    .dataframe thead th {\n",
       "        text-align: right;\n",
       "    }\n",
       "</style>\n",
       "<table border=\"1\" class=\"dataframe\">\n",
       "  <thead>\n",
       "    <tr style=\"text-align: right;\">\n",
       "      <th></th>\n",
       "      <th>Week Day</th>\n",
       "      <th>Subject</th>\n",
       "      <th>Time</th>\n",
       "    </tr>\n",
       "  </thead>\n",
       "  <tbody>\n",
       "    <tr>\n",
       "      <th>0</th>\n",
       "      <td>Mon</td>\n",
       "      <td>Chemisry</td>\n",
       "      <td>2 PM</td>\n",
       "    </tr>\n",
       "    <tr>\n",
       "      <th>1</th>\n",
       "      <td>Tue</td>\n",
       "      <td>Physics</td>\n",
       "      <td>10 AM</td>\n",
       "    </tr>\n",
       "    <tr>\n",
       "      <th>2</th>\n",
       "      <td>Wed</td>\n",
       "      <td>Maths</td>\n",
       "      <td>11 AM</td>\n",
       "    </tr>\n",
       "    <tr>\n",
       "      <th>3</th>\n",
       "      <td>Thu</td>\n",
       "      <td>English</td>\n",
       "      <td>1 PM</td>\n",
       "    </tr>\n",
       "    <tr>\n",
       "      <th>4</th>\n",
       "      <td>Fri</td>\n",
       "      <td>Biology</td>\n",
       "      <td>3 PM</td>\n",
       "    </tr>\n",
       "  </tbody>\n",
       "</table>\n",
       "</div>"
      ],
      "text/plain": [
       "  Week Day   Subject   Time\n",
       "0      Mon  Chemisry   2 PM\n",
       "1      Tue   Physics  10 AM\n",
       "2      Wed     Maths  11 AM\n",
       "3      Thu   English   1 PM\n",
       "4      Fri   Biology   3 PM"
      ]
     },
     "execution_count": 229,
     "metadata": {},
     "output_type": "execute_result"
    }
   ],
   "source": [
    "df = pd.DataFrame(x)\n",
    "df"
   ]
  },
  {
   "cell_type": "code",
   "execution_count": 230,
   "id": "ef96add0",
   "metadata": {},
   "outputs": [
    {
     "data": {
      "text/html": [
       "<div>\n",
       "<style scoped>\n",
       "    .dataframe tbody tr th:only-of-type {\n",
       "        vertical-align: middle;\n",
       "    }\n",
       "\n",
       "    .dataframe tbody tr th {\n",
       "        vertical-align: top;\n",
       "    }\n",
       "\n",
       "    .dataframe thead th {\n",
       "        text-align: right;\n",
       "    }\n",
       "</style>\n",
       "<table border=\"1\" class=\"dataframe\">\n",
       "  <thead>\n",
       "    <tr style=\"text-align: right;\">\n",
       "      <th></th>\n",
       "      <th>Week Day</th>\n",
       "      <th>Subject</th>\n",
       "      <th>Time</th>\n",
       "      <th>Weekend</th>\n",
       "    </tr>\n",
       "  </thead>\n",
       "  <tbody>\n",
       "    <tr>\n",
       "      <th>0</th>\n",
       "      <td>Mon</td>\n",
       "      <td>Chemisry</td>\n",
       "      <td>2 PM</td>\n",
       "      <td>5.0</td>\n",
       "    </tr>\n",
       "    <tr>\n",
       "      <th>1</th>\n",
       "      <td>Tue</td>\n",
       "      <td>Physics</td>\n",
       "      <td>10 AM</td>\n",
       "      <td>8.0</td>\n",
       "    </tr>\n",
       "    <tr>\n",
       "      <th>2</th>\n",
       "      <td>Wed</td>\n",
       "      <td>Maths</td>\n",
       "      <td>11 AM</td>\n",
       "      <td>7.0</td>\n",
       "    </tr>\n",
       "    <tr>\n",
       "      <th>3</th>\n",
       "      <td>Thu</td>\n",
       "      <td>English</td>\n",
       "      <td>1 PM</td>\n",
       "      <td>NaN</td>\n",
       "    </tr>\n",
       "    <tr>\n",
       "      <th>4</th>\n",
       "      <td>Fri</td>\n",
       "      <td>Biology</td>\n",
       "      <td>3 PM</td>\n",
       "      <td>NaN</td>\n",
       "    </tr>\n",
       "  </tbody>\n",
       "</table>\n",
       "</div>"
      ],
      "text/plain": [
       "  Week Day   Subject   Time  Weekend\n",
       "0      Mon  Chemisry   2 PM      5.0\n",
       "1      Tue   Physics  10 AM      8.0\n",
       "2      Wed     Maths  11 AM      7.0\n",
       "3      Thu   English   1 PM      NaN\n",
       "4      Fri   Biology   3 PM      NaN"
      ]
     },
     "execution_count": 230,
     "metadata": {},
     "output_type": "execute_result"
    }
   ],
   "source": [
    "df[\"Weekend\"] = pd.Series([5,8,7])\n",
    "df"
   ]
  },
  {
   "cell_type": "code",
   "execution_count": 231,
   "id": "aca9050b",
   "metadata": {},
   "outputs": [
    {
     "data": {
      "text/html": [
       "<div>\n",
       "<style scoped>\n",
       "    .dataframe tbody tr th:only-of-type {\n",
       "        vertical-align: middle;\n",
       "    }\n",
       "\n",
       "    .dataframe tbody tr th {\n",
       "        vertical-align: top;\n",
       "    }\n",
       "\n",
       "    .dataframe thead th {\n",
       "        text-align: right;\n",
       "    }\n",
       "</style>\n",
       "<table border=\"1\" class=\"dataframe\">\n",
       "  <thead>\n",
       "    <tr style=\"text-align: right;\">\n",
       "      <th></th>\n",
       "      <th>Week Day</th>\n",
       "      <th>sub</th>\n",
       "      <th>Time</th>\n",
       "      <th>Weekend</th>\n",
       "    </tr>\n",
       "  </thead>\n",
       "  <tbody>\n",
       "    <tr>\n",
       "      <th>0</th>\n",
       "      <td>Mon</td>\n",
       "      <td>Chemisry</td>\n",
       "      <td>2 PM</td>\n",
       "      <td>5.0</td>\n",
       "    </tr>\n",
       "    <tr>\n",
       "      <th>1</th>\n",
       "      <td>Tue</td>\n",
       "      <td>Physics</td>\n",
       "      <td>10 AM</td>\n",
       "      <td>8.0</td>\n",
       "    </tr>\n",
       "    <tr>\n",
       "      <th>2</th>\n",
       "      <td>Wed</td>\n",
       "      <td>Maths</td>\n",
       "      <td>11 AM</td>\n",
       "      <td>7.0</td>\n",
       "    </tr>\n",
       "    <tr>\n",
       "      <th>3</th>\n",
       "      <td>Thu</td>\n",
       "      <td>English</td>\n",
       "      <td>1 PM</td>\n",
       "      <td>NaN</td>\n",
       "    </tr>\n",
       "    <tr>\n",
       "      <th>4</th>\n",
       "      <td>Fri</td>\n",
       "      <td>Biology</td>\n",
       "      <td>3 PM</td>\n",
       "      <td>NaN</td>\n",
       "    </tr>\n",
       "  </tbody>\n",
       "</table>\n",
       "</div>"
      ],
      "text/plain": [
       "  Week Day       sub   Time  Weekend\n",
       "0      Mon  Chemisry   2 PM      5.0\n",
       "1      Tue   Physics  10 AM      8.0\n",
       "2      Wed     Maths  11 AM      7.0\n",
       "3      Thu   English   1 PM      NaN\n",
       "4      Fri   Biology   3 PM      NaN"
      ]
     },
     "execution_count": 231,
     "metadata": {},
     "output_type": "execute_result"
    }
   ],
   "source": [
    "df.rename({\"Subject\": \"sub\"},axis = 1)"
   ]
  },
  {
   "cell_type": "code",
   "execution_count": 232,
   "id": "b9dc2f39",
   "metadata": {},
   "outputs": [
    {
     "data": {
      "text/html": [
       "<div>\n",
       "<style scoped>\n",
       "    .dataframe tbody tr th:only-of-type {\n",
       "        vertical-align: middle;\n",
       "    }\n",
       "\n",
       "    .dataframe tbody tr th {\n",
       "        vertical-align: top;\n",
       "    }\n",
       "\n",
       "    .dataframe thead th {\n",
       "        text-align: right;\n",
       "    }\n",
       "</style>\n",
       "<table border=\"1\" class=\"dataframe\">\n",
       "  <thead>\n",
       "    <tr style=\"text-align: right;\">\n",
       "      <th></th>\n",
       "      <th>Week Day</th>\n",
       "      <th>Subject</th>\n",
       "      <th>Time</th>\n",
       "      <th>Weekend</th>\n",
       "    </tr>\n",
       "  </thead>\n",
       "  <tbody>\n",
       "    <tr>\n",
       "      <th>Hero</th>\n",
       "      <td>Mon</td>\n",
       "      <td>Chemisry</td>\n",
       "      <td>2 PM</td>\n",
       "      <td>5.0</td>\n",
       "    </tr>\n",
       "    <tr>\n",
       "      <th>1</th>\n",
       "      <td>Tue</td>\n",
       "      <td>Physics</td>\n",
       "      <td>10 AM</td>\n",
       "      <td>8.0</td>\n",
       "    </tr>\n",
       "    <tr>\n",
       "      <th>2</th>\n",
       "      <td>Wed</td>\n",
       "      <td>Maths</td>\n",
       "      <td>11 AM</td>\n",
       "      <td>7.0</td>\n",
       "    </tr>\n",
       "    <tr>\n",
       "      <th>3</th>\n",
       "      <td>Thu</td>\n",
       "      <td>English</td>\n",
       "      <td>1 PM</td>\n",
       "      <td>NaN</td>\n",
       "    </tr>\n",
       "    <tr>\n",
       "      <th>4</th>\n",
       "      <td>Fri</td>\n",
       "      <td>Biology</td>\n",
       "      <td>3 PM</td>\n",
       "      <td>NaN</td>\n",
       "    </tr>\n",
       "  </tbody>\n",
       "</table>\n",
       "</div>"
      ],
      "text/plain": [
       "     Week Day   Subject   Time  Weekend\n",
       "Hero      Mon  Chemisry   2 PM      5.0\n",
       "1         Tue   Physics  10 AM      8.0\n",
       "2         Wed     Maths  11 AM      7.0\n",
       "3         Thu   English   1 PM      NaN\n",
       "4         Fri   Biology   3 PM      NaN"
      ]
     },
     "execution_count": 232,
     "metadata": {},
     "output_type": "execute_result"
    }
   ],
   "source": [
    "df.rename({0: \"Hero\"}, axis = 0)"
   ]
  },
  {
   "cell_type": "code",
   "execution_count": 233,
   "id": "002f2b28",
   "metadata": {},
   "outputs": [
    {
     "data": {
      "text/plain": [
       "array([['Mon', 'Chemisry', '2 PM', 5.0],\n",
       "       ['Tue', 'Physics', '10 AM', 8.0],\n",
       "       ['Wed', 'Maths', '11 AM', 7.0],\n",
       "       ['Thu', 'English', '1 PM', nan],\n",
       "       ['Fri', 'Biology', '3 PM', nan]], dtype=object)"
      ]
     },
     "execution_count": 233,
     "metadata": {},
     "output_type": "execute_result"
    }
   ],
   "source": [
    "df.to_numpy()"
   ]
  },
  {
   "cell_type": "code",
   "execution_count": 194,
   "id": "ef8f3d01",
   "metadata": {},
   "outputs": [
    {
     "data": {
      "text/plain": [
       "[['Mon', 'Chemisry', '2 PM', 5.0],\n",
       " ['Tue', 'Physics', '10 AM', 8.0],\n",
       " ['Wed', 'Maths', '11 AM', 7.0],\n",
       " ['Thu', 'English', '1 PM', nan],\n",
       " ['Fri', 'Biology', '3 PM', nan]]"
      ]
     },
     "execution_count": 194,
     "metadata": {},
     "output_type": "execute_result"
    }
   ],
   "source": [
    "df.to_numpy().tolist()"
   ]
  },
  {
   "cell_type": "code",
   "execution_count": 234,
   "id": "08239728",
   "metadata": {},
   "outputs": [
    {
     "data": {
      "text/html": [
       "<div>\n",
       "<style scoped>\n",
       "    .dataframe tbody tr th:only-of-type {\n",
       "        vertical-align: middle;\n",
       "    }\n",
       "\n",
       "    .dataframe tbody tr th {\n",
       "        vertical-align: top;\n",
       "    }\n",
       "\n",
       "    .dataframe thead th {\n",
       "        text-align: right;\n",
       "    }\n",
       "</style>\n",
       "<table border=\"1\" class=\"dataframe\">\n",
       "  <thead>\n",
       "    <tr style=\"text-align: right;\">\n",
       "      <th></th>\n",
       "      <th>Week Day</th>\n",
       "      <th>Subject</th>\n",
       "      <th>Time</th>\n",
       "      <th>Weekend</th>\n",
       "    </tr>\n",
       "  </thead>\n",
       "  <tbody>\n",
       "    <tr>\n",
       "      <th>0</th>\n",
       "      <td>Mon</td>\n",
       "      <td>Chemisry</td>\n",
       "      <td>2 PM</td>\n",
       "      <td>5.0</td>\n",
       "    </tr>\n",
       "    <tr>\n",
       "      <th>1</th>\n",
       "      <td>Tue</td>\n",
       "      <td>Physics</td>\n",
       "      <td>10 AM</td>\n",
       "      <td>8.0</td>\n",
       "    </tr>\n",
       "    <tr>\n",
       "      <th>2</th>\n",
       "      <td>Wed</td>\n",
       "      <td>Maths</td>\n",
       "      <td>11 AM</td>\n",
       "      <td>7.0</td>\n",
       "    </tr>\n",
       "    <tr>\n",
       "      <th>3</th>\n",
       "      <td>Thu</td>\n",
       "      <td>English</td>\n",
       "      <td>1 PM</td>\n",
       "      <td>NaN</td>\n",
       "    </tr>\n",
       "    <tr>\n",
       "      <th>4</th>\n",
       "      <td>Fri</td>\n",
       "      <td>Biology</td>\n",
       "      <td>3 PM</td>\n",
       "      <td>NaN</td>\n",
       "    </tr>\n",
       "  </tbody>\n",
       "</table>\n",
       "</div>"
      ],
      "text/plain": [
       "  Week Day   Subject   Time  Weekend\n",
       "0      Mon  Chemisry   2 PM      5.0\n",
       "1      Tue   Physics  10 AM      8.0\n",
       "2      Wed     Maths  11 AM      7.0\n",
       "3      Thu   English   1 PM      NaN\n",
       "4      Fri   Biology   3 PM      NaN"
      ]
     },
     "execution_count": 234,
     "metadata": {},
     "output_type": "execute_result"
    }
   ],
   "source": [
    "df"
   ]
  },
  {
   "cell_type": "code",
   "execution_count": 199,
   "id": "8200a7c9",
   "metadata": {},
   "outputs": [
    {
     "data": {
      "text/html": [
       "<div>\n",
       "<style scoped>\n",
       "    .dataframe tbody tr th:only-of-type {\n",
       "        vertical-align: middle;\n",
       "    }\n",
       "\n",
       "    .dataframe tbody tr th {\n",
       "        vertical-align: top;\n",
       "    }\n",
       "\n",
       "    .dataframe thead th {\n",
       "        text-align: right;\n",
       "    }\n",
       "</style>\n",
       "<table border=\"1\" class=\"dataframe\">\n",
       "  <thead>\n",
       "    <tr style=\"text-align: right;\">\n",
       "      <th></th>\n",
       "      <th>Subject</th>\n",
       "      <th>Weekend</th>\n",
       "      <th>0</th>\n",
       "    </tr>\n",
       "  </thead>\n",
       "  <tbody>\n",
       "    <tr>\n",
       "      <th>0</th>\n",
       "      <td>Chemisry</td>\n",
       "      <td>5.0</td>\n",
       "      <td>1</td>\n",
       "    </tr>\n",
       "    <tr>\n",
       "      <th>1</th>\n",
       "      <td>Maths</td>\n",
       "      <td>7.0</td>\n",
       "      <td>1</td>\n",
       "    </tr>\n",
       "    <tr>\n",
       "      <th>2</th>\n",
       "      <td>Physics</td>\n",
       "      <td>8.0</td>\n",
       "      <td>1</td>\n",
       "    </tr>\n",
       "  </tbody>\n",
       "</table>\n",
       "</div>"
      ],
      "text/plain": [
       "    Subject  Weekend  0\n",
       "0  Chemisry      5.0  1\n",
       "1     Maths      7.0  1\n",
       "2   Physics      8.0  1"
      ]
     },
     "execution_count": 199,
     "metadata": {},
     "output_type": "execute_result"
    }
   ],
   "source": [
    "df1 = df.groupby([\"Subject\",\"Weekend\"]).size().reset_index()\n",
    "df1"
   ]
  },
  {
   "cell_type": "code",
   "execution_count": 200,
   "id": "37f9534f",
   "metadata": {},
   "outputs": [
    {
     "data": {
      "text/html": [
       "<div>\n",
       "<style scoped>\n",
       "    .dataframe tbody tr th:only-of-type {\n",
       "        vertical-align: middle;\n",
       "    }\n",
       "\n",
       "    .dataframe tbody tr th {\n",
       "        vertical-align: top;\n",
       "    }\n",
       "\n",
       "    .dataframe thead th {\n",
       "        text-align: right;\n",
       "    }\n",
       "</style>\n",
       "<table border=\"1\" class=\"dataframe\">\n",
       "  <thead>\n",
       "    <tr style=\"text-align: right;\">\n",
       "      <th></th>\n",
       "      <th>Subject</th>\n",
       "      <th>Weekend</th>\n",
       "    </tr>\n",
       "  </thead>\n",
       "  <tbody>\n",
       "    <tr>\n",
       "      <th>0</th>\n",
       "      <td>Chemisry</td>\n",
       "      <td>5.0</td>\n",
       "    </tr>\n",
       "    <tr>\n",
       "      <th>1</th>\n",
       "      <td>Maths</td>\n",
       "      <td>7.0</td>\n",
       "    </tr>\n",
       "    <tr>\n",
       "      <th>2</th>\n",
       "      <td>Physics</td>\n",
       "      <td>8.0</td>\n",
       "    </tr>\n",
       "  </tbody>\n",
       "</table>\n",
       "</div>"
      ],
      "text/plain": [
       "    Subject  Weekend\n",
       "0  Chemisry      5.0\n",
       "1     Maths      7.0\n",
       "2   Physics      8.0"
      ]
     },
     "execution_count": 200,
     "metadata": {},
     "output_type": "execute_result"
    }
   ],
   "source": [
    "df1.drop(0, axis = 1)"
   ]
  },
  {
   "cell_type": "code",
   "execution_count": 201,
   "id": "8b35feb7",
   "metadata": {},
   "outputs": [
    {
     "data": {
      "text/html": [
       "<div>\n",
       "<style scoped>\n",
       "    .dataframe tbody tr th:only-of-type {\n",
       "        vertical-align: middle;\n",
       "    }\n",
       "\n",
       "    .dataframe tbody tr th {\n",
       "        vertical-align: top;\n",
       "    }\n",
       "\n",
       "    .dataframe thead th {\n",
       "        text-align: right;\n",
       "    }\n",
       "</style>\n",
       "<table border=\"1\" class=\"dataframe\">\n",
       "  <thead>\n",
       "    <tr style=\"text-align: right;\">\n",
       "      <th></th>\n",
       "      <th>Week Day</th>\n",
       "      <th>Subject</th>\n",
       "      <th>Time</th>\n",
       "      <th>Weekend</th>\n",
       "    </tr>\n",
       "  </thead>\n",
       "  <tbody>\n",
       "    <tr>\n",
       "      <th>0</th>\n",
       "      <td>Mon</td>\n",
       "      <td>Chemisry</td>\n",
       "      <td>2 PM</td>\n",
       "      <td>5.0</td>\n",
       "    </tr>\n",
       "    <tr>\n",
       "      <th>1</th>\n",
       "      <td>Tue</td>\n",
       "      <td>Physics</td>\n",
       "      <td>10 AM</td>\n",
       "      <td>8.0</td>\n",
       "    </tr>\n",
       "    <tr>\n",
       "      <th>2</th>\n",
       "      <td>Wed</td>\n",
       "      <td>Maths</td>\n",
       "      <td>11 AM</td>\n",
       "      <td>7.0</td>\n",
       "    </tr>\n",
       "    <tr>\n",
       "      <th>3</th>\n",
       "      <td>Thu</td>\n",
       "      <td>English</td>\n",
       "      <td>1 PM</td>\n",
       "      <td>NaN</td>\n",
       "    </tr>\n",
       "    <tr>\n",
       "      <th>4</th>\n",
       "      <td>Fri</td>\n",
       "      <td>Biology</td>\n",
       "      <td>3 PM</td>\n",
       "      <td>NaN</td>\n",
       "    </tr>\n",
       "  </tbody>\n",
       "</table>\n",
       "</div>"
      ],
      "text/plain": [
       "  Week Day   Subject   Time  Weekend\n",
       "0      Mon  Chemisry   2 PM      5.0\n",
       "1      Tue   Physics  10 AM      8.0\n",
       "2      Wed     Maths  11 AM      7.0\n",
       "3      Thu   English   1 PM      NaN\n",
       "4      Fri   Biology   3 PM      NaN"
      ]
     },
     "execution_count": 201,
     "metadata": {},
     "output_type": "execute_result"
    }
   ],
   "source": [
    "df"
   ]
  },
  {
   "cell_type": "code",
   "execution_count": 235,
   "id": "af426a26",
   "metadata": {},
   "outputs": [
    {
     "data": {
      "text/plain": [
       "7.0"
      ]
     },
     "execution_count": 235,
     "metadata": {},
     "output_type": "execute_result"
    }
   ],
   "source": [
    "df[\"Weekend\"].median()"
   ]
  },
  {
   "cell_type": "code",
   "execution_count": 236,
   "id": "46a1665b",
   "metadata": {},
   "outputs": [
    {
     "data": {
      "text/html": [
       "<div>\n",
       "<style scoped>\n",
       "    .dataframe tbody tr th:only-of-type {\n",
       "        vertical-align: middle;\n",
       "    }\n",
       "\n",
       "    .dataframe tbody tr th {\n",
       "        vertical-align: top;\n",
       "    }\n",
       "\n",
       "    .dataframe thead th {\n",
       "        text-align: right;\n",
       "    }\n",
       "</style>\n",
       "<table border=\"1\" class=\"dataframe\">\n",
       "  <thead>\n",
       "    <tr style=\"text-align: right;\">\n",
       "      <th></th>\n",
       "      <th>Week Day</th>\n",
       "      <th>Subject</th>\n",
       "      <th>Time</th>\n",
       "      <th>Weekend</th>\n",
       "    </tr>\n",
       "  </thead>\n",
       "  <tbody>\n",
       "    <tr>\n",
       "      <th>0</th>\n",
       "      <td>Mon</td>\n",
       "      <td>Chemisry</td>\n",
       "      <td>2 PM</td>\n",
       "      <td>5.0</td>\n",
       "    </tr>\n",
       "    <tr>\n",
       "      <th>1</th>\n",
       "      <td>Tue</td>\n",
       "      <td>Physics</td>\n",
       "      <td>10 AM</td>\n",
       "      <td>8.0</td>\n",
       "    </tr>\n",
       "    <tr>\n",
       "      <th>2</th>\n",
       "      <td>Wed</td>\n",
       "      <td>Maths</td>\n",
       "      <td>11 AM</td>\n",
       "      <td>7.0</td>\n",
       "    </tr>\n",
       "    <tr>\n",
       "      <th>3</th>\n",
       "      <td>Thu</td>\n",
       "      <td>English</td>\n",
       "      <td>1 PM</td>\n",
       "      <td>7.0</td>\n",
       "    </tr>\n",
       "    <tr>\n",
       "      <th>4</th>\n",
       "      <td>Fri</td>\n",
       "      <td>Biology</td>\n",
       "      <td>3 PM</td>\n",
       "      <td>7.0</td>\n",
       "    </tr>\n",
       "  </tbody>\n",
       "</table>\n",
       "</div>"
      ],
      "text/plain": [
       "  Week Day   Subject   Time  Weekend\n",
       "0      Mon  Chemisry   2 PM      5.0\n",
       "1      Tue   Physics  10 AM      8.0\n",
       "2      Wed     Maths  11 AM      7.0\n",
       "3      Thu   English   1 PM      7.0\n",
       "4      Fri   Biology   3 PM      7.0"
      ]
     },
     "execution_count": 236,
     "metadata": {},
     "output_type": "execute_result"
    }
   ],
   "source": [
    "df[\"Weekend\"] = df[\"Weekend\"].fillna(df[\"Weekend\"].median())\n",
    "df"
   ]
  },
  {
   "cell_type": "code",
   "execution_count": 237,
   "id": "538afecd",
   "metadata": {},
   "outputs": [
    {
     "data": {
      "text/html": [
       "<div>\n",
       "<style scoped>\n",
       "    .dataframe tbody tr th:only-of-type {\n",
       "        vertical-align: middle;\n",
       "    }\n",
       "\n",
       "    .dataframe tbody tr th {\n",
       "        vertical-align: top;\n",
       "    }\n",
       "\n",
       "    .dataframe thead th {\n",
       "        text-align: right;\n",
       "    }\n",
       "</style>\n",
       "<table border=\"1\" class=\"dataframe\">\n",
       "  <thead>\n",
       "    <tr style=\"text-align: right;\">\n",
       "      <th></th>\n",
       "      <th>Week Day</th>\n",
       "      <th>Subject</th>\n",
       "      <th>Time</th>\n",
       "      <th>Weekend</th>\n",
       "      <th>Score</th>\n",
       "    </tr>\n",
       "  </thead>\n",
       "  <tbody>\n",
       "    <tr>\n",
       "      <th>0</th>\n",
       "      <td>Mon</td>\n",
       "      <td>Chemisry</td>\n",
       "      <td>2 PM</td>\n",
       "      <td>5.0</td>\n",
       "      <td>85.0</td>\n",
       "    </tr>\n",
       "    <tr>\n",
       "      <th>1</th>\n",
       "      <td>Tue</td>\n",
       "      <td>Physics</td>\n",
       "      <td>10 AM</td>\n",
       "      <td>8.0</td>\n",
       "      <td>74.0</td>\n",
       "    </tr>\n",
       "    <tr>\n",
       "      <th>2</th>\n",
       "      <td>Wed</td>\n",
       "      <td>Maths</td>\n",
       "      <td>11 AM</td>\n",
       "      <td>7.0</td>\n",
       "      <td>32.0</td>\n",
       "    </tr>\n",
       "    <tr>\n",
       "      <th>3</th>\n",
       "      <td>Thu</td>\n",
       "      <td>English</td>\n",
       "      <td>1 PM</td>\n",
       "      <td>7.0</td>\n",
       "      <td>NaN</td>\n",
       "    </tr>\n",
       "    <tr>\n",
       "      <th>4</th>\n",
       "      <td>Fri</td>\n",
       "      <td>Biology</td>\n",
       "      <td>3 PM</td>\n",
       "      <td>7.0</td>\n",
       "      <td>NaN</td>\n",
       "    </tr>\n",
       "  </tbody>\n",
       "</table>\n",
       "</div>"
      ],
      "text/plain": [
       "  Week Day   Subject   Time  Weekend  Score\n",
       "0      Mon  Chemisry   2 PM      5.0   85.0\n",
       "1      Tue   Physics  10 AM      8.0   74.0\n",
       "2      Wed     Maths  11 AM      7.0   32.0\n",
       "3      Thu   English   1 PM      7.0    NaN\n",
       "4      Fri   Biology   3 PM      7.0    NaN"
      ]
     },
     "execution_count": 237,
     "metadata": {},
     "output_type": "execute_result"
    }
   ],
   "source": [
    "df[\"Score\"] = pd.Series([85,74,32])\n",
    "df"
   ]
  },
  {
   "cell_type": "code",
   "execution_count": 238,
   "id": "96978a5c",
   "metadata": {},
   "outputs": [
    {
     "data": {
      "text/plain": [
       "64.0"
      ]
     },
     "execution_count": 238,
     "metadata": {},
     "output_type": "execute_result"
    }
   ],
   "source": [
    "np.round(df[\"Score\"].mean())"
   ]
  },
  {
   "cell_type": "code",
   "execution_count": 239,
   "id": "31420899",
   "metadata": {},
   "outputs": [
    {
     "data": {
      "text/html": [
       "<div>\n",
       "<style scoped>\n",
       "    .dataframe tbody tr th:only-of-type {\n",
       "        vertical-align: middle;\n",
       "    }\n",
       "\n",
       "    .dataframe tbody tr th {\n",
       "        vertical-align: top;\n",
       "    }\n",
       "\n",
       "    .dataframe thead th {\n",
       "        text-align: right;\n",
       "    }\n",
       "</style>\n",
       "<table border=\"1\" class=\"dataframe\">\n",
       "  <thead>\n",
       "    <tr style=\"text-align: right;\">\n",
       "      <th></th>\n",
       "      <th>Week Day</th>\n",
       "      <th>Subject</th>\n",
       "      <th>Time</th>\n",
       "      <th>Weekend</th>\n",
       "      <th>Score</th>\n",
       "    </tr>\n",
       "  </thead>\n",
       "  <tbody>\n",
       "    <tr>\n",
       "      <th>0</th>\n",
       "      <td>Mon</td>\n",
       "      <td>Chemisry</td>\n",
       "      <td>2 PM</td>\n",
       "      <td>5.0</td>\n",
       "      <td>85.0</td>\n",
       "    </tr>\n",
       "    <tr>\n",
       "      <th>1</th>\n",
       "      <td>Tue</td>\n",
       "      <td>Physics</td>\n",
       "      <td>10 AM</td>\n",
       "      <td>8.0</td>\n",
       "      <td>74.0</td>\n",
       "    </tr>\n",
       "    <tr>\n",
       "      <th>2</th>\n",
       "      <td>Wed</td>\n",
       "      <td>Maths</td>\n",
       "      <td>11 AM</td>\n",
       "      <td>7.0</td>\n",
       "      <td>32.0</td>\n",
       "    </tr>\n",
       "    <tr>\n",
       "      <th>3</th>\n",
       "      <td>Thu</td>\n",
       "      <td>English</td>\n",
       "      <td>1 PM</td>\n",
       "      <td>7.0</td>\n",
       "      <td>64.0</td>\n",
       "    </tr>\n",
       "    <tr>\n",
       "      <th>4</th>\n",
       "      <td>Fri</td>\n",
       "      <td>Biology</td>\n",
       "      <td>3 PM</td>\n",
       "      <td>7.0</td>\n",
       "      <td>64.0</td>\n",
       "    </tr>\n",
       "  </tbody>\n",
       "</table>\n",
       "</div>"
      ],
      "text/plain": [
       "  Week Day   Subject   Time  Weekend  Score\n",
       "0      Mon  Chemisry   2 PM      5.0   85.0\n",
       "1      Tue   Physics  10 AM      8.0   74.0\n",
       "2      Wed     Maths  11 AM      7.0   32.0\n",
       "3      Thu   English   1 PM      7.0   64.0\n",
       "4      Fri   Biology   3 PM      7.0   64.0"
      ]
     },
     "execution_count": 239,
     "metadata": {},
     "output_type": "execute_result"
    }
   ],
   "source": [
    "df[\"Score\"] = np.where(df[\"Score\"].isna(),np.round(df[\"Score\"].mean()),df[\"Score\"])\n",
    "df"
   ]
  },
  {
   "cell_type": "code",
   "execution_count": 225,
   "id": "791d3789",
   "metadata": {},
   "outputs": [
    {
     "data": {
      "text/html": [
       "<div>\n",
       "<style scoped>\n",
       "    .dataframe tbody tr th:only-of-type {\n",
       "        vertical-align: middle;\n",
       "    }\n",
       "\n",
       "    .dataframe tbody tr th {\n",
       "        vertical-align: top;\n",
       "    }\n",
       "\n",
       "    .dataframe thead th {\n",
       "        text-align: right;\n",
       "    }\n",
       "</style>\n",
       "<table border=\"1\" class=\"dataframe\">\n",
       "  <thead>\n",
       "    <tr style=\"text-align: right;\">\n",
       "      <th></th>\n",
       "      <th>1</th>\n",
       "      <th>2</th>\n",
       "      <th>3</th>\n",
       "      <th>4</th>\n",
       "      <th>5</th>\n",
       "      <th>6</th>\n",
       "    </tr>\n",
       "  </thead>\n",
       "  <tbody>\n",
       "    <tr>\n",
       "      <th>A</th>\n",
       "      <td>18</td>\n",
       "      <td>6</td>\n",
       "      <td>3</td>\n",
       "      <td>12</td>\n",
       "      <td>4</td>\n",
       "      <td>6</td>\n",
       "    </tr>\n",
       "    <tr>\n",
       "      <th>B</th>\n",
       "      <td>10</td>\n",
       "      <td>2</td>\n",
       "      <td>10</td>\n",
       "      <td>11</td>\n",
       "      <td>10</td>\n",
       "      <td>6</td>\n",
       "    </tr>\n",
       "    <tr>\n",
       "      <th>C</th>\n",
       "      <td>7</td>\n",
       "      <td>4</td>\n",
       "      <td>8</td>\n",
       "      <td>16</td>\n",
       "      <td>17</td>\n",
       "      <td>4</td>\n",
       "    </tr>\n",
       "    <tr>\n",
       "      <th>D</th>\n",
       "      <td>11</td>\n",
       "      <td>4</td>\n",
       "      <td>16</td>\n",
       "      <td>3</td>\n",
       "      <td>18</td>\n",
       "      <td>11</td>\n",
       "    </tr>\n",
       "  </tbody>\n",
       "</table>\n",
       "</div>"
      ],
      "text/plain": [
       "    1  2   3   4   5   6\n",
       "A  18  6   3  12   4   6\n",
       "B  10  2  10  11  10   6\n",
       "C   7  4   8  16  17   4\n",
       "D  11  4  16   3  18  11"
      ]
     },
     "execution_count": 225,
     "metadata": {},
     "output_type": "execute_result"
    }
   ],
   "source": [
    "x = np.random.randint(2,19,size = (4,6))\n",
    "df = pd.DataFrame(x, index = list(\"ABCD\"), columns = list(\"123456\"))\n",
    "df"
   ]
  },
  {
   "cell_type": "code",
   "execution_count": 227,
   "id": "0e3c5b27",
   "metadata": {},
   "outputs": [
    {
     "data": {
      "text/html": [
       "<div>\n",
       "<style scoped>\n",
       "    .dataframe tbody tr th:only-of-type {\n",
       "        vertical-align: middle;\n",
       "    }\n",
       "\n",
       "    .dataframe tbody tr th {\n",
       "        vertical-align: top;\n",
       "    }\n",
       "\n",
       "    .dataframe thead th {\n",
       "        text-align: right;\n",
       "    }\n",
       "</style>\n",
       "<table border=\"1\" class=\"dataframe\">\n",
       "  <thead>\n",
       "    <tr style=\"text-align: right;\">\n",
       "      <th></th>\n",
       "      <th>1</th>\n",
       "      <th>2</th>\n",
       "      <th>3</th>\n",
       "      <th>4</th>\n",
       "      <th>5</th>\n",
       "      <th>6</th>\n",
       "    </tr>\n",
       "  </thead>\n",
       "  <tbody>\n",
       "    <tr>\n",
       "      <th>A</th>\n",
       "      <td>90</td>\n",
       "      <td>30</td>\n",
       "      <td>15</td>\n",
       "      <td>60</td>\n",
       "      <td>20</td>\n",
       "      <td>30</td>\n",
       "    </tr>\n",
       "    <tr>\n",
       "      <th>B</th>\n",
       "      <td>50</td>\n",
       "      <td>10</td>\n",
       "      <td>50</td>\n",
       "      <td>55</td>\n",
       "      <td>50</td>\n",
       "      <td>30</td>\n",
       "    </tr>\n",
       "    <tr>\n",
       "      <th>C</th>\n",
       "      <td>35</td>\n",
       "      <td>20</td>\n",
       "      <td>40</td>\n",
       "      <td>80</td>\n",
       "      <td>85</td>\n",
       "      <td>20</td>\n",
       "    </tr>\n",
       "    <tr>\n",
       "      <th>D</th>\n",
       "      <td>55</td>\n",
       "      <td>20</td>\n",
       "      <td>80</td>\n",
       "      <td>15</td>\n",
       "      <td>90</td>\n",
       "      <td>55</td>\n",
       "    </tr>\n",
       "  </tbody>\n",
       "</table>\n",
       "</div>"
      ],
      "text/plain": [
       "    1   2   3   4   5   6\n",
       "A  90  30  15  60  20  30\n",
       "B  50  10  50  55  50  30\n",
       "C  35  20  40  80  85  20\n",
       "D  55  20  80  15  90  55"
      ]
     },
     "execution_count": 227,
     "metadata": {},
     "output_type": "execute_result"
    }
   ],
   "source": [
    "df.apply(lambda x:x*5)"
   ]
  },
  {
   "cell_type": "code",
   "execution_count": 240,
   "id": "0c50e99e",
   "metadata": {},
   "outputs": [
    {
     "data": {
      "text/html": [
       "<div>\n",
       "<style scoped>\n",
       "    .dataframe tbody tr th:only-of-type {\n",
       "        vertical-align: middle;\n",
       "    }\n",
       "\n",
       "    .dataframe tbody tr th {\n",
       "        vertical-align: top;\n",
       "    }\n",
       "\n",
       "    .dataframe thead th {\n",
       "        text-align: right;\n",
       "    }\n",
       "</style>\n",
       "<table border=\"1\" class=\"dataframe\">\n",
       "  <thead>\n",
       "    <tr style=\"text-align: right;\">\n",
       "      <th></th>\n",
       "      <th>Week Day</th>\n",
       "      <th>Subject</th>\n",
       "      <th>Time</th>\n",
       "      <th>Weekend</th>\n",
       "      <th>Score</th>\n",
       "    </tr>\n",
       "  </thead>\n",
       "  <tbody>\n",
       "    <tr>\n",
       "      <th>0</th>\n",
       "      <td>Mon</td>\n",
       "      <td>Chemisry</td>\n",
       "      <td>2 PM</td>\n",
       "      <td>5.0</td>\n",
       "      <td>85.0</td>\n",
       "    </tr>\n",
       "    <tr>\n",
       "      <th>1</th>\n",
       "      <td>Tue</td>\n",
       "      <td>Physics</td>\n",
       "      <td>10 AM</td>\n",
       "      <td>8.0</td>\n",
       "      <td>74.0</td>\n",
       "    </tr>\n",
       "    <tr>\n",
       "      <th>2</th>\n",
       "      <td>Wed</td>\n",
       "      <td>Maths</td>\n",
       "      <td>11 AM</td>\n",
       "      <td>7.0</td>\n",
       "      <td>32.0</td>\n",
       "    </tr>\n",
       "    <tr>\n",
       "      <th>3</th>\n",
       "      <td>Thu</td>\n",
       "      <td>English</td>\n",
       "      <td>1 PM</td>\n",
       "      <td>7.0</td>\n",
       "      <td>64.0</td>\n",
       "    </tr>\n",
       "    <tr>\n",
       "      <th>4</th>\n",
       "      <td>Fri</td>\n",
       "      <td>Biology</td>\n",
       "      <td>3 PM</td>\n",
       "      <td>7.0</td>\n",
       "      <td>64.0</td>\n",
       "    </tr>\n",
       "  </tbody>\n",
       "</table>\n",
       "</div>"
      ],
      "text/plain": [
       "  Week Day   Subject   Time  Weekend  Score\n",
       "0      Mon  Chemisry   2 PM      5.0   85.0\n",
       "1      Tue   Physics  10 AM      8.0   74.0\n",
       "2      Wed     Maths  11 AM      7.0   32.0\n",
       "3      Thu   English   1 PM      7.0   64.0\n",
       "4      Fri   Biology   3 PM      7.0   64.0"
      ]
     },
     "execution_count": 240,
     "metadata": {},
     "output_type": "execute_result"
    }
   ],
   "source": [
    "df"
   ]
  },
  {
   "cell_type": "code",
   "execution_count": 243,
   "id": "d4d55967",
   "metadata": {},
   "outputs": [
    {
     "data": {
      "text/html": [
       "<div>\n",
       "<style scoped>\n",
       "    .dataframe tbody tr th:only-of-type {\n",
       "        vertical-align: middle;\n",
       "    }\n",
       "\n",
       "    .dataframe tbody tr th {\n",
       "        vertical-align: top;\n",
       "    }\n",
       "\n",
       "    .dataframe thead th {\n",
       "        text-align: right;\n",
       "    }\n",
       "</style>\n",
       "<table border=\"1\" class=\"dataframe\">\n",
       "  <thead>\n",
       "    <tr style=\"text-align: right;\">\n",
       "      <th></th>\n",
       "      <th>Week Day</th>\n",
       "      <th>Subject</th>\n",
       "      <th>Time</th>\n",
       "      <th>Weekend</th>\n",
       "      <th>Score</th>\n",
       "    </tr>\n",
       "  </thead>\n",
       "  <tbody>\n",
       "    <tr>\n",
       "      <th>1</th>\n",
       "      <td>Tue</td>\n",
       "      <td>Physics</td>\n",
       "      <td>10 AM</td>\n",
       "      <td>8.0</td>\n",
       "      <td>74.0</td>\n",
       "    </tr>\n",
       "    <tr>\n",
       "      <th>2</th>\n",
       "      <td>Wed</td>\n",
       "      <td>Maths</td>\n",
       "      <td>11 AM</td>\n",
       "      <td>7.0</td>\n",
       "      <td>32.0</td>\n",
       "    </tr>\n",
       "    <tr>\n",
       "      <th>3</th>\n",
       "      <td>Thu</td>\n",
       "      <td>English</td>\n",
       "      <td>1 PM</td>\n",
       "      <td>7.0</td>\n",
       "      <td>64.0</td>\n",
       "    </tr>\n",
       "    <tr>\n",
       "      <th>0</th>\n",
       "      <td>Mon</td>\n",
       "      <td>Chemisry</td>\n",
       "      <td>2 PM</td>\n",
       "      <td>5.0</td>\n",
       "      <td>85.0</td>\n",
       "    </tr>\n",
       "    <tr>\n",
       "      <th>4</th>\n",
       "      <td>Fri</td>\n",
       "      <td>Biology</td>\n",
       "      <td>3 PM</td>\n",
       "      <td>7.0</td>\n",
       "      <td>64.0</td>\n",
       "    </tr>\n",
       "  </tbody>\n",
       "</table>\n",
       "</div>"
      ],
      "text/plain": [
       "  Week Day   Subject   Time  Weekend  Score\n",
       "1      Tue   Physics  10 AM      8.0   74.0\n",
       "2      Wed     Maths  11 AM      7.0   32.0\n",
       "3      Thu   English   1 PM      7.0   64.0\n",
       "0      Mon  Chemisry   2 PM      5.0   85.0\n",
       "4      Fri   Biology   3 PM      7.0   64.0"
      ]
     },
     "execution_count": 243,
     "metadata": {},
     "output_type": "execute_result"
    }
   ],
   "source": [
    "df.sort_values(\"Subject\", ascending = False)"
   ]
  },
  {
   "cell_type": "code",
   "execution_count": 250,
   "id": "d9040f8e",
   "metadata": {},
   "outputs": [
    {
     "data": {
      "text/plain": [
       "0     [2, PM]\n",
       "1    [10, AM]\n",
       "2    [11, AM]\n",
       "3     [1, PM]\n",
       "4     [3, PM]\n",
       "Name: Time, dtype: object"
      ]
     },
     "execution_count": 250,
     "metadata": {},
     "output_type": "execute_result"
    }
   ],
   "source": [
    "t = df[\"Time\"].apply(lambda x:x.split(\" \"))\n",
    "t"
   ]
  },
  {
   "cell_type": "code",
   "execution_count": 276,
   "id": "e73f0337",
   "metadata": {},
   "outputs": [
    {
     "name": "stdout",
     "output_type": "stream",
     "text": [
      "['2', '10', '11', '1', '3']\n"
     ]
    }
   ],
   "source": [
    "x = []\n",
    "for i in t:\n",
    "    x.append(i[0])\n",
    "print(x)"
   ]
  },
  {
   "cell_type": "code",
   "execution_count": 278,
   "id": "85c54828",
   "metadata": {},
   "outputs": [
    {
     "data": {
      "text/html": [
       "<div>\n",
       "<style scoped>\n",
       "    .dataframe tbody tr th:only-of-type {\n",
       "        vertical-align: middle;\n",
       "    }\n",
       "\n",
       "    .dataframe tbody tr th {\n",
       "        vertical-align: top;\n",
       "    }\n",
       "\n",
       "    .dataframe thead th {\n",
       "        text-align: right;\n",
       "    }\n",
       "</style>\n",
       "<table border=\"1\" class=\"dataframe\">\n",
       "  <thead>\n",
       "    <tr style=\"text-align: right;\">\n",
       "      <th></th>\n",
       "      <th>Name</th>\n",
       "    </tr>\n",
       "  </thead>\n",
       "  <tbody>\n",
       "    <tr>\n",
       "      <th>0</th>\n",
       "      <td>Ganesh Mahesh Patel</td>\n",
       "    </tr>\n",
       "    <tr>\n",
       "      <th>1</th>\n",
       "      <td>Sachin Ramesh Tendulkar</td>\n",
       "    </tr>\n",
       "  </tbody>\n",
       "</table>\n",
       "</div>"
      ],
      "text/plain": [
       "                      Name\n",
       "0      Ganesh Mahesh Patel\n",
       "1  Sachin Ramesh Tendulkar"
      ]
     },
     "execution_count": 278,
     "metadata": {},
     "output_type": "execute_result"
    }
   ],
   "source": [
    "df = pd.DataFrame({\"Name\":[\"Ganesh Mahesh Patel\",\"Sachin Ramesh Tendulkar\"]}\n",
    "                 )\n",
    "df"
   ]
  },
  {
   "cell_type": "code",
   "execution_count": 280,
   "id": "c02960e2",
   "metadata": {},
   "outputs": [
    {
     "data": {
      "text/html": [
       "<div>\n",
       "<style scoped>\n",
       "    .dataframe tbody tr th:only-of-type {\n",
       "        vertical-align: middle;\n",
       "    }\n",
       "\n",
       "    .dataframe tbody tr th {\n",
       "        vertical-align: top;\n",
       "    }\n",
       "\n",
       "    .dataframe thead th {\n",
       "        text-align: right;\n",
       "    }\n",
       "</style>\n",
       "<table border=\"1\" class=\"dataframe\">\n",
       "  <thead>\n",
       "    <tr style=\"text-align: right;\">\n",
       "      <th></th>\n",
       "      <th>0</th>\n",
       "      <th>1</th>\n",
       "      <th>2</th>\n",
       "    </tr>\n",
       "  </thead>\n",
       "  <tbody>\n",
       "    <tr>\n",
       "      <th>0</th>\n",
       "      <td>Ganesh</td>\n",
       "      <td>Mahesh</td>\n",
       "      <td>Patel</td>\n",
       "    </tr>\n",
       "    <tr>\n",
       "      <th>1</th>\n",
       "      <td>Sachin</td>\n",
       "      <td>Ramesh</td>\n",
       "      <td>Tendulkar</td>\n",
       "    </tr>\n",
       "  </tbody>\n",
       "</table>\n",
       "</div>"
      ],
      "text/plain": [
       "        0       1          2\n",
       "0  Ganesh  Mahesh      Patel\n",
       "1  Sachin  Ramesh  Tendulkar"
      ]
     },
     "execution_count": 280,
     "metadata": {},
     "output_type": "execute_result"
    }
   ],
   "source": [
    "df[\"Name\"].str.split(expand = True)"
   ]
  },
  {
   "cell_type": "code",
   "execution_count": 281,
   "id": "991aa901",
   "metadata": {},
   "outputs": [
    {
     "data": {
      "text/html": [
       "<div>\n",
       "<style scoped>\n",
       "    .dataframe tbody tr th:only-of-type {\n",
       "        vertical-align: middle;\n",
       "    }\n",
       "\n",
       "    .dataframe tbody tr th {\n",
       "        vertical-align: top;\n",
       "    }\n",
       "\n",
       "    .dataframe thead th {\n",
       "        text-align: right;\n",
       "    }\n",
       "</style>\n",
       "<table border=\"1\" class=\"dataframe\">\n",
       "  <thead>\n",
       "    <tr style=\"text-align: right;\">\n",
       "      <th></th>\n",
       "      <th>Player</th>\n",
       "      <th>Team</th>\n",
       "      <th>Avg</th>\n",
       "    </tr>\n",
       "  </thead>\n",
       "  <tbody>\n",
       "    <tr>\n",
       "      <th>0</th>\n",
       "      <td>Virat</td>\n",
       "      <td>RCB</td>\n",
       "      <td>45</td>\n",
       "    </tr>\n",
       "    <tr>\n",
       "      <th>1</th>\n",
       "      <td>Rohit</td>\n",
       "      <td>MI</td>\n",
       "      <td>39</td>\n",
       "    </tr>\n",
       "    <tr>\n",
       "      <th>2</th>\n",
       "      <td>KL Rahul</td>\n",
       "      <td>LSG</td>\n",
       "      <td>34</td>\n",
       "    </tr>\n",
       "    <tr>\n",
       "      <th>3</th>\n",
       "      <td>Sachin</td>\n",
       "      <td>MI</td>\n",
       "      <td>46</td>\n",
       "    </tr>\n",
       "    <tr>\n",
       "      <th>4</th>\n",
       "      <td>Hardik</td>\n",
       "      <td>DDD</td>\n",
       "      <td>55</td>\n",
       "    </tr>\n",
       "    <tr>\n",
       "      <th>5</th>\n",
       "      <td>Dinesh</td>\n",
       "      <td>KNR</td>\n",
       "      <td>88</td>\n",
       "    </tr>\n",
       "  </tbody>\n",
       "</table>\n",
       "</div>"
      ],
      "text/plain": [
       "     Player Team  Avg\n",
       "0     Virat  RCB   45\n",
       "1     Rohit   MI   39\n",
       "2  KL Rahul  LSG   34\n",
       "3    Sachin   MI   46\n",
       "4    Hardik  DDD   55\n",
       "5    Dinesh  KNR   88"
      ]
     },
     "execution_count": 281,
     "metadata": {},
     "output_type": "execute_result"
    }
   ],
   "source": [
    "df1 = pd.DataFrame({\"Player\":[\"Virat\",\"Rohit\",\"KL Rahul\",\"Sachin\",\"Hardik\",\"Dinesh\"],\n",
    "                   \"Team\":[\"RCB\",\"MI\",\"LSG\",\"MI\",\"DDD\",\"KNR\"],\n",
    "                   \"Avg\":[45,39,34,46,55,88]})\n",
    "df1"
   ]
  },
  {
   "cell_type": "code",
   "execution_count": 282,
   "id": "695f53ae",
   "metadata": {},
   "outputs": [
    {
     "data": {
      "text/plain": [
       "{'Player': 'Shami', 'Team': 'DDD', 'Avg': 22}"
      ]
     },
     "execution_count": 282,
     "metadata": {},
     "output_type": "execute_result"
    }
   ],
   "source": [
    "df2 = {\"Player\":\"Shami\", \"Team\": \"DDD\",\"Avg\": 22}\n",
    "df2"
   ]
  },
  {
   "cell_type": "code",
   "execution_count": 290,
   "id": "185ece6a",
   "metadata": {},
   "outputs": [
    {
     "data": {
      "text/html": [
       "<div>\n",
       "<style scoped>\n",
       "    .dataframe tbody tr th:only-of-type {\n",
       "        vertical-align: middle;\n",
       "    }\n",
       "\n",
       "    .dataframe tbody tr th {\n",
       "        vertical-align: top;\n",
       "    }\n",
       "\n",
       "    .dataframe thead th {\n",
       "        text-align: right;\n",
       "    }\n",
       "</style>\n",
       "<table border=\"1\" class=\"dataframe\">\n",
       "  <thead>\n",
       "    <tr style=\"text-align: right;\">\n",
       "      <th></th>\n",
       "      <th>Player</th>\n",
       "      <th>Team</th>\n",
       "      <th>Avg</th>\n",
       "    </tr>\n",
       "  </thead>\n",
       "  <tbody>\n",
       "    <tr>\n",
       "      <th>0</th>\n",
       "      <td>Virat</td>\n",
       "      <td>RCB</td>\n",
       "      <td>45</td>\n",
       "    </tr>\n",
       "    <tr>\n",
       "      <th>1</th>\n",
       "      <td>Rohit</td>\n",
       "      <td>MI</td>\n",
       "      <td>39</td>\n",
       "    </tr>\n",
       "    <tr>\n",
       "      <th>2</th>\n",
       "      <td>KL Rahul</td>\n",
       "      <td>LSG</td>\n",
       "      <td>34</td>\n",
       "    </tr>\n",
       "    <tr>\n",
       "      <th>3</th>\n",
       "      <td>Sachin</td>\n",
       "      <td>MI</td>\n",
       "      <td>46</td>\n",
       "    </tr>\n",
       "    <tr>\n",
       "      <th>4</th>\n",
       "      <td>Hardik</td>\n",
       "      <td>DDD</td>\n",
       "      <td>55</td>\n",
       "    </tr>\n",
       "    <tr>\n",
       "      <th>5</th>\n",
       "      <td>Dinesh</td>\n",
       "      <td>KNR</td>\n",
       "      <td>88</td>\n",
       "    </tr>\n",
       "    <tr>\n",
       "      <th>6</th>\n",
       "      <td>Shami</td>\n",
       "      <td>DDD</td>\n",
       "      <td>22</td>\n",
       "    </tr>\n",
       "  </tbody>\n",
       "</table>\n",
       "</div>"
      ],
      "text/plain": [
       "     Player Team  Avg\n",
       "0     Virat  RCB   45\n",
       "1     Rohit   MI   39\n",
       "2  KL Rahul  LSG   34\n",
       "3    Sachin   MI   46\n",
       "4    Hardik  DDD   55\n",
       "5    Dinesh  KNR   88\n",
       "6     Shami  DDD   22"
      ]
     },
     "execution_count": 290,
     "metadata": {},
     "output_type": "execute_result"
    }
   ],
   "source": [
    "df = df1.append(df2, ignore_index= True)\n",
    "df"
   ]
  },
  {
   "cell_type": "code",
   "execution_count": 292,
   "id": "7f9aaa55",
   "metadata": {},
   "outputs": [
    {
     "data": {
      "text/html": [
       "<div>\n",
       "<style scoped>\n",
       "    .dataframe tbody tr th:only-of-type {\n",
       "        vertical-align: middle;\n",
       "    }\n",
       "\n",
       "    .dataframe tbody tr th {\n",
       "        vertical-align: top;\n",
       "    }\n",
       "\n",
       "    .dataframe thead th {\n",
       "        text-align: right;\n",
       "    }\n",
       "</style>\n",
       "<table border=\"1\" class=\"dataframe\">\n",
       "  <thead>\n",
       "    <tr style=\"text-align: right;\">\n",
       "      <th></th>\n",
       "      <th>company_code</th>\n",
       "      <th>year</th>\n",
       "    </tr>\n",
       "  </thead>\n",
       "  <tbody>\n",
       "    <tr>\n",
       "      <th>0</th>\n",
       "      <td>C-0001</td>\n",
       "      <td>1800</td>\n",
       "    </tr>\n",
       "    <tr>\n",
       "      <th>1</th>\n",
       "      <td>C-0002</td>\n",
       "      <td>1700</td>\n",
       "    </tr>\n",
       "    <tr>\n",
       "      <th>2</th>\n",
       "      <td>C-0003</td>\n",
       "      <td>2300</td>\n",
       "    </tr>\n",
       "    <tr>\n",
       "      <th>3</th>\n",
       "      <td>C-0003</td>\n",
       "      <td>1900</td>\n",
       "    </tr>\n",
       "    <tr>\n",
       "      <th>4</th>\n",
       "      <td>C-0004</td>\n",
       "      <td>2200</td>\n",
       "    </tr>\n",
       "  </tbody>\n",
       "</table>\n",
       "</div>"
      ],
      "text/plain": [
       "  company_code  year\n",
       "0       C-0001  1800\n",
       "1       C-0002  1700\n",
       "2       C-0003  2300\n",
       "3       C-0003  1900\n",
       "4       C-0004  2200"
      ]
     },
     "execution_count": 292,
     "metadata": {},
     "output_type": "execute_result"
    }
   ],
   "source": [
    "df = pd.DataFrame({\n",
    "'company_code': ['C-0001','C-0002','C-0003', 'C-0003', 'C-0004'],\n",
    "'year': ['1800','1700','2300', '1900', '2200']\n",
    "})\n",
    "df"
   ]
  },
  {
   "cell_type": "code",
   "execution_count": 294,
   "id": "00c9d8f3",
   "metadata": {},
   "outputs": [
    {
     "data": {
      "text/html": [
       "<div>\n",
       "<style scoped>\n",
       "    .dataframe tbody tr th:only-of-type {\n",
       "        vertical-align: middle;\n",
       "    }\n",
       "\n",
       "    .dataframe tbody tr th {\n",
       "        vertical-align: top;\n",
       "    }\n",
       "\n",
       "    .dataframe thead th {\n",
       "        text-align: right;\n",
       "    }\n",
       "</style>\n",
       "<table border=\"1\" class=\"dataframe\">\n",
       "  <thead>\n",
       "    <tr style=\"text-align: right;\">\n",
       "      <th></th>\n",
       "      <th>company_code</th>\n",
       "      <th>year</th>\n",
       "    </tr>\n",
       "  </thead>\n",
       "  <tbody>\n",
       "    <tr>\n",
       "      <th>3</th>\n",
       "      <td>C-0003</td>\n",
       "      <td>1900</td>\n",
       "    </tr>\n",
       "    <tr>\n",
       "      <th>4</th>\n",
       "      <td>C-0004</td>\n",
       "      <td>2200</td>\n",
       "    </tr>\n",
       "  </tbody>\n",
       "</table>\n",
       "</div>"
      ],
      "text/plain": [
       "  company_code  year\n",
       "3       C-0003  1900\n",
       "4       C-0004  2200"
      ]
     },
     "execution_count": 294,
     "metadata": {},
     "output_type": "execute_result"
    }
   ],
   "source": [
    "df[df[\"year\"].between(\"1850\",\"2250\")]"
   ]
  },
  {
   "cell_type": "code",
   "execution_count": 316,
   "id": "b8d0245f",
   "metadata": {},
   "outputs": [],
   "source": [
    "df1 = pd.DataFrame({\"Player\":[\"Virat\",\"Rohit\",\"KL Rahul\",\"Sachin\"],\n",
    "                   \"Team\":[\"RCB\",\"MI\",\"LSG\",\"MI\"],\n",
    "                   \"Avg\":[45,39,34,46]})\n",
    "df2 = pd.DataFrame({\"Player\":[\"AB\",\"Pollard\",\"De Cock\",\"Moeeb Ali\"],\n",
    "                   \"Team\":[\"RCB\",\"MI\",\"LSG\",\"CSK\"],\n",
    "                   \"Avg\":[5,38,41,47]})"
   ]
  },
  {
   "cell_type": "code",
   "execution_count": 317,
   "id": "e4930aac",
   "metadata": {},
   "outputs": [
    {
     "data": {
      "text/html": [
       "<div>\n",
       "<style scoped>\n",
       "    .dataframe tbody tr th:only-of-type {\n",
       "        vertical-align: middle;\n",
       "    }\n",
       "\n",
       "    .dataframe tbody tr th {\n",
       "        vertical-align: top;\n",
       "    }\n",
       "\n",
       "    .dataframe thead th {\n",
       "        text-align: right;\n",
       "    }\n",
       "</style>\n",
       "<table border=\"1\" class=\"dataframe\">\n",
       "  <thead>\n",
       "    <tr style=\"text-align: right;\">\n",
       "      <th></th>\n",
       "      <th>Player</th>\n",
       "      <th>Team</th>\n",
       "      <th>Avg</th>\n",
       "    </tr>\n",
       "  </thead>\n",
       "  <tbody>\n",
       "    <tr>\n",
       "      <th>0</th>\n",
       "      <td>Virat</td>\n",
       "      <td>RCB</td>\n",
       "      <td>45</td>\n",
       "    </tr>\n",
       "    <tr>\n",
       "      <th>1</th>\n",
       "      <td>Rohit</td>\n",
       "      <td>MI</td>\n",
       "      <td>39</td>\n",
       "    </tr>\n",
       "    <tr>\n",
       "      <th>2</th>\n",
       "      <td>KL Rahul</td>\n",
       "      <td>LSG</td>\n",
       "      <td>34</td>\n",
       "    </tr>\n",
       "    <tr>\n",
       "      <th>3</th>\n",
       "      <td>Sachin</td>\n",
       "      <td>MI</td>\n",
       "      <td>46</td>\n",
       "    </tr>\n",
       "    <tr>\n",
       "      <th>4</th>\n",
       "      <td>AB</td>\n",
       "      <td>RCB</td>\n",
       "      <td>5</td>\n",
       "    </tr>\n",
       "    <tr>\n",
       "      <th>5</th>\n",
       "      <td>Pollard</td>\n",
       "      <td>MI</td>\n",
       "      <td>38</td>\n",
       "    </tr>\n",
       "    <tr>\n",
       "      <th>6</th>\n",
       "      <td>De Cock</td>\n",
       "      <td>LSG</td>\n",
       "      <td>41</td>\n",
       "    </tr>\n",
       "    <tr>\n",
       "      <th>7</th>\n",
       "      <td>Moeeb Ali</td>\n",
       "      <td>CSK</td>\n",
       "      <td>47</td>\n",
       "    </tr>\n",
       "  </tbody>\n",
       "</table>\n",
       "</div>"
      ],
      "text/plain": [
       "      Player Team  Avg\n",
       "0      Virat  RCB   45\n",
       "1      Rohit   MI   39\n",
       "2   KL Rahul  LSG   34\n",
       "3     Sachin   MI   46\n",
       "4         AB  RCB    5\n",
       "5    Pollard   MI   38\n",
       "6    De Cock  LSG   41\n",
       "7  Moeeb Ali  CSK   47"
      ]
     },
     "execution_count": 317,
     "metadata": {},
     "output_type": "execute_result"
    }
   ],
   "source": [
    "df = pd.concat([df1,df2], axis = 0, ignore_index = True)\n",
    "df"
   ]
  },
  {
   "cell_type": "code",
   "execution_count": 314,
   "id": "721b36a6",
   "metadata": {},
   "outputs": [
    {
     "data": {
      "text/html": [
       "<div>\n",
       "<style scoped>\n",
       "    .dataframe tbody tr th:only-of-type {\n",
       "        vertical-align: middle;\n",
       "    }\n",
       "\n",
       "    .dataframe tbody tr th {\n",
       "        vertical-align: top;\n",
       "    }\n",
       "\n",
       "    .dataframe thead th {\n",
       "        text-align: right;\n",
       "    }\n",
       "</style>\n",
       "<table border=\"1\" class=\"dataframe\">\n",
       "  <thead>\n",
       "    <tr style=\"text-align: right;\">\n",
       "      <th></th>\n",
       "      <th>0</th>\n",
       "      <th>1</th>\n",
       "      <th>2</th>\n",
       "      <th>3</th>\n",
       "      <th>4</th>\n",
       "      <th>5</th>\n",
       "    </tr>\n",
       "  </thead>\n",
       "  <tbody>\n",
       "    <tr>\n",
       "      <th>0</th>\n",
       "      <td>Virat</td>\n",
       "      <td>RCB</td>\n",
       "      <td>45</td>\n",
       "      <td>AB</td>\n",
       "      <td>RCB</td>\n",
       "      <td>5</td>\n",
       "    </tr>\n",
       "    <tr>\n",
       "      <th>1</th>\n",
       "      <td>Rohit</td>\n",
       "      <td>MI</td>\n",
       "      <td>39</td>\n",
       "      <td>Pollard</td>\n",
       "      <td>MI</td>\n",
       "      <td>38</td>\n",
       "    </tr>\n",
       "    <tr>\n",
       "      <th>2</th>\n",
       "      <td>KL Rahul</td>\n",
       "      <td>LSG</td>\n",
       "      <td>34</td>\n",
       "      <td>De Cock</td>\n",
       "      <td>LSG</td>\n",
       "      <td>41</td>\n",
       "    </tr>\n",
       "    <tr>\n",
       "      <th>3</th>\n",
       "      <td>Sachin</td>\n",
       "      <td>MI</td>\n",
       "      <td>46</td>\n",
       "      <td>Moeeb Ali</td>\n",
       "      <td>CSK</td>\n",
       "      <td>47</td>\n",
       "    </tr>\n",
       "  </tbody>\n",
       "</table>\n",
       "</div>"
      ],
      "text/plain": [
       "          0    1   2          3    4   5\n",
       "0     Virat  RCB  45         AB  RCB   5\n",
       "1     Rohit   MI  39    Pollard   MI  38\n",
       "2  KL Rahul  LSG  34    De Cock  LSG  41\n",
       "3    Sachin   MI  46  Moeeb Ali  CSK  47"
      ]
     },
     "execution_count": 314,
     "metadata": {},
     "output_type": "execute_result"
    }
   ],
   "source": [
    "df = pd.concat([df1,df2], axis = 1, ignore_index = True)\n",
    "df"
   ]
  },
  {
   "cell_type": "code",
   "execution_count": 303,
   "id": "82ea2d12",
   "metadata": {},
   "outputs": [],
   "source": [
    "df1 = pd.DataFrame({\n",
    "        'student_id': ['S1', 'S2', 'S3', 'S4', 'S5'],\n",
    "        'name': ['Rakesh', 'Vikram', 'Vedha', 'Saif', 'Hritik'], \n",
    "        'marks': [200, 210, 220, 230, 240]})\n",
    "\n",
    "df2 = pd.DataFrame({\n",
    "        'student_id': ['S4', 'S5', 'S6', 'S7', 'S8'],\n",
    "        'name': ['Mady', 'Vijay', 'Abhishek', 'Dino', 'Kalia'], \n",
    "        'marks': [56, 62, 220, 84, 240]})\n"
   ]
  },
  {
   "cell_type": "code",
   "execution_count": 305,
   "id": "5ea3764a",
   "metadata": {},
   "outputs": [
    {
     "data": {
      "text/html": [
       "<div>\n",
       "<style scoped>\n",
       "    .dataframe tbody tr th:only-of-type {\n",
       "        vertical-align: middle;\n",
       "    }\n",
       "\n",
       "    .dataframe tbody tr th {\n",
       "        vertical-align: top;\n",
       "    }\n",
       "\n",
       "    .dataframe thead th {\n",
       "        text-align: right;\n",
       "    }\n",
       "</style>\n",
       "<table border=\"1\" class=\"dataframe\">\n",
       "  <thead>\n",
       "    <tr style=\"text-align: right;\">\n",
       "      <th></th>\n",
       "      <th>student_id</th>\n",
       "      <th>name_x</th>\n",
       "      <th>marks_x</th>\n",
       "      <th>name_y</th>\n",
       "      <th>marks_y</th>\n",
       "    </tr>\n",
       "  </thead>\n",
       "  <tbody>\n",
       "    <tr>\n",
       "      <th>0</th>\n",
       "      <td>S1</td>\n",
       "      <td>Rakesh</td>\n",
       "      <td>200.0</td>\n",
       "      <td>NaN</td>\n",
       "      <td>NaN</td>\n",
       "    </tr>\n",
       "    <tr>\n",
       "      <th>1</th>\n",
       "      <td>S2</td>\n",
       "      <td>Vikram</td>\n",
       "      <td>210.0</td>\n",
       "      <td>NaN</td>\n",
       "      <td>NaN</td>\n",
       "    </tr>\n",
       "    <tr>\n",
       "      <th>2</th>\n",
       "      <td>S3</td>\n",
       "      <td>Vedha</td>\n",
       "      <td>220.0</td>\n",
       "      <td>NaN</td>\n",
       "      <td>NaN</td>\n",
       "    </tr>\n",
       "    <tr>\n",
       "      <th>3</th>\n",
       "      <td>S4</td>\n",
       "      <td>Saif</td>\n",
       "      <td>230.0</td>\n",
       "      <td>Mady</td>\n",
       "      <td>56.0</td>\n",
       "    </tr>\n",
       "    <tr>\n",
       "      <th>4</th>\n",
       "      <td>S5</td>\n",
       "      <td>Hritik</td>\n",
       "      <td>240.0</td>\n",
       "      <td>Vijay</td>\n",
       "      <td>62.0</td>\n",
       "    </tr>\n",
       "    <tr>\n",
       "      <th>5</th>\n",
       "      <td>S6</td>\n",
       "      <td>NaN</td>\n",
       "      <td>NaN</td>\n",
       "      <td>Abhishek</td>\n",
       "      <td>220.0</td>\n",
       "    </tr>\n",
       "    <tr>\n",
       "      <th>6</th>\n",
       "      <td>S7</td>\n",
       "      <td>NaN</td>\n",
       "      <td>NaN</td>\n",
       "      <td>Dino</td>\n",
       "      <td>84.0</td>\n",
       "    </tr>\n",
       "    <tr>\n",
       "      <th>7</th>\n",
       "      <td>S8</td>\n",
       "      <td>NaN</td>\n",
       "      <td>NaN</td>\n",
       "      <td>Kalia</td>\n",
       "      <td>240.0</td>\n",
       "    </tr>\n",
       "  </tbody>\n",
       "</table>\n",
       "</div>"
      ],
      "text/plain": [
       "  student_id  name_x  marks_x    name_y  marks_y\n",
       "0         S1  Rakesh    200.0       NaN      NaN\n",
       "1         S2  Vikram    210.0       NaN      NaN\n",
       "2         S3   Vedha    220.0       NaN      NaN\n",
       "3         S4    Saif    230.0      Mady     56.0\n",
       "4         S5  Hritik    240.0     Vijay     62.0\n",
       "5         S6     NaN      NaN  Abhishek    220.0\n",
       "6         S7     NaN      NaN      Dino     84.0\n",
       "7         S8     NaN      NaN     Kalia    240.0"
      ]
     },
     "execution_count": 305,
     "metadata": {},
     "output_type": "execute_result"
    }
   ],
   "source": [
    "df= pd.merge(df1,df2, on = \"student_id\", how = \"outer\")\n",
    "# df = pd.merge(df1,df2, on = \"student_id\", how = \"inner\")\n",
    "df"
   ]
  },
  {
   "cell_type": "code",
   "execution_count": 306,
   "id": "d1f4ea2b",
   "metadata": {},
   "outputs": [],
   "source": [
    "df1 = pd.DataFrame({\"Player\":[\"Virat\",\"Rohit\",\"KL Rahul\",\"Sachin\"],\n",
    "                   \"Team\":[\"RCB\",\"MI\",\"LSG\",\"MI\"],\n",
    "                   \"Avg\":[45,39,34,46]})\n",
    "df2 = pd.DataFrame({\"Player\":[\"AB\",\"Pollard\",\"De Cock\",\"Moeeb Ali\"],\n",
    "                   \"Team\":[\"RCB\",\"MI\",\"LSG\",\"CSK\"],\n",
    "                   \"Avg\":[5,38,41,47]})"
   ]
  },
  {
   "cell_type": "code",
   "execution_count": 310,
   "id": "7b535a08",
   "metadata": {},
   "outputs": [],
   "source": [
    "df= pd.merge(df1,df2, on = \"Player\", how = \"outer\")\n"
   ]
  },
  {
   "cell_type": "code",
   "execution_count": 311,
   "id": "1276df38",
   "metadata": {},
   "outputs": [
    {
     "data": {
      "text/html": [
       "<div>\n",
       "<style scoped>\n",
       "    .dataframe tbody tr th:only-of-type {\n",
       "        vertical-align: middle;\n",
       "    }\n",
       "\n",
       "    .dataframe tbody tr th {\n",
       "        vertical-align: top;\n",
       "    }\n",
       "\n",
       "    .dataframe thead th {\n",
       "        text-align: right;\n",
       "    }\n",
       "</style>\n",
       "<table border=\"1\" class=\"dataframe\">\n",
       "  <thead>\n",
       "    <tr style=\"text-align: right;\">\n",
       "      <th></th>\n",
       "      <th>Player</th>\n",
       "      <th>Team_x</th>\n",
       "      <th>Avg_x</th>\n",
       "      <th>Team_y</th>\n",
       "      <th>Avg_y</th>\n",
       "    </tr>\n",
       "  </thead>\n",
       "  <tbody>\n",
       "    <tr>\n",
       "      <th>0</th>\n",
       "      <td>Virat</td>\n",
       "      <td>RCB</td>\n",
       "      <td>45.0</td>\n",
       "      <td>NaN</td>\n",
       "      <td>NaN</td>\n",
       "    </tr>\n",
       "    <tr>\n",
       "      <th>1</th>\n",
       "      <td>Rohit</td>\n",
       "      <td>MI</td>\n",
       "      <td>39.0</td>\n",
       "      <td>NaN</td>\n",
       "      <td>NaN</td>\n",
       "    </tr>\n",
       "    <tr>\n",
       "      <th>2</th>\n",
       "      <td>KL Rahul</td>\n",
       "      <td>LSG</td>\n",
       "      <td>34.0</td>\n",
       "      <td>NaN</td>\n",
       "      <td>NaN</td>\n",
       "    </tr>\n",
       "    <tr>\n",
       "      <th>3</th>\n",
       "      <td>Sachin</td>\n",
       "      <td>MI</td>\n",
       "      <td>46.0</td>\n",
       "      <td>NaN</td>\n",
       "      <td>NaN</td>\n",
       "    </tr>\n",
       "    <tr>\n",
       "      <th>4</th>\n",
       "      <td>AB</td>\n",
       "      <td>NaN</td>\n",
       "      <td>NaN</td>\n",
       "      <td>RCB</td>\n",
       "      <td>5.0</td>\n",
       "    </tr>\n",
       "    <tr>\n",
       "      <th>5</th>\n",
       "      <td>Pollard</td>\n",
       "      <td>NaN</td>\n",
       "      <td>NaN</td>\n",
       "      <td>MI</td>\n",
       "      <td>38.0</td>\n",
       "    </tr>\n",
       "    <tr>\n",
       "      <th>6</th>\n",
       "      <td>De Cock</td>\n",
       "      <td>NaN</td>\n",
       "      <td>NaN</td>\n",
       "      <td>LSG</td>\n",
       "      <td>41.0</td>\n",
       "    </tr>\n",
       "    <tr>\n",
       "      <th>7</th>\n",
       "      <td>Moeeb Ali</td>\n",
       "      <td>NaN</td>\n",
       "      <td>NaN</td>\n",
       "      <td>CSK</td>\n",
       "      <td>47.0</td>\n",
       "    </tr>\n",
       "  </tbody>\n",
       "</table>\n",
       "</div>"
      ],
      "text/plain": [
       "      Player Team_x  Avg_x Team_y  Avg_y\n",
       "0      Virat    RCB   45.0    NaN    NaN\n",
       "1      Rohit     MI   39.0    NaN    NaN\n",
       "2   KL Rahul    LSG   34.0    NaN    NaN\n",
       "3     Sachin     MI   46.0    NaN    NaN\n",
       "4         AB    NaN    NaN    RCB    5.0\n",
       "5    Pollard    NaN    NaN     MI   38.0\n",
       "6    De Cock    NaN    NaN    LSG   41.0\n",
       "7  Moeeb Ali    NaN    NaN    CSK   47.0"
      ]
     },
     "execution_count": 311,
     "metadata": {},
     "output_type": "execute_result"
    }
   ],
   "source": [
    "df"
   ]
  },
  {
   "cell_type": "code",
   "execution_count": 318,
   "id": "dae175d5",
   "metadata": {},
   "outputs": [
    {
     "data": {
      "text/html": [
       "<div>\n",
       "<style scoped>\n",
       "    .dataframe tbody tr th:only-of-type {\n",
       "        vertical-align: middle;\n",
       "    }\n",
       "\n",
       "    .dataframe tbody tr th {\n",
       "        vertical-align: top;\n",
       "    }\n",
       "\n",
       "    .dataframe thead th {\n",
       "        text-align: right;\n",
       "    }\n",
       "</style>\n",
       "<table border=\"1\" class=\"dataframe\">\n",
       "  <thead>\n",
       "    <tr style=\"text-align: right;\">\n",
       "      <th></th>\n",
       "      <th>Player</th>\n",
       "      <th>Team</th>\n",
       "      <th>Avg</th>\n",
       "    </tr>\n",
       "  </thead>\n",
       "  <tbody>\n",
       "    <tr>\n",
       "      <th>0</th>\n",
       "      <td>Virat</td>\n",
       "      <td>RCB</td>\n",
       "      <td>45</td>\n",
       "    </tr>\n",
       "    <tr>\n",
       "      <th>1</th>\n",
       "      <td>Rohit</td>\n",
       "      <td>MI</td>\n",
       "      <td>39</td>\n",
       "    </tr>\n",
       "    <tr>\n",
       "      <th>2</th>\n",
       "      <td>KL Rahul</td>\n",
       "      <td>LSG</td>\n",
       "      <td>34</td>\n",
       "    </tr>\n",
       "    <tr>\n",
       "      <th>3</th>\n",
       "      <td>Sachin</td>\n",
       "      <td>MI</td>\n",
       "      <td>46</td>\n",
       "    </tr>\n",
       "    <tr>\n",
       "      <th>4</th>\n",
       "      <td>AB</td>\n",
       "      <td>RCB</td>\n",
       "      <td>5</td>\n",
       "    </tr>\n",
       "    <tr>\n",
       "      <th>5</th>\n",
       "      <td>Pollard</td>\n",
       "      <td>MI</td>\n",
       "      <td>38</td>\n",
       "    </tr>\n",
       "    <tr>\n",
       "      <th>6</th>\n",
       "      <td>De Cock</td>\n",
       "      <td>LSG</td>\n",
       "      <td>41</td>\n",
       "    </tr>\n",
       "    <tr>\n",
       "      <th>7</th>\n",
       "      <td>Moeeb Ali</td>\n",
       "      <td>CSK</td>\n",
       "      <td>47</td>\n",
       "    </tr>\n",
       "  </tbody>\n",
       "</table>\n",
       "</div>"
      ],
      "text/plain": [
       "      Player Team  Avg\n",
       "0      Virat  RCB   45\n",
       "1      Rohit   MI   39\n",
       "2   KL Rahul  LSG   34\n",
       "3     Sachin   MI   46\n",
       "4         AB  RCB    5\n",
       "5    Pollard   MI   38\n",
       "6    De Cock  LSG   41\n",
       "7  Moeeb Ali  CSK   47"
      ]
     },
     "execution_count": 318,
     "metadata": {},
     "output_type": "execute_result"
    }
   ],
   "source": [
    "df"
   ]
  },
  {
   "cell_type": "code",
   "execution_count": 325,
   "id": "e007e971",
   "metadata": {},
   "outputs": [
    {
     "data": {
      "text/html": [
       "<div>\n",
       "<style scoped>\n",
       "    .dataframe tbody tr th:only-of-type {\n",
       "        vertical-align: middle;\n",
       "    }\n",
       "\n",
       "    .dataframe tbody tr th {\n",
       "        vertical-align: top;\n",
       "    }\n",
       "\n",
       "    .dataframe thead th {\n",
       "        text-align: right;\n",
       "    }\n",
       "</style>\n",
       "<table border=\"1\" class=\"dataframe\">\n",
       "  <thead>\n",
       "    <tr style=\"text-align: right;\">\n",
       "      <th></th>\n",
       "      <th>Player</th>\n",
       "      <th>Team</th>\n",
       "      <th>Avg</th>\n",
       "    </tr>\n",
       "  </thead>\n",
       "  <tbody>\n",
       "    <tr>\n",
       "      <th>0</th>\n",
       "      <td>Virat</td>\n",
       "      <td>RCB</td>\n",
       "      <td>45</td>\n",
       "    </tr>\n",
       "    <tr>\n",
       "      <th>3</th>\n",
       "      <td>Sachin</td>\n",
       "      <td>MI</td>\n",
       "      <td>46</td>\n",
       "    </tr>\n",
       "    <tr>\n",
       "      <th>4</th>\n",
       "      <td>AB</td>\n",
       "      <td>RCB</td>\n",
       "      <td>5</td>\n",
       "    </tr>\n",
       "    <tr>\n",
       "      <th>7</th>\n",
       "      <td>Moeeb Ali</td>\n",
       "      <td>CSK</td>\n",
       "      <td>47</td>\n",
       "    </tr>\n",
       "  </tbody>\n",
       "</table>\n",
       "</div>"
      ],
      "text/plain": [
       "      Player Team  Avg\n",
       "0      Virat  RCB   45\n",
       "3     Sachin   MI   46\n",
       "4         AB  RCB    5\n",
       "7  Moeeb Ali  CSK   47"
      ]
     },
     "execution_count": 325,
     "metadata": {},
     "output_type": "execute_result"
    }
   ],
   "source": [
    "df.loc[(df[\"Team\"] == \"RCB\") |(df[\"Avg\"] > 45)]"
   ]
  },
  {
   "cell_type": "code",
   "execution_count": 326,
   "id": "2f86cf6a",
   "metadata": {},
   "outputs": [
    {
     "data": {
      "text/html": [
       "<div>\n",
       "<style scoped>\n",
       "    .dataframe tbody tr th:only-of-type {\n",
       "        vertical-align: middle;\n",
       "    }\n",
       "\n",
       "    .dataframe tbody tr th {\n",
       "        vertical-align: top;\n",
       "    }\n",
       "\n",
       "    .dataframe thead th {\n",
       "        text-align: right;\n",
       "    }\n",
       "</style>\n",
       "<table border=\"1\" class=\"dataframe\">\n",
       "  <thead>\n",
       "    <tr style=\"text-align: right;\">\n",
       "      <th></th>\n",
       "      <th>Player</th>\n",
       "      <th>Team</th>\n",
       "      <th>Avg</th>\n",
       "    </tr>\n",
       "  </thead>\n",
       "  <tbody>\n",
       "    <tr>\n",
       "      <th>0</th>\n",
       "      <td>Virat</td>\n",
       "      <td>RCB</td>\n",
       "      <td>45</td>\n",
       "    </tr>\n",
       "    <tr>\n",
       "      <th>4</th>\n",
       "      <td>AB</td>\n",
       "      <td>RCB</td>\n",
       "      <td>5</td>\n",
       "    </tr>\n",
       "  </tbody>\n",
       "</table>\n",
       "</div>"
      ],
      "text/plain": [
       "  Player Team  Avg\n",
       "0  Virat  RCB   45\n",
       "4     AB  RCB    5"
      ]
     },
     "execution_count": 326,
     "metadata": {},
     "output_type": "execute_result"
    }
   ],
   "source": [
    "df.loc[(df[\"Team\"] == \"RCB\")]"
   ]
  },
  {
   "cell_type": "code",
   "execution_count": 327,
   "id": "5edcf90d",
   "metadata": {},
   "outputs": [
    {
     "data": {
      "text/html": [
       "<div>\n",
       "<style scoped>\n",
       "    .dataframe tbody tr th:only-of-type {\n",
       "        vertical-align: middle;\n",
       "    }\n",
       "\n",
       "    .dataframe tbody tr th {\n",
       "        vertical-align: top;\n",
       "    }\n",
       "\n",
       "    .dataframe thead th {\n",
       "        text-align: right;\n",
       "    }\n",
       "</style>\n",
       "<table border=\"1\" class=\"dataframe\">\n",
       "  <thead>\n",
       "    <tr style=\"text-align: right;\">\n",
       "      <th></th>\n",
       "      <th>Player</th>\n",
       "      <th>Team</th>\n",
       "      <th>Avg</th>\n",
       "    </tr>\n",
       "  </thead>\n",
       "  <tbody>\n",
       "    <tr>\n",
       "      <th>3</th>\n",
       "      <td>Sachin</td>\n",
       "      <td>MI</td>\n",
       "      <td>46</td>\n",
       "    </tr>\n",
       "    <tr>\n",
       "      <th>7</th>\n",
       "      <td>Moeeb Ali</td>\n",
       "      <td>CSK</td>\n",
       "      <td>47</td>\n",
       "    </tr>\n",
       "  </tbody>\n",
       "</table>\n",
       "</div>"
      ],
      "text/plain": [
       "      Player Team  Avg\n",
       "3     Sachin   MI   46\n",
       "7  Moeeb Ali  CSK   47"
      ]
     },
     "execution_count": 327,
     "metadata": {},
     "output_type": "execute_result"
    }
   ],
   "source": [
    "df.loc[(df[\"Avg\"] > 45)]"
   ]
  },
  {
   "cell_type": "markdown",
   "id": "e7654275",
   "metadata": {},
   "source": [
    "### Second Highest No from a List"
   ]
  },
  {
   "cell_type": "code",
   "execution_count": null,
   "id": "e8041ab9",
   "metadata": {},
   "outputs": [],
   "source": [
    "x = [10, 20, 5, 15, 30]\n",
    "\n",
    "highest = x[0]\n",
    "second_highest = x[0]\n",
    "\n",
    "for i in x:\n",
    "    if i > highest:\n",
    "        second_highest = highest\n",
    "        highest = i\n",
    "    elif i > second_highest and i < highest:\n",
    "        second_highest = i\n",
    "\n",
    "print(\"The second highest number is:\", second_highest)"
   ]
  },
  {
   "cell_type": "code",
   "execution_count": 337,
   "id": "40c188d1",
   "metadata": {},
   "outputs": [
    {
     "data": {
      "text/plain": [
       "[30, 20, 15, 10, 5]"
      ]
     },
     "execution_count": 337,
     "metadata": {},
     "output_type": "execute_result"
    }
   ],
   "source": [
    "x = [10, 20, 5, 15, 30]\n",
    "x.sort(reverse = True)\n",
    "x"
   ]
  },
  {
   "cell_type": "code",
   "execution_count": 338,
   "id": "ffd82554",
   "metadata": {},
   "outputs": [
    {
     "data": {
      "text/plain": [
       "20"
      ]
     },
     "execution_count": 338,
     "metadata": {},
     "output_type": "execute_result"
    }
   ],
   "source": [
    "x[1]"
   ]
  },
  {
   "cell_type": "markdown",
   "id": "0c2faa79",
   "metadata": {},
   "source": [
    "### Most repeated character in a String"
   ]
  },
  {
   "cell_type": "code",
   "execution_count": 328,
   "id": "5b7cc13a",
   "metadata": {},
   "outputs": [
    {
     "name": "stdout",
     "output_type": "stream",
     "text": [
      "('the', 8)\n"
     ]
    }
   ],
   "source": [
    "def word_count(x):\n",
    "    count = dict()\n",
    "    y = x.split()\n",
    "    for i in y:\n",
    "        if  i in count:\n",
    "            count[i] +=1\n",
    "        else:\n",
    "            count[i] =1\n",
    "    count_x = sorted(count.items(), key = lambda t: t[1])\n",
    "    return count_x[-1] # -2/-3/-4 etc...\n",
    "\n",
    "print(word_count(\"Both of these issues are fixed by postponing the evaluation of annotations. Instead of compiling code which executes expressions in annotations at their definition time, the compiler stores the annotation in a string form equivalent to the AST of the expression in question. If needed, annotations can be resolved at runtime using typing.get_type_hints(). In the common case where this is not required, the annotations are cheaper to store (since short strings are interned by the interpreter) and make startup time faster.\"))"
   ]
  },
  {
   "cell_type": "code",
   "execution_count": 349,
   "id": "d334a9bb",
   "metadata": {},
   "outputs": [],
   "source": [
    "def word_repeat(x):\n",
    "    count = dict()\n",
    "    y = x.split()\n",
    "    for i in y:\n",
    "        if i in count:\n",
    "            count[i]+=1\n",
    "        else:\n",
    "            count[i] = 1\n",
    "            \n",
    "    counted = sorted(count.items(), key = lambda x:x[1])\n",
    "    return counted"
   ]
  },
  {
   "cell_type": "code",
   "execution_count": 350,
   "id": "240e229f",
   "metadata": {},
   "outputs": [
    {
     "data": {
      "text/plain": [
       "[('while', 1),\n",
       " ('working', 1),\n",
       " ('with', 1),\n",
       " ('Python', 1),\n",
       " ('dictionaries,', 1),\n",
       " ('problem', 1),\n",
       " ('the', 1),\n",
       " ('sorting', 1),\n",
       " ('of', 1),\n",
       " ('it,', 1),\n",
       " ('wrt', 1),\n",
       " ('keys,', 1),\n",
       " ('but', 1),\n",
       " ('also', 1),\n",
       " ('variation', 1),\n",
       " ('sort', 1),\n",
       " ('on', 1),\n",
       " ('its', 1),\n",
       " ('values', 1),\n",
       " ('list', 1),\n",
       " ('as', 1),\n",
       " ('well.', 1),\n",
       " ('Let’s', 1),\n",
       " ('discuss', 1),\n",
       " ('certain', 1),\n",
       " ('way', 1),\n",
       " ('this', 1),\n",
       " ('task', 1),\n",
       " ('be', 1),\n",
       " ('performed.', 1),\n",
       " ('have', 2),\n",
       " ('need', 2),\n",
       " ('to', 2),\n",
       " ('perform', 2),\n",
       " ('we', 3),\n",
       " ('can', 3),\n",
       " ('a', 3),\n",
       " ('in', 3),\n",
       " ('which', 3)]"
      ]
     },
     "execution_count": 350,
     "metadata": {},
     "output_type": "execute_result"
    }
   ],
   "source": [
    "x = \"\"\" while working with Python dictionaries, we can have a problem in which we need to perform the sorting of it, wrt keys, but also can have a variation in which we need to perform a sort on its values list as well. Let’s discuss certain way in which this task can be performed.\"\"\"\n",
    "word_repeat(x)"
   ]
  },
  {
   "cell_type": "markdown",
   "id": "7c91ce0a",
   "metadata": {},
   "source": [
    "### Prime No."
   ]
  },
  {
   "cell_type": "code",
   "execution_count": 358,
   "id": "124121bf",
   "metadata": {},
   "outputs": [
    {
     "name": "stdout",
     "output_type": "stream",
     "text": [
      "17 is a Prime No\n"
     ]
    }
   ],
   "source": [
    "n = 17\n",
    "\n",
    "for i in range(2,n):\n",
    "    if n%i == 0:\n",
    "        print(F\"{n} is not a Prime No\")\n",
    "        break\n",
    "else:\n",
    "    print(F\"{n} is a Prime No\")\n"
   ]
  },
  {
   "cell_type": "markdown",
   "id": "d552e10b",
   "metadata": {},
   "source": [
    "### Factorial"
   ]
  },
  {
   "cell_type": "code",
   "execution_count": 3,
   "id": "79a05987",
   "metadata": {},
   "outputs": [
    {
     "data": {
      "text/plain": [
       "120"
      ]
     },
     "execution_count": 3,
     "metadata": {},
     "output_type": "execute_result"
    }
   ],
   "source": [
    "def fact(n):\n",
    "    if n == 0:\n",
    "        return 1\n",
    "    else:\n",
    "        return n * fact(n-1)\n",
    "fact(5)"
   ]
  },
  {
   "cell_type": "markdown",
   "id": "28094b6a",
   "metadata": {},
   "source": [
    "### Fibonnia Series"
   ]
  },
  {
   "cell_type": "code",
   "execution_count": 10,
   "id": "d7ae9245",
   "metadata": {},
   "outputs": [
    {
     "name": "stdout",
     "output_type": "stream",
     "text": [
      "0\n",
      "1\n",
      "1\n",
      "2\n",
      "3\n",
      "5\n"
     ]
    }
   ],
   "source": [
    "n = 6\n",
    "first = 0\n",
    "second = 1\n",
    "\n",
    "print(first)\n",
    "print(second)\n",
    "\n",
    "for i in range(0,n-2):\n",
    "    new = first+second\n",
    "    first = second\n",
    "    second = new\n",
    "    print(new)"
   ]
  },
  {
   "cell_type": "markdown",
   "id": "61a990de",
   "metadata": {},
   "source": [
    "### Python code to remove duplicate elements"
   ]
  },
  {
   "cell_type": "code",
   "execution_count": 11,
   "id": "090a4841",
   "metadata": {},
   "outputs": [
    {
     "name": "stdout",
     "output_type": "stream",
     "text": [
      "[2, 4, 10, 20, 5]\n"
     ]
    }
   ],
   "source": [
    "x = [2, 4, 10, 20, 5, 2, 20, 4]\n",
    "\n",
    "dup = []\n",
    "for i in x:\n",
    "    if i not in dup:\n",
    "        dup.append(i)\n",
    "print(dup)"
   ]
  },
  {
   "cell_type": "code",
   "execution_count": 12,
   "id": "586eddbf",
   "metadata": {},
   "outputs": [
    {
     "data": {
      "text/plain": [
       "{2, 4, 5, 10, 20}"
      ]
     },
     "execution_count": 12,
     "metadata": {},
     "output_type": "execute_result"
    }
   ],
   "source": [
    "set(x)"
   ]
  },
  {
   "cell_type": "markdown",
   "id": "9ea6a16b",
   "metadata": {},
   "source": [
    "### Write the code to check whether the given string is palindrome or not"
   ]
  },
  {
   "cell_type": "code",
   "execution_count": 13,
   "id": "fd51a480",
   "metadata": {},
   "outputs": [],
   "source": [
    "def rev(x):\n",
    "    if x ==x[::-1]:\n",
    "        print(\"Its a Palindrome\")\n",
    "    else:\n",
    "        print(\"Its not a Palindrome\")\n",
    "    "
   ]
  },
  {
   "cell_type": "code",
   "execution_count": 14,
   "id": "e9ba6ff7",
   "metadata": {},
   "outputs": [
    {
     "name": "stdout",
     "output_type": "stream",
     "text": [
      "Its not a Palindrome\n"
     ]
    }
   ],
   "source": [
    "x = \"Vipin\"\n",
    "rev(x)"
   ]
  },
  {
   "cell_type": "code",
   "execution_count": 15,
   "id": "60e9b3e3",
   "metadata": {},
   "outputs": [
    {
     "name": "stdout",
     "output_type": "stream",
     "text": [
      "Its a Palindrome\n"
     ]
    }
   ],
   "source": [
    "x = \"civic\"\n",
    "rev(x)"
   ]
  },
  {
   "cell_type": "code",
   "execution_count": null,
   "id": "b8e932d1",
   "metadata": {},
   "outputs": [],
   "source": [
    "x  = \"Sky is blue\"\n",
    "x.splt()"
   ]
  },
  {
   "cell_type": "code",
   "execution_count": 3,
   "id": "f964b3c7",
   "metadata": {},
   "outputs": [],
   "source": [
    "x = {\"Salary\":['200','500','754','651','105','976','248','325','554','677'],\n",
    "     \"Marks\":['85','20','35','95','68','75','41','23','36','85']}\n",
    "df = pd.DataFrame(x)"
   ]
  },
  {
   "cell_type": "code",
   "execution_count": 4,
   "id": "128845c1",
   "metadata": {},
   "outputs": [
    {
     "data": {
      "text/plain": [
       "<bound method Series.unique of 0    85\n",
       "1    20\n",
       "2    35\n",
       "3    95\n",
       "4    68\n",
       "5    75\n",
       "6    41\n",
       "7    23\n",
       "8    36\n",
       "9    85\n",
       "Name: Marks, dtype: object>"
      ]
     },
     "execution_count": 4,
     "metadata": {},
     "output_type": "execute_result"
    }
   ],
   "source": [
    "df[\"Marks\"].unique"
   ]
  },
  {
   "cell_type": "code",
   "execution_count": 5,
   "id": "e12063da",
   "metadata": {},
   "outputs": [
    {
     "data": {
      "text/html": [
       "<div>\n",
       "<style scoped>\n",
       "    .dataframe tbody tr th:only-of-type {\n",
       "        vertical-align: middle;\n",
       "    }\n",
       "\n",
       "    .dataframe tbody tr th {\n",
       "        vertical-align: top;\n",
       "    }\n",
       "\n",
       "    .dataframe thead th {\n",
       "        text-align: right;\n",
       "    }\n",
       "</style>\n",
       "<table border=\"1\" class=\"dataframe\">\n",
       "  <thead>\n",
       "    <tr style=\"text-align: right;\">\n",
       "      <th></th>\n",
       "      <th>Salary</th>\n",
       "      <th>Marks</th>\n",
       "    </tr>\n",
       "  </thead>\n",
       "  <tbody>\n",
       "    <tr>\n",
       "      <th>0</th>\n",
       "      <td>200</td>\n",
       "      <td>85</td>\n",
       "    </tr>\n",
       "    <tr>\n",
       "      <th>1</th>\n",
       "      <td>500</td>\n",
       "      <td>20</td>\n",
       "    </tr>\n",
       "    <tr>\n",
       "      <th>2</th>\n",
       "      <td>754</td>\n",
       "      <td>35</td>\n",
       "    </tr>\n",
       "    <tr>\n",
       "      <th>3</th>\n",
       "      <td>651</td>\n",
       "      <td>95</td>\n",
       "    </tr>\n",
       "    <tr>\n",
       "      <th>4</th>\n",
       "      <td>105</td>\n",
       "      <td>68</td>\n",
       "    </tr>\n",
       "    <tr>\n",
       "      <th>5</th>\n",
       "      <td>976</td>\n",
       "      <td>75</td>\n",
       "    </tr>\n",
       "    <tr>\n",
       "      <th>6</th>\n",
       "      <td>248</td>\n",
       "      <td>41</td>\n",
       "    </tr>\n",
       "    <tr>\n",
       "      <th>7</th>\n",
       "      <td>325</td>\n",
       "      <td>23</td>\n",
       "    </tr>\n",
       "    <tr>\n",
       "      <th>8</th>\n",
       "      <td>554</td>\n",
       "      <td>36</td>\n",
       "    </tr>\n",
       "    <tr>\n",
       "      <th>9</th>\n",
       "      <td>677</td>\n",
       "      <td>85</td>\n",
       "    </tr>\n",
       "  </tbody>\n",
       "</table>\n",
       "</div>"
      ],
      "text/plain": [
       "  Salary Marks\n",
       "0    200    85\n",
       "1    500    20\n",
       "2    754    35\n",
       "3    651    95\n",
       "4    105    68\n",
       "5    976    75\n",
       "6    248    41\n",
       "7    325    23\n",
       "8    554    36\n",
       "9    677    85"
      ]
     },
     "execution_count": 5,
     "metadata": {},
     "output_type": "execute_result"
    }
   ],
   "source": [
    "df"
   ]
  },
  {
   "cell_type": "code",
   "execution_count": 6,
   "id": "f4ea19b6",
   "metadata": {},
   "outputs": [
    {
     "data": {
      "text/html": [
       "<div>\n",
       "<style scoped>\n",
       "    .dataframe tbody tr th:only-of-type {\n",
       "        vertical-align: middle;\n",
       "    }\n",
       "\n",
       "    .dataframe tbody tr th {\n",
       "        vertical-align: top;\n",
       "    }\n",
       "\n",
       "    .dataframe thead th {\n",
       "        text-align: right;\n",
       "    }\n",
       "</style>\n",
       "<table border=\"1\" class=\"dataframe\">\n",
       "  <thead>\n",
       "    <tr style=\"text-align: right;\">\n",
       "      <th></th>\n",
       "      <th>Salary</th>\n",
       "      <th>Marks</th>\n",
       "      <th>Class</th>\n",
       "    </tr>\n",
       "  </thead>\n",
       "  <tbody>\n",
       "    <tr>\n",
       "      <th>0</th>\n",
       "      <td>200</td>\n",
       "      <td>85</td>\n",
       "      <td>85.0</td>\n",
       "    </tr>\n",
       "    <tr>\n",
       "      <th>1</th>\n",
       "      <td>500</td>\n",
       "      <td>20</td>\n",
       "      <td>54.0</td>\n",
       "    </tr>\n",
       "    <tr>\n",
       "      <th>2</th>\n",
       "      <td>754</td>\n",
       "      <td>35</td>\n",
       "      <td>56.0</td>\n",
       "    </tr>\n",
       "    <tr>\n",
       "      <th>3</th>\n",
       "      <td>651</td>\n",
       "      <td>95</td>\n",
       "      <td>52.0</td>\n",
       "    </tr>\n",
       "    <tr>\n",
       "      <th>4</th>\n",
       "      <td>105</td>\n",
       "      <td>68</td>\n",
       "      <td>58.0</td>\n",
       "    </tr>\n",
       "    <tr>\n",
       "      <th>5</th>\n",
       "      <td>976</td>\n",
       "      <td>75</td>\n",
       "      <td>7.0</td>\n",
       "    </tr>\n",
       "    <tr>\n",
       "      <th>6</th>\n",
       "      <td>248</td>\n",
       "      <td>41</td>\n",
       "      <td>4.0</td>\n",
       "    </tr>\n",
       "    <tr>\n",
       "      <th>7</th>\n",
       "      <td>325</td>\n",
       "      <td>23</td>\n",
       "      <td>56.0</td>\n",
       "    </tr>\n",
       "    <tr>\n",
       "      <th>8</th>\n",
       "      <td>554</td>\n",
       "      <td>36</td>\n",
       "      <td>NaN</td>\n",
       "    </tr>\n",
       "    <tr>\n",
       "      <th>9</th>\n",
       "      <td>677</td>\n",
       "      <td>85</td>\n",
       "      <td>NaN</td>\n",
       "    </tr>\n",
       "  </tbody>\n",
       "</table>\n",
       "</div>"
      ],
      "text/plain": [
       "  Salary Marks  Class\n",
       "0    200    85   85.0\n",
       "1    500    20   54.0\n",
       "2    754    35   56.0\n",
       "3    651    95   52.0\n",
       "4    105    68   58.0\n",
       "5    976    75    7.0\n",
       "6    248    41    4.0\n",
       "7    325    23   56.0\n",
       "8    554    36    NaN\n",
       "9    677    85    NaN"
      ]
     },
     "execution_count": 6,
     "metadata": {},
     "output_type": "execute_result"
    }
   ],
   "source": [
    "df[\"Class\"]  =pd.Series([85,54,56,52,58,7,4,56])\n",
    "df"
   ]
  },
  {
   "cell_type": "code",
   "execution_count": 7,
   "id": "81e956d1",
   "metadata": {},
   "outputs": [
    {
     "ename": "TypeError",
     "evalue": "'<' not supported between instances of 'int' and 'str'",
     "output_type": "error",
     "traceback": [
      "\u001b[1;31m---------------------------------------------------------------------------\u001b[0m",
      "\u001b[1;31mTypeError\u001b[0m                                 Traceback (most recent call last)",
      "\u001b[1;32m~\\AppData\\Local\\Temp/ipykernel_11528/4036901553.py\u001b[0m in \u001b[0;36m<module>\u001b[1;34m\u001b[0m\n\u001b[0;32m      1\u001b[0m \u001b[0mmr\u001b[0m \u001b[1;33m=\u001b[0m \u001b[1;33m[\u001b[0m\u001b[1;36m0\u001b[0m\u001b[1;33m,\u001b[0m\u001b[1;36m20\u001b[0m\u001b[1;33m,\u001b[0m\u001b[1;36m40\u001b[0m\u001b[1;33m,\u001b[0m\u001b[1;36m60\u001b[0m\u001b[1;33m,\u001b[0m\u001b[1;36m80\u001b[0m\u001b[1;33m,\u001b[0m\u001b[1;36m100\u001b[0m\u001b[1;33m]\u001b[0m\u001b[1;33m\u001b[0m\u001b[1;33m\u001b[0m\u001b[0m\n\u001b[0;32m      2\u001b[0m \u001b[0mgp_name\u001b[0m \u001b[1;33m=\u001b[0m \u001b[1;33m[\u001b[0m\u001b[1;34m\"Very_Poor\"\u001b[0m\u001b[1;33m,\u001b[0m\u001b[1;34m\"Poor\"\u001b[0m\u001b[1;33m,\u001b[0m\u001b[1;34m\"Average\"\u001b[0m\u001b[1;33m,\u001b[0m\u001b[1;34m\"Good\"\u001b[0m\u001b[1;33m,\u001b[0m\u001b[1;34m\"Brilliant\"\u001b[0m\u001b[1;33m]\u001b[0m\u001b[1;33m\u001b[0m\u001b[1;33m\u001b[0m\u001b[0m\n\u001b[1;32m----> 3\u001b[1;33m \u001b[0mdf\u001b[0m\u001b[1;33m[\u001b[0m\u001b[1;34m\"Category\"\u001b[0m\u001b[1;33m]\u001b[0m \u001b[1;33m=\u001b[0m \u001b[0mpd\u001b[0m\u001b[1;33m.\u001b[0m\u001b[0mcut\u001b[0m\u001b[1;33m(\u001b[0m\u001b[0mdf\u001b[0m\u001b[1;33m[\u001b[0m\u001b[1;34m\"Marks\"\u001b[0m\u001b[1;33m]\u001b[0m\u001b[1;33m,\u001b[0m \u001b[0mmr\u001b[0m\u001b[1;33m,\u001b[0m \u001b[0mlabels\u001b[0m \u001b[1;33m=\u001b[0m \u001b[0mgp_name\u001b[0m\u001b[1;33m)\u001b[0m\u001b[1;33m\u001b[0m\u001b[1;33m\u001b[0m\u001b[0m\n\u001b[0m",
      "\u001b[1;32m~\\anaconda3\\lib\\site-packages\\pandas\\core\\reshape\\tile.py\u001b[0m in \u001b[0;36mcut\u001b[1;34m(x, bins, right, labels, retbins, precision, include_lowest, duplicates, ordered)\u001b[0m\n\u001b[0;32m    285\u001b[0m             \u001b[1;32mraise\u001b[0m \u001b[0mValueError\u001b[0m\u001b[1;33m(\u001b[0m\u001b[1;34m\"bins must increase monotonically.\"\u001b[0m\u001b[1;33m)\u001b[0m\u001b[1;33m\u001b[0m\u001b[1;33m\u001b[0m\u001b[0m\n\u001b[0;32m    286\u001b[0m \u001b[1;33m\u001b[0m\u001b[0m\n\u001b[1;32m--> 287\u001b[1;33m     fac, bins = _bins_to_cuts(\n\u001b[0m\u001b[0;32m    288\u001b[0m         \u001b[0mx\u001b[0m\u001b[1;33m,\u001b[0m\u001b[1;33m\u001b[0m\u001b[1;33m\u001b[0m\u001b[0m\n\u001b[0;32m    289\u001b[0m         \u001b[0mbins\u001b[0m\u001b[1;33m,\u001b[0m\u001b[1;33m\u001b[0m\u001b[1;33m\u001b[0m\u001b[0m\n",
      "\u001b[1;32m~\\anaconda3\\lib\\site-packages\\pandas\\core\\reshape\\tile.py\u001b[0m in \u001b[0;36m_bins_to_cuts\u001b[1;34m(x, bins, right, labels, precision, include_lowest, dtype, duplicates, ordered)\u001b[0m\n\u001b[0;32m    419\u001b[0m \u001b[1;33m\u001b[0m\u001b[0m\n\u001b[0;32m    420\u001b[0m     \u001b[0mside\u001b[0m \u001b[1;33m=\u001b[0m \u001b[1;34m\"left\"\u001b[0m \u001b[1;32mif\u001b[0m \u001b[0mright\u001b[0m \u001b[1;32melse\u001b[0m \u001b[1;34m\"right\"\u001b[0m\u001b[1;33m\u001b[0m\u001b[1;33m\u001b[0m\u001b[0m\n\u001b[1;32m--> 421\u001b[1;33m     \u001b[0mids\u001b[0m \u001b[1;33m=\u001b[0m \u001b[0mensure_platform_int\u001b[0m\u001b[1;33m(\u001b[0m\u001b[0mbins\u001b[0m\u001b[1;33m.\u001b[0m\u001b[0msearchsorted\u001b[0m\u001b[1;33m(\u001b[0m\u001b[0mx\u001b[0m\u001b[1;33m,\u001b[0m \u001b[0mside\u001b[0m\u001b[1;33m=\u001b[0m\u001b[0mside\u001b[0m\u001b[1;33m)\u001b[0m\u001b[1;33m)\u001b[0m\u001b[1;33m\u001b[0m\u001b[1;33m\u001b[0m\u001b[0m\n\u001b[0m\u001b[0;32m    422\u001b[0m \u001b[1;33m\u001b[0m\u001b[0m\n\u001b[0;32m    423\u001b[0m     \u001b[1;32mif\u001b[0m \u001b[0minclude_lowest\u001b[0m\u001b[1;33m:\u001b[0m\u001b[1;33m\u001b[0m\u001b[1;33m\u001b[0m\u001b[0m\n",
      "\u001b[1;31mTypeError\u001b[0m: '<' not supported between instances of 'int' and 'str'"
     ]
    }
   ],
   "source": [
    "mr = [0,20,40,60,80,100]\n",
    "gp_name = [\"Very_Poor\",\"Poor\",\"Average\",\"Good\",\"Brilliant\"]\n",
    "df[\"Category\"] = pd.cut(df[\"Marks\"], mr, labels = gp_name)"
   ]
  },
  {
   "cell_type": "markdown",
   "id": "5e998aa2",
   "metadata": {},
   "source": [
    "### Write a program to print every character of a string entered by the user in a new line using a loop?"
   ]
  },
  {
   "cell_type": "code",
   "execution_count": 9,
   "id": "f5ae2730",
   "metadata": {},
   "outputs": [
    {
     "name": "stdout",
     "output_type": "stream",
     "text": [
      "Enter your Name Vipin\n",
      "V\n",
      "i\n",
      "p\n",
      "i\n",
      "n\n"
     ]
    }
   ],
   "source": [
    "x = input(\"Enter your Name \")\n",
    "\n",
    "for i in x:\n",
    "    print(i)"
   ]
  },
  {
   "cell_type": "markdown",
   "id": "5eeb8a66",
   "metadata": {},
   "source": [
    "### Write a program to find the length of the string \"machine learning\" with and without using len function"
   ]
  },
  {
   "cell_type": "code",
   "execution_count": 10,
   "id": "98de36d7",
   "metadata": {},
   "outputs": [
    {
     "data": {
      "text/plain": [
       "16"
      ]
     },
     "execution_count": 10,
     "metadata": {},
     "output_type": "execute_result"
    }
   ],
   "source": [
    "x = \"Machine Learning\"\n",
    "len(x)"
   ]
  },
  {
   "cell_type": "code",
   "execution_count": 12,
   "id": "cedb9cee",
   "metadata": {},
   "outputs": [
    {
     "name": "stdout",
     "output_type": "stream",
     "text": [
      "16\n"
     ]
    }
   ],
   "source": [
    "count = 0\n",
    "for i in x:\n",
    "    count+=1\n",
    "print(count)    "
   ]
  },
  {
   "cell_type": "markdown",
   "id": "a02ef269",
   "metadata": {},
   "source": [
    "### Write a program to check if the word 'orange' is present in the \"This is orange juice\""
   ]
  },
  {
   "cell_type": "code",
   "execution_count": 13,
   "id": "e7b88de8",
   "metadata": {},
   "outputs": [
    {
     "data": {
      "text/plain": [
       "True"
      ]
     },
     "execution_count": 13,
     "metadata": {},
     "output_type": "execute_result"
    }
   ],
   "source": [
    "x = \"This is orange juice\"\n",
    "\n",
    "\"orange\" in x"
   ]
  },
  {
   "cell_type": "markdown",
   "id": "6443f61e",
   "metadata": {},
   "source": [
    "### Write a program to find the number of vowels, consonants, digits, and white space characters in a string"
   ]
  },
  {
   "cell_type": "code",
   "execution_count": 15,
   "id": "52ff124e",
   "metadata": {},
   "outputs": [
    {
     "data": {
      "text/plain": [
       "'Data science is a field that studies data and how to extract meaning from it,\\n       whereas machine learning is a field devoted to understanding and building methods \\n       that utilize data to improve performance or inform predictions.'"
      ]
     },
     "execution_count": 15,
     "metadata": {},
     "output_type": "execute_result"
    }
   ],
   "source": [
    "x = \"\"\"Data science is a field that studies data and how to extract meaning from it,\n",
    "       whereas machine learning is a field devoted to understanding and building methods \n",
    "       that utilize data to improve performance or inform predictions.\"\"\"\n",
    "       \n",
    "x"
   ]
  },
  {
   "cell_type": "code",
   "execution_count": 16,
   "id": "ed62de22",
   "metadata": {},
   "outputs": [
    {
     "name": "stdout",
     "output_type": "stream",
     "text": [
      "74\n",
      "111\n",
      "0\n",
      "53\n"
     ]
    }
   ],
   "source": [
    "vo = 'aeiou'\n",
    "co = 'bcdfghjklmnpqrstvwxyz'\n",
    "di = '0123456789'\n",
    "wp = \" \"\n",
    "\n",
    "v = 0\n",
    "c = 0\n",
    "d = 0\n",
    "w_ = 0\n",
    "\n",
    "for i in x:\n",
    "    if i in vo:\n",
    "        v+=1\n",
    "    elif i in co:\n",
    "        c+=1\n",
    "    elif i in di:\n",
    "        d+=1\n",
    "    else:\n",
    "        w_+=1\n",
    "print(v)\n",
    "print(c)\n",
    "print(d)\n",
    "print(w_)\n",
    "        "
   ]
  },
  {
   "cell_type": "code",
   "execution_count": 18,
   "id": "0ecf8e65",
   "metadata": {},
   "outputs": [
    {
     "name": "stdout",
     "output_type": "stream",
     "text": [
      "['a', 'a', 'i', 'e', 'e', 'i', 'a', 'i', 'e', 'a', 'u', 'i', 'e', 'a', 'a', 'a', 'o', 'o', 'e', 'a', 'e', 'a', 'i', 'o', 'i', 'e', 'e', 'a', 'a', 'i', 'e', 'e', 'a', 'i', 'i', 'a', 'i', 'e', 'e', 'o', 'e', 'o', 'u', 'e', 'a', 'i', 'a', 'u', 'i', 'i', 'e', 'o', 'a', 'u', 'i', 'i', 'e', 'a', 'a', 'o', 'i', 'o', 'e', 'e', 'o', 'a', 'e', 'o', 'i', 'o', 'e', 'i', 'i', 'o']\n",
      "['t', 's', 'c', 'n', 'c', 's', 'f', 'l', 'd', 't', 'h', 't', 's', 't', 'd', 's', 'd', 't', 'n', 'd', 'h', 'w', 't', 'x', 't', 'r', 'c', 't', 'm', 'n', 'n', 'g', 'f', 'r', 'm', 't', 'w', 'h', 'r', 's', 'm', 'c', 'h', 'n', 'l', 'r', 'n', 'n', 'g', 's', 'f', 'l', 'd', 'd', 'v', 't', 'd', 't', 'n', 'd', 'r', 's', 't', 'n', 'd', 'n', 'g', 'n', 'd', 'b', 'l', 'd', 'n', 'g', 'm', 't', 'h', 'd', 's', 't', 'h', 't', 't', 'l', 'z', 'd', 't', 't', 'm', 'p', 'r', 'v', 'p', 'r', 'f', 'r', 'm', 'n', 'c', 'r', 'n', 'f', 'r', 'm', 'p', 'r', 'd', 'c', 't', 'n', 's']\n",
      "[]\n",
      "['D', ' ', ' ', ' ', ' ', ' ', ' ', ' ', ' ', ' ', ' ', ' ', ' ', ' ', ' ', ',', '\\n', ' ', ' ', ' ', ' ', ' ', ' ', ' ', ' ', ' ', ' ', ' ', ' ', ' ', ' ', ' ', ' ', ' ', ' ', ' ', '\\n', ' ', ' ', ' ', ' ', ' ', ' ', ' ', ' ', ' ', ' ', ' ', ' ', ' ', ' ', ' ', '.']\n"
     ]
    }
   ],
   "source": [
    "vo = 'aeiou'\n",
    "co = 'bcdfghjklmnpqrstvwxyz'\n",
    "di = '0123456789'\n",
    "wp = \" \"\n",
    "\n",
    "v = []\n",
    "c = []\n",
    "d = []\n",
    "w_ = []\n",
    "\n",
    "for i in x:\n",
    "    if i in vo:\n",
    "        v.append(i)\n",
    "        \n",
    "    elif i in co:\n",
    "        c.append(i)\n",
    "    elif i in di:\n",
    "        d.append(i)\n",
    "    else:\n",
    "        w_.append(i)\n",
    "print(v)\n",
    "print(c)\n",
    "print(d)\n",
    "print(w_)\n",
    "        "
   ]
  },
  {
   "cell_type": "markdown",
   "id": "2e25c4f3",
   "metadata": {},
   "source": [
    "### Write a program to make a new string with all the consonants deleted from the string \"Hello, have a good day\""
   ]
  },
  {
   "cell_type": "code",
   "execution_count": 21,
   "id": "e0e20e62",
   "metadata": {},
   "outputs": [
    {
     "data": {
      "text/plain": [
       "'H l l ,   h v     g d   d y'"
      ]
     },
     "execution_count": 21,
     "metadata": {},
     "output_type": "execute_result"
    }
   ],
   "source": [
    "x = \"Hello, have a good day\"\n",
    "\n",
    "v = 'aeiouAEIOU'\n",
    "y = []\n",
    "\n",
    "for i in x:\n",
    "    if i not in v:\n",
    "        y.append(i)\n",
    "y = \" \".join(y)\n",
    "y"
   ]
  },
  {
   "cell_type": "markdown",
   "id": "5f4b7dc9",
   "metadata": {},
   "source": [
    "### Write a Python program to remove the nth index character from a non-empty string"
   ]
  },
  {
   "cell_type": "code",
   "execution_count": 27,
   "id": "47d60c22",
   "metadata": {},
   "outputs": [
    {
     "data": {
      "text/plain": [
       "'He  o, have a good day'"
      ]
     },
     "execution_count": 27,
     "metadata": {},
     "output_type": "execute_result"
    }
   ],
   "source": [
    "x = \"Hello, have a good day\"\n",
    "n = 2\n",
    "x = x.replace(x[n], \" \")\n",
    "x"
   ]
  },
  {
   "cell_type": "markdown",
   "id": "a3bda7d3",
   "metadata": {},
   "source": [
    "### Write a Python program to change a given string to a new string where the first and last characters have been exchanged"
   ]
  },
  {
   "cell_type": "code",
   "execution_count": 31,
   "id": "df0d8d12",
   "metadata": {},
   "outputs": [
    {
     "name": "stdout",
     "output_type": "stream",
     "text": [
      "We are Data Scientist\n"
     ]
    },
    {
     "data": {
      "text/plain": [
       "'te are Data ScientisW'"
      ]
     },
     "execution_count": 31,
     "metadata": {},
     "output_type": "execute_result"
    }
   ],
   "source": [
    "x = \"We are Data Scientist\"\n",
    "print(x)\n",
    "\n",
    "y = x[-1] + x[1:len(x)-1] +x[0]\n",
    "y"
   ]
  },
  {
   "cell_type": "code",
   "execution_count": 35,
   "id": "b70b675a",
   "metadata": {},
   "outputs": [
    {
     "name": "stdout",
     "output_type": "stream",
     "text": [
      " tsitneicS ataD era eW\n"
     ]
    }
   ],
   "source": [
    "rev = \" \"\n",
    "for i in range(len(x)-1,-1,-1):\n",
    "    rev+= x[i]\n",
    "    \n",
    "print(rev)"
   ]
  },
  {
   "cell_type": "markdown",
   "id": "86f3ae66",
   "metadata": {},
   "source": [
    "## Convert to Upper Case"
   ]
  },
  {
   "cell_type": "code",
   "execution_count": 37,
   "id": "c801102b",
   "metadata": {},
   "outputs": [
    {
     "data": {
      "text/plain": [
       "'DATA SCIENCE IS A FIELD THAT STUDIES DATA'"
      ]
     },
     "execution_count": 37,
     "metadata": {},
     "output_type": "execute_result"
    }
   ],
   "source": [
    "x = \"\"\"DATa science is a field that studies data\"\"\"\n",
    "x.upper()"
   ]
  },
  {
   "cell_type": "markdown",
   "id": "87ac832c",
   "metadata": {},
   "source": [
    "### Write a Python program to find the first repeated character in a given string"
   ]
  },
  {
   "cell_type": "code",
   "execution_count": 46,
   "id": "29a98041",
   "metadata": {},
   "outputs": [],
   "source": [
    "def rep(x):\n",
    "    count = dict()\n",
    "    for i in x:\n",
    "        if i in count:\n",
    "            count[i]+=1\n",
    "        else:\n",
    "            count[i]=1\n",
    "    counted = sorted(count.items(), key = lambda b:b[1])\n",
    "    return counted[-2]"
   ]
  },
  {
   "cell_type": "code",
   "execution_count": 47,
   "id": "037feadf",
   "metadata": {},
   "outputs": [
    {
     "data": {
      "text/plain": [
       "('a', 5)"
      ]
     },
     "execution_count": 47,
     "metadata": {},
     "output_type": "execute_result"
    }
   ],
   "source": [
    "x = \"\"\"DATa science is a field that studies data\"\"\"\n",
    "rep(x)\n"
   ]
  },
  {
   "cell_type": "code",
   "execution_count": 50,
   "id": "87cb3eb8",
   "metadata": {},
   "outputs": [],
   "source": [
    "def rep(x):\n",
    "    count = dict()\n",
    "    y = x.split()\n",
    "    for i in y:\n",
    "        if i in count:\n",
    "            count[i]+=1\n",
    "        else:\n",
    "            count[i]=1\n",
    "    counted = sorted(count.items(), key = lambda b:b[1])\n",
    "    return counted[-2]"
   ]
  },
  {
   "cell_type": "code",
   "execution_count": 51,
   "id": "2a091502",
   "metadata": {},
   "outputs": [
    {
     "data": {
      "text/plain": [
       "('values', 3)"
      ]
     },
     "execution_count": 51,
     "metadata": {},
     "output_type": "execute_result"
    }
   ],
   "source": [
    "rep(\"Note that the number of categories should be one less than the number of cut-off values in mr, since the first category includes values from 0 up to the first cut-off value, and the last category includes values from the last cut-off value up to infinity.\")"
   ]
  },
  {
   "cell_type": "markdown",
   "id": "7b4473ba",
   "metadata": {},
   "source": [
    "### Python program to Count Even and Odd numbers in a string"
   ]
  },
  {
   "cell_type": "code",
   "execution_count": 52,
   "id": "9d4647b5",
   "metadata": {},
   "outputs": [
    {
     "name": "stdout",
     "output_type": "stream",
     "text": [
      "25\n",
      "25\n"
     ]
    }
   ],
   "source": [
    "even = 0\n",
    "odd = 0\n",
    "\n",
    "for i in range(1,51):\n",
    "    if i%2 == 0:\n",
    "        even+=1\n",
    "    else:\n",
    "        odd+=1\n",
    "print(even)\n",
    "print(odd)"
   ]
  },
  {
   "cell_type": "code",
   "execution_count": 53,
   "id": "c796a4ba",
   "metadata": {},
   "outputs": [
    {
     "name": "stdout",
     "output_type": "stream",
     "text": [
      "[2, 4, 6, 8, 10, 12, 14, 16, 18, 20, 22, 24, 26, 28, 30, 32, 34, 36, 38, 40, 42, 44, 46, 48, 50]\n",
      "[1, 3, 5, 7, 9, 11, 13, 15, 17, 19, 21, 23, 25, 27, 29, 31, 33, 35, 37, 39, 41, 43, 45, 47, 49]\n"
     ]
    }
   ],
   "source": [
    "even = []\n",
    "odd = []\n",
    "\n",
    "for i in range(1,51):\n",
    "    if i%2 == 0:\n",
    "        even.append(i)\n",
    "    else:\n",
    "        odd.append(i)\n",
    "print(even)\n",
    "print(odd)"
   ]
  },
  {
   "cell_type": "markdown",
   "id": "9b364baa",
   "metadata": {},
   "source": [
    "### Write a Python program to reverse words in a string?"
   ]
  },
  {
   "cell_type": "code",
   "execution_count": 54,
   "id": "31ab920a",
   "metadata": {},
   "outputs": [
    {
     "data": {
      "text/plain": [
       "'nohtyP & gninraeL enihcaM si sihT'"
      ]
     },
     "execution_count": 54,
     "metadata": {},
     "output_type": "execute_result"
    }
   ],
   "source": [
    "x = \"This is Machine Learning & Python\"\n",
    "x[::-1]"
   ]
  },
  {
   "cell_type": "code",
   "execution_count": 56,
   "id": "97a4413a",
   "metadata": {},
   "outputs": [
    {
     "data": {
      "text/plain": [
       "['Python', '&', 'Learning', 'Machine', 'is', 'This']"
      ]
     },
     "execution_count": 56,
     "metadata": {},
     "output_type": "execute_result"
    }
   ],
   "source": [
    "y = x.split(\" \")\n",
    "y[::-1]"
   ]
  },
  {
   "cell_type": "code",
   "execution_count": 57,
   "id": "88030e46",
   "metadata": {},
   "outputs": [
    {
     "name": "stdout",
     "output_type": "stream",
     "text": [
      "nohtyP & gninraeL enihcaM si sihT\n"
     ]
    }
   ],
   "source": [
    "rev = \"\"\n",
    "for i in range(len(x)-1,-1,-1):\n",
    "    rev+=x[i]\n",
    "print(rev)"
   ]
  },
  {
   "cell_type": "markdown",
   "id": "9b3cc466",
   "metadata": {},
   "source": [
    "### Write a Python program to remove duplicate characters of a given string"
   ]
  },
  {
   "cell_type": "code",
   "execution_count": 66,
   "id": "1d603f03",
   "metadata": {},
   "outputs": [
    {
     "name": "stdout",
     "output_type": "stream",
     "text": [
      "Hi thsMacneLrg&Pyo\n"
     ]
    }
   ],
   "source": [
    "x = \"Hi this is Machine Learning & this is Python\"\n",
    "\n",
    "dup = \"\"\n",
    "\n",
    "for i in x:\n",
    "    if i not in dup:\n",
    "        dup+=i\n",
    "print(dup)\n"
   ]
  },
  {
   "cell_type": "code",
   "execution_count": 65,
   "id": "4bafe0d4",
   "metadata": {},
   "outputs": [
    {
     "name": "stdout",
     "output_type": "stream",
     "text": [
      "{'s', 'r', 'g', 'L', 'T', 'h', 'n', 'a', 'M', 'P', ' ', 'e', '&', 'y', 'o', 'i', 't', 'c'}"
     ]
    }
   ],
   "source": [
    "z = set(x)\n",
    "print(z, end = \"\")"
   ]
  },
  {
   "cell_type": "markdown",
   "id": "d3ac1bb4",
   "metadata": {},
   "source": [
    "### Python Program to find Sum of squares of first n natural numbers"
   ]
  },
  {
   "cell_type": "code",
   "execution_count": 68,
   "id": "bfd23519",
   "metadata": {},
   "outputs": [
    {
     "name": "stdout",
     "output_type": "stream",
     "text": [
      "14\n"
     ]
    }
   ],
   "source": [
    "n = 3\n",
    "sum1 = 0\n",
    "\n",
    "for i in range(1,n+1):\n",
    "    sum1+= i**2\n",
    "print(sum1)"
   ]
  },
  {
   "cell_type": "markdown",
   "id": "8230bad4",
   "metadata": {},
   "source": [
    "### Write a Python program to generate all sublists of a list?"
   ]
  },
  {
   "cell_type": "code",
   "execution_count": 70,
   "id": "e710d513",
   "metadata": {},
   "outputs": [
    {
     "name": "stdout",
     "output_type": "stream",
     "text": [
      "[3][4][5][7][3][2][1][6][8][9]"
     ]
    }
   ],
   "source": [
    "x = [3,4,5,7,3,2,1,6,8,9]\n",
    "\n",
    "for i in x:\n",
    "    print([i], end = \"\")\n",
    "    "
   ]
  },
  {
   "cell_type": "markdown",
   "id": "75dbf225",
   "metadata": {},
   "source": [
    "### Sort a List"
   ]
  },
  {
   "cell_type": "code",
   "execution_count": 75,
   "id": "a1971aa2",
   "metadata": {},
   "outputs": [
    {
     "name": "stdout",
     "output_type": "stream",
     "text": [
      "[9, 8, 7, 6, 5, 4]\n"
     ]
    }
   ],
   "source": [
    "x = [8,6,7,9,5,4]\n",
    "\n",
    "for i in range(len(x)):\n",
    "    for j in range(i+1, len(x)):\n",
    "        if x[i] < x[j]:\n",
    "            x[i],x[j] = x[j],x[i]\n",
    "print(x)"
   ]
  },
  {
   "cell_type": "code",
   "execution_count": 81,
   "id": "156884fe",
   "metadata": {},
   "outputs": [
    {
     "data": {
      "text/plain": [
       "[4, 5, 6, 7, 8, 9]"
      ]
     },
     "execution_count": 81,
     "metadata": {},
     "output_type": "execute_result"
    }
   ],
   "source": [
    "sorted(x)"
   ]
  },
  {
   "cell_type": "code",
   "execution_count": 84,
   "id": "79440b7d",
   "metadata": {},
   "outputs": [
    {
     "data": {
      "text/plain": [
       "[3, 3, 4, 5, 6, 7]"
      ]
     },
     "execution_count": 84,
     "metadata": {},
     "output_type": "execute_result"
    }
   ],
   "source": [
    "a = (3,4,5,6,7,3)\n",
    "ls = list(a)\n",
    "x = sorted(ls)\n",
    "x"
   ]
  },
  {
   "cell_type": "code",
   "execution_count": 85,
   "id": "9338b435",
   "metadata": {},
   "outputs": [],
   "source": [
    "b = tuple(x)"
   ]
  },
  {
   "cell_type": "code",
   "execution_count": 86,
   "id": "008e52cc",
   "metadata": {},
   "outputs": [
    {
     "data": {
      "text/plain": [
       "(3, 3, 4, 5, 6, 7)"
      ]
     },
     "execution_count": 86,
     "metadata": {},
     "output_type": "execute_result"
    }
   ],
   "source": [
    "b"
   ]
  },
  {
   "cell_type": "markdown",
   "id": "4a3b6ecf",
   "metadata": {},
   "source": [
    "### Flatten a List"
   ]
  },
  {
   "cell_type": "code",
   "execution_count": 89,
   "id": "151796f6",
   "metadata": {},
   "outputs": [
    {
     "name": "stdout",
     "output_type": "stream",
     "text": [
      "[1, 2, 3, 4, 5, 6, 7]\n"
     ]
    }
   ],
   "source": [
    "list1 = [[1], [2, 3], [4, 5], [6, 7]]\n",
    "\n",
    "x = []\n",
    "for i in list1:\n",
    "    for j in i:\n",
    "        x.append(j)\n",
    "print(x)"
   ]
  },
  {
   "cell_type": "markdown",
   "id": "96eb84ce",
   "metadata": {},
   "source": [
    "### Write a Python program to find square and cube every number in a given list of"
   ]
  },
  {
   "cell_type": "code",
   "execution_count": 90,
   "id": "92e7880d",
   "metadata": {},
   "outputs": [
    {
     "data": {
      "text/plain": [
       "[(1, 1), (4, 8), (9, 27), (16, 64), (25, 125)]"
      ]
     },
     "execution_count": 90,
     "metadata": {},
     "output_type": "execute_result"
    }
   ],
   "source": [
    "num = [1, 2, 3, 4, 5]\n",
    "\n",
    "squred_Cubed = list(map(lambda x:(x**2, x**3), num))\n",
    "squred_Cubed"
   ]
  },
  {
   "cell_type": "code",
   "execution_count": null,
   "id": "e40b2086",
   "metadata": {},
   "outputs": [],
   "source": []
  }
 ],
 "metadata": {
  "kernelspec": {
   "display_name": "Python 3 (ipykernel)",
   "language": "python",
   "name": "python3"
  },
  "language_info": {
   "codemirror_mode": {
    "name": "ipython",
    "version": 3
   },
   "file_extension": ".py",
   "mimetype": "text/x-python",
   "name": "python",
   "nbconvert_exporter": "python",
   "pygments_lexer": "ipython3",
   "version": "3.10.9"
  }
 },
 "nbformat": 4,
 "nbformat_minor": 5
}
