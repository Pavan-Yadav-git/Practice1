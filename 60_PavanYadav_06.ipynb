{
 "cells": [
  {
   "cell_type": "code",
   "execution_count": 3,
   "id": "3292b934",
   "metadata": {},
   "outputs": [
    {
     "data": {
      "text/plain": [
       "9"
      ]
     },
     "execution_count": 3,
     "metadata": {},
     "output_type": "execute_result"
    }
   ],
   "source": [
    "str1=\"asasasas asas asasas\"\n",
    "str1.count(\"as\")"
   ]
  },
  {
   "cell_type": "code",
   "execution_count": 11,
   "id": "c3b50dd7",
   "metadata": {},
   "outputs": [],
   "source": [
    "import numpy as np\n",
    "import pandas as pd\n",
    "\n",
    "def get_square(n):\n",
    "    b=n**2\n",
    "    return b\n",
    "    "
   ]
  },
  {
   "cell_type": "code",
   "execution_count": 12,
   "id": "203d2f18",
   "metadata": {},
   "outputs": [
    {
     "data": {
      "text/plain": [
       "0     1\n",
       "1     4\n",
       "2     9\n",
       "3    16\n",
       "dtype: int64"
      ]
     },
     "execution_count": 12,
     "metadata": {},
     "output_type": "execute_result"
    }
   ],
   "source": [
    "a=pd.Series([1,2,3,4])\n",
    "a.apply(get_square)"
   ]
  },
  {
   "cell_type": "code",
   "execution_count": null,
   "id": "f32225fe",
   "metadata": {},
   "outputs": [],
   "source": [
    "1. Write a Python program to sort a list of tuples using Lambda."
   ]
  },
  {
   "cell_type": "code",
   "execution_count": 5,
   "id": "75a769d3",
   "metadata": {},
   "outputs": [
    {
     "data": {
      "text/plain": [
       "[(1, 3), (4, 9, 60), (7, 9), (8, 1), (10, 15)]"
      ]
     },
     "execution_count": 5,
     "metadata": {},
     "output_type": "execute_result"
    }
   ],
   "source": [
    "my_list=[(8,1),(1,3),(4,9,60),(7,9),(10,15)]\n",
    "my_list.sort(key=lambda x:x[0])\n",
    "my_list"
   ]
  },
  {
   "cell_type": "code",
   "execution_count": 16,
   "id": "e76deeb7",
   "metadata": {},
   "outputs": [
    {
     "data": {
      "text/plain": [
       "[(1, 3), (4, 9, 60), (7, 9), (8, 1), (10, 15)]"
      ]
     },
     "execution_count": 16,
     "metadata": {},
     "output_type": "execute_result"
    }
   ],
   "source": [
    "list1=lambda x: sorted(x)\n",
    "list1(my_list)"
   ]
  },
  {
   "cell_type": "code",
   "execution_count": null,
   "id": "b583dac6",
   "metadata": {},
   "outputs": [],
   "source": [
    "2. Write a Python program to sort a list of dictionaries using Lambda"
   ]
  },
  {
   "cell_type": "code",
   "execution_count": 15,
   "id": "bd0375de",
   "metadata": {},
   "outputs": [],
   "source": [
    "my_dict={\"Pavan\":\"Yadav\",\"Apple\":\"B\", \"Boy\":\"D\",\"Girl\":\"F\"}\n",
    "def sort_dict(dict1):\n",
    "    \n",
    "    return a\n",
    "sort_dict(my_dict)\n",
    "my_dict.get()\n"
   ]
  },
  {
   "cell_type": "code",
   "execution_count": null,
   "id": "238d5668",
   "metadata": {},
   "outputs": [],
   "source": [
    "3. Write a Python program to find square and cube every number in a given list of\n",
    "integers using Lambda"
   ]
  },
  {
   "cell_type": "code",
   "execution_count": 8,
   "id": "346338a8",
   "metadata": {},
   "outputs": [
    {
     "name": "stdout",
     "output_type": "stream",
     "text": [
      "[25, 49, 64, 81, 100]\n",
      "[125, 343, 512, 729, 1000]\n"
     ]
    }
   ],
   "source": [
    "given_list=[5,7,8,9,10]\n",
    "squared_numbers = list(map(lambda x: x**2, given_list))\n",
    "cubed_numbers = list(map(lambda x: x**3, given_list))\n",
    "print(squared_numbers)\n",
    "print(cubed_numbers)"
   ]
  },
  {
   "cell_type": "code",
   "execution_count": null,
   "id": "2ff0d414",
   "metadata": {},
   "outputs": [],
   "source": [
    "4. Write a Python program to find if a given string starts with a given character using\n",
    "Lambda"
   ]
  },
  {
   "cell_type": "code",
   "execution_count": 43,
   "id": "172273b9",
   "metadata": {},
   "outputs": [
    {
     "data": {
      "text/plain": [
       "False"
      ]
     },
     "execution_count": 43,
     "metadata": {},
     "output_type": "execute_result"
    }
   ],
   "source": [
    "a=lambda string, char: string.upper()[0]==char.upper()\n",
    "a(\"Pavan\",\" \")"
   ]
  },
  {
   "cell_type": "code",
   "execution_count": 45,
   "id": "b472cbbb",
   "metadata": {},
   "outputs": [
    {
     "name": "stdout",
     "output_type": "stream",
     "text": [
      "Enter the string : Pavan\n",
      "Enter the char : p\n",
      "Yes the Given string starts with the given character p\n"
     ]
    }
   ],
   "source": [
    "str1 = input('Enter the string : ').lower()\n",
    "char = input ('Enter the char : ').lower()\n",
    "check = lambda strx,charx : strx.startswith(charx)\n",
    "if check(str1,char) == True:\n",
    " print(f'Yes the Given string starts with the given character {char}')\n",
    "else:\n",
    " print(f'No the Given string does not start with the given character {char}')"
   ]
  },
  {
   "cell_type": "code",
   "execution_count": null,
   "id": "3bdee5cc",
   "metadata": {},
   "outputs": [],
   "source": [
    "5. Write a Python program to check whether a given string is number or not using\n",
    "Lambda"
   ]
  },
  {
   "cell_type": "code",
   "execution_count": 46,
   "id": "aaeef642",
   "metadata": {},
   "outputs": [
    {
     "data": {
      "text/plain": [
       "True"
      ]
     },
     "execution_count": 46,
     "metadata": {},
     "output_type": "execute_result"
    }
   ],
   "source": [
    "given_s=\"5698\"\n",
    "check=lambda string: string.isdigit()\n",
    "check(given_s)"
   ]
  },
  {
   "cell_type": "code",
   "execution_count": 50,
   "id": "0b59a108",
   "metadata": {},
   "outputs": [
    {
     "data": {
      "text/plain": [
       "True"
      ]
     },
     "execution_count": 50,
     "metadata": {},
     "output_type": "execute_result"
    }
   ],
   "source": [
    "st=\"1356\"\n",
    "ch=lambda x: x.isdigit()\n",
    "ch(st)"
   ]
  },
  {
   "cell_type": "code",
   "execution_count": null,
   "id": "487e53d6",
   "metadata": {},
   "outputs": [],
   "source": [
    "6. Write a Python program to create Fibonacci series using Lambda"
   ]
  },
  {
   "cell_type": "code",
   "execution_count": 55,
   "id": "7e6379ca",
   "metadata": {},
   "outputs": [
    {
     "name": "stdout",
     "output_type": "stream",
     "text": [
      "Enter the number of terms in Fibonacci series: 5\n",
      "Fibonacci series with 5 terms: [0, 1, 1, 2, 3]\n"
     ]
    }
   ],
   "source": [
    "from functools import *\n",
    "# Function to generate Fibonacci series using lambda\n",
    "fibonacci = lambda n: reduce(lambda x,y: x + [x[-1] + x[-2]], range(n - 2), [0, 1])\n",
    "\n",
    "# Input the number of terms in Fibonacci series\n",
    "n = int(input(\"Enter the number of terms in Fibonacci series: \"))\n",
    "\n",
    "# Call the lambda function to generate Fibonacci series\n",
    "result = fibonacci(n)\n",
    "\n",
    "# Print the Fibonacci series\n",
    "print(\"Fibonacci series with\", n, \"terms:\", result)"
   ]
  },
  {
   "cell_type": "code",
   "execution_count": null,
   "id": "34a970fc",
   "metadata": {},
   "outputs": [],
   "source": [
    "def fibanacii(number_of_terms):\n",
    "    "
   ]
  },
  {
   "cell_type": "code",
   "execution_count": 56,
   "id": "56548055",
   "metadata": {},
   "outputs": [
    {
     "name": "stdout",
     "output_type": "stream",
     "text": [
      "Enter No: 5\n"
     ]
    },
    {
     "data": {
      "text/plain": [
       "[0, 1, 1, 2, 3]"
      ]
     },
     "execution_count": 56,
     "metadata": {},
     "output_type": "execute_result"
    }
   ],
   "source": [
    "no= eval(input(\"Enter No: \"))\n",
    "n=5\n",
    "lst6=[0,1]\n",
    "any(map(lambda x : lst6.append(sum(lst6[-2:])), range(n-2))) \n",
    "lst6"
   ]
  },
  {
   "cell_type": "code",
   "execution_count": null,
   "id": "74c9e86e",
   "metadata": {},
   "outputs": [],
   "source": [
    "0 +1 , 1, 2, 3,  ....."
   ]
  },
  {
   "cell_type": "code",
   "execution_count": 67,
   "id": "4aadc581",
   "metadata": {},
   "outputs": [
    {
     "data": {
      "text/plain": [
       "[0, 1, 1, 2, 3, 5, 8, 13]"
      ]
     },
     "execution_count": 67,
     "metadata": {},
     "output_type": "execute_result"
    }
   ],
   "source": [
    "n=8\n",
    "listn=[0, 1]\n",
    "list(map(lambda x : listn.append(sum(listn[-2:])), range (n-2)))\n",
    "listn"
   ]
  },
  {
   "cell_type": "code",
   "execution_count": 69,
   "id": "1e0d4297",
   "metadata": {},
   "outputs": [],
   "source": [
    "def get_fibbo(n):\n",
    "    lst=[0,1]\n",
    "    for i in range(n-2):\n",
    "        lst.append(sum(lst[-2:]))\n",
    "    return lst\n",
    "    "
   ]
  },
  {
   "cell_type": "code",
   "execution_count": 82,
   "id": "fa0e79fa",
   "metadata": {},
   "outputs": [
    {
     "name": "stdout",
     "output_type": "stream",
     "text": [
      "0 1 1 2 3 "
     ]
    }
   ],
   "source": [
    "def get_fibo_rec(n):\n",
    "    if n<=1:\n",
    "        return n\n",
    "    else :\n",
    "        return get_fibo_rec(n-2) + get_fibo_rec(n-1)\n",
    "    n = 5\n",
    "if n<0:\n",
    "    print(\"Enter positive number only\")\n",
    "else:\n",
    "    for i in range(n):\n",
    "        print(get_fibo_rec(i),end= \" \")"
   ]
  },
  {
   "cell_type": "code",
   "execution_count": 72,
   "id": "0cefb793",
   "metadata": {},
   "outputs": [
    {
     "data": {
      "text/plain": [
       "5"
      ]
     },
     "execution_count": 72,
     "metadata": {},
     "output_type": "execute_result"
    }
   ],
   "source": [
    "getfibonaci(5)"
   ]
  },
  {
   "cell_type": "code",
   "execution_count": 76,
   "id": "25b87e09",
   "metadata": {},
   "outputs": [],
   "source": [
    "def get_fbn(n):\n",
    "    first,second=0,1\n",
    "    print(first, second,end=\" \")\n",
    "    for i in range(n-2):\n",
    "        first,second=second, first+second\n",
    "        print(second,end=\" \")"
   ]
  },
  {
   "cell_type": "code",
   "execution_count": 79,
   "id": "18bc219b",
   "metadata": {},
   "outputs": [
    {
     "ename": "NameError",
     "evalue": "name 'get_fibo_rec' is not defined",
     "output_type": "error",
     "traceback": [
      "\u001b[1;31m---------------------------------------------------------------------------\u001b[0m",
      "\u001b[1;31mNameError\u001b[0m                                 Traceback (most recent call last)",
      "Cell \u001b[1;32mIn[79], line 7\u001b[0m\n\u001b[0;32m      5\u001b[0m \u001b[38;5;28;01melse\u001b[39;00m:\n\u001b[0;32m      6\u001b[0m     \u001b[38;5;28;01mfor\u001b[39;00m i \u001b[38;5;129;01min\u001b[39;00m \u001b[38;5;28mrange\u001b[39m(n):\n\u001b[1;32m----> 7\u001b[0m         \u001b[38;5;28mprint\u001b[39m(\u001b[43mget_fibo_rec\u001b[49m(i),end\u001b[38;5;241m=\u001b[39m \u001b[38;5;124m\"\u001b[39m\u001b[38;5;124m \u001b[39m\u001b[38;5;124m\"\u001b[39m)\n",
      "\u001b[1;31mNameError\u001b[0m: name 'get_fibo_rec' is not defined"
     ]
    }
   ],
   "source": [
    "n = 5\n",
    "if n<0:\n",
    "    print(\"Enter positive number only\")\n",
    " \n",
    "else:\n",
    "    for i in range(n):\n",
    "        print(get_fibo_rec(i),end= \" \")"
   ]
  },
  {
   "cell_type": "code",
   "execution_count": 77,
   "id": "48fb2c92",
   "metadata": {},
   "outputs": [
    {
     "name": "stdout",
     "output_type": "stream",
     "text": [
      "0 1 1 2 3 "
     ]
    }
   ],
   "source": [
    "get_fbn(5)"
   ]
  },
  {
   "cell_type": "code",
   "execution_count": 59,
   "id": "cb8d82d1",
   "metadata": {},
   "outputs": [
    {
     "data": {
      "text/plain": [
       "0"
      ]
     },
     "execution_count": 59,
     "metadata": {},
     "output_type": "execute_result"
    }
   ],
   "source": [
    ":2:lst7=[0,1],  -2 :0 ,  -1: 1\n",
    "lst7[-2]\n",
    "0+1= 1 \n",
    "lst7=[0,1,1]  -2 :0 ,  -1: 1, 0:1\n",
    "      lst7=[0,1,1,2]   -2 :0 ,  -1: 1, 0:1   1: 2     0+1 +1 +2=4    "
   ]
  },
  {
   "cell_type": "code",
   "execution_count": null,
   "id": "984e11c6",
   "metadata": {},
   "outputs": [],
   "source": [
    "fibonacci = lambda n: [] if n == 0 else [0] if n == 1 else [0, 1] if n == 2 else fibonacci(n - 1) + [fibonacci(n - 1)[-1] + fibonacci(n - 2)[-1]]\n",
    "\n",
    "# Get the desired number of Fibonacci numbers\n",
    "num_terms = int(input(\"Enter the number of Fibonacci terms: \"))\n",
    "\n",
    "# Calculate and display the Fibonacci series\n",
    "fib_series = fibonacci(num_terms)\n",
    "print(\"Fibonacci Series:\")\n",
    "print(fib_series)\n"
   ]
  },
  {
   "cell_type": "code",
   "execution_count": null,
   "id": "9c84e848",
   "metadata": {},
   "outputs": [],
   "source": []
  },
  {
   "cell_type": "code",
   "execution_count": 52,
   "id": "64e940a4",
   "metadata": {},
   "outputs": [
    {
     "ename": "TypeError",
     "evalue": "reduce expected at least 2 arguments, got 1",
     "output_type": "error",
     "traceback": [
      "\u001b[1;31m---------------------------------------------------------------------------\u001b[0m",
      "\u001b[1;31mTypeError\u001b[0m                                 Traceback (most recent call last)",
      "Cell \u001b[1;32mIn[52], line 3\u001b[0m\n\u001b[0;32m      1\u001b[0m \u001b[38;5;28;01mfrom\u001b[39;00m \u001b[38;5;21;01mfunctools\u001b[39;00m \u001b[38;5;28;01mimport\u001b[39;00m \u001b[38;5;241m*\u001b[39m\n\u001b[0;32m      2\u001b[0m list2\u001b[38;5;241m=\u001b[39m[\u001b[38;5;241m1\u001b[39m,\u001b[38;5;241m2\u001b[39m,\u001b[38;5;241m3\u001b[39m,\u001b[38;5;241m4\u001b[39m]\n\u001b[1;32m----> 3\u001b[0m \u001b[43mreduce\u001b[49m\u001b[43m(\u001b[49m\u001b[43mlist2\u001b[49m\u001b[43m)\u001b[49m\n",
      "\u001b[1;31mTypeError\u001b[0m: reduce expected at least 2 arguments, got 1"
     ]
    }
   ],
   "source": [
    "from functools import *\n",
    "list2=[1,2,3,4]\n",
    "reduce()"
   ]
  },
  {
   "cell_type": "code",
   "execution_count": null,
   "id": "254ba386",
   "metadata": {},
   "outputs": [],
   "source": []
  },
  {
   "cell_type": "code",
   "execution_count": null,
   "id": "d82ef823",
   "metadata": {},
   "outputs": [],
   "source": [
    "7. Write a Python program to find the intersection of two given arrays using Lambda"
   ]
  },
  {
   "cell_type": "code",
   "execution_count": 8,
   "id": "12e47b1f",
   "metadata": {},
   "outputs": [
    {
     "data": {
      "text/plain": [
       "[8, 9]"
      ]
     },
     "execution_count": 8,
     "metadata": {},
     "output_type": "execute_result"
    }
   ],
   "source": [
    "import numpy as np\n",
    "# def f(array1, array2):\n",
    "#     intersectionarray=list(filter( lambda x: x in array1, array2))\n",
    "#     return intersecionarray\n",
    "arr1=[1,2,3,8,9,10]\n",
    "arr2=[7,8,9,12,13,14]\n",
    "intersectionarray=list(filter( lambda x: x in arr1, arr2))\n",
    "# array_intersection=filter()\n",
    "intersectionarray"
   ]
  },
  {
   "cell_type": "code",
   "execution_count": null,
   "id": "c7058fbb",
   "metadata": {},
   "outputs": [],
   "source": []
  },
  {
   "cell_type": "code",
   "execution_count": null,
   "id": "efbea515",
   "metadata": {},
   "outputs": [],
   "source": [
    "8. Write a Python program to rearrange positive and negative numbers in a given array\n",
    "using Lambda"
   ]
  },
  {
   "cell_type": "code",
   "execution_count": 14,
   "id": "eff55065",
   "metadata": {},
   "outputs": [
    {
     "data": {
      "text/plain": [
       "[-12, -11, -9, -5, -1, 2, 18, 20, 34]"
      ]
     },
     "execution_count": 14,
     "metadata": {},
     "output_type": "execute_result"
    }
   ],
   "source": [
    "array=[-1,2,34,-5,-9,-11,-12,18,20]\n",
    "sorted_array=(lambda x: sorted(x))(array)\n",
    "sorted_array"
   ]
  },
  {
   "cell_type": "code",
   "execution_count": null,
   "id": "27b7065a",
   "metadata": {},
   "outputs": [],
   "source": [
    "9. Write a Python program to count the even, odd numbers in a given array of integers\n",
    "using Lambda"
   ]
  },
  {
   "cell_type": "code",
   "execution_count": 17,
   "id": "7704d5dc",
   "metadata": {},
   "outputs": [
    {
     "name": "stdout",
     "output_type": "stream",
     "text": [
      "5\n",
      "4\n",
      "9\n"
     ]
    }
   ],
   "source": [
    "array=[-1,2,34,-5,-9,-11,-12,18,20]\n",
    "even=len(list(filter(lambda x: x%2==0, array)))\n",
    "odd=len(list(filter(lambda x: x%2!=0, array)))\n",
    "print(even)\n",
    "print(odd)\n",
    "print(len(array))"
   ]
  },
  {
   "cell_type": "code",
   "execution_count": null,
   "id": "3d28301f",
   "metadata": {},
   "outputs": [],
   "source": [
    "10. Write a Python program to add two given lists using map and lambda"
   ]
  },
  {
   "cell_type": "code",
   "execution_count": 18,
   "id": "6dfdc532",
   "metadata": {},
   "outputs": [
    {
     "data": {
      "text/plain": [
       "[7, 9, 11, 13, 15]"
      ]
     },
     "execution_count": 18,
     "metadata": {},
     "output_type": "execute_result"
    }
   ],
   "source": [
    "list1=[1,2,3,4,5]\n",
    "list2=[6,7,8,9,10]\n",
    "list3=list(map(lambda x,y:x+y,list1,list2))\n",
    "list3"
   ]
  },
  {
   "cell_type": "code",
   "execution_count": null,
   "id": "7e020fa7",
   "metadata": {},
   "outputs": [],
   "source": [
    "11. Write a Python program to find numbers divisible by nineteen or thirteen from a list of\n",
    "numbers using Lambda"
   ]
  },
  {
   "cell_type": "code",
   "execution_count": 20,
   "id": "740f91a3",
   "metadata": {},
   "outputs": [
    {
     "data": {
      "text/plain": [
       "[19, 38, 76, 95, 190, 13, 26, 39]"
      ]
     },
     "execution_count": 20,
     "metadata": {},
     "output_type": "execute_result"
    }
   ],
   "source": [
    "list1=[1,9,19, 38, 58, 76,95,115,126,128,190,13, 26, 39]\n",
    "list2=list(filter(lambda x: x%19==0 or x%13==0,list1))\n",
    "list2"
   ]
  },
  {
   "cell_type": "code",
   "execution_count": null,
   "id": "ae55cb03",
   "metadata": {},
   "outputs": [],
   "source": [
    "12. Write a Python program to find palindromes in a given list of strings using Lambda"
   ]
  },
  {
   "cell_type": "code",
   "execution_count": null,
   "id": "32e001dc",
   "metadata": {},
   "outputs": [],
   "source": []
  },
  {
   "cell_type": "code",
   "execution_count": null,
   "id": "0ab6b0f0",
   "metadata": {},
   "outputs": [],
   "source": [
    "13. Write a Python program to find all anagrams of a string in a given list of strings using\n",
    "lambda"
   ]
  },
  {
   "cell_type": "code",
   "execution_count": null,
   "id": "3b3a6038",
   "metadata": {},
   "outputs": [],
   "source": []
  },
  {
   "cell_type": "code",
   "execution_count": null,
   "id": "93c3c5cc",
   "metadata": {},
   "outputs": [],
   "source": [
    "14. Write a Python program that multiplies each number of a given list with a given\n",
    "number using lambda function. Print the result"
   ]
  },
  {
   "cell_type": "code",
   "execution_count": 23,
   "id": "93308551",
   "metadata": {},
   "outputs": [
    {
     "data": {
      "text/plain": [
       "[144, 128, 112, 96, 80, 64]"
      ]
     },
     "execution_count": 23,
     "metadata": {},
     "output_type": "execute_result"
    }
   ],
   "source": [
    "def multple_of_givennumber(list1,n):\n",
    "    list2=list(map(lambda x: n*x, list1))\n",
    "    return list2\n",
    "list2=[9,8,7,6,5,4]\n",
    "n=16\n",
    "multple_of_givennumber(list2,n)"
   ]
  },
  {
   "cell_type": "code",
   "execution_count": null,
   "id": "7e456792",
   "metadata": {},
   "outputs": [],
   "source": [
    "15. Write a Python program to calculate the sum of the positive and negative numbers of\n",
    "a given list of numbers using lambda function"
   ]
  },
  {
   "cell_type": "code",
   "execution_count": null,
   "id": "b526d5d0",
   "metadata": {},
   "outputs": [],
   "source": []
  },
  {
   "cell_type": "code",
   "execution_count": null,
   "id": "5c5a3c7c",
   "metadata": {},
   "outputs": [],
   "source": []
  },
  {
   "cell_type": "code",
   "execution_count": null,
   "id": "16e96764",
   "metadata": {},
   "outputs": [],
   "source": [
    "16. Write a Python program to find the list with maximum and minimum length using\n",
    "lambda"
   ]
  },
  {
   "cell_type": "code",
   "execution_count": null,
   "id": "b7755d2b",
   "metadata": {},
   "outputs": [],
   "source": [
    "list1=[1,2,3,4,5,6,7,8,9]\n",
    "list2=list(filter(lambda x:)"
   ]
  },
  {
   "cell_type": "code",
   "execution_count": null,
   "id": "c9b18d56",
   "metadata": {},
   "outputs": [],
   "source": [
    "17. Write a Python program to check whether a specified list is sorted or not using\n",
    "lambda"
   ]
  },
  {
   "cell_type": "code",
   "execution_count": null,
   "id": "b0b8978e",
   "metadata": {},
   "outputs": [],
   "source": []
  },
  {
   "cell_type": "code",
   "execution_count": null,
   "id": "ea49d3b2",
   "metadata": {},
   "outputs": [],
   "source": [
    "18. Write a Python program to remove all elements from a given list present in another\n",
    "list using lambda."
   ]
  },
  {
   "cell_type": "code",
   "execution_count": null,
   "id": "3d2262c8",
   "metadata": {},
   "outputs": [],
   "source": []
  },
  {
   "cell_type": "code",
   "execution_count": null,
   "id": "ee0aa3e5",
   "metadata": {},
   "outputs": [],
   "source": [
    "19. Write a Python program to convert string element to integer inside a given tuple using"
   ]
  },
  {
   "cell_type": "code",
   "execution_count": null,
   "id": "44a9a3b0",
   "metadata": {},
   "outputs": [],
   "source": []
  },
  {
   "cell_type": "code",
   "execution_count": null,
   "id": "04fde2b3",
   "metadata": {},
   "outputs": [],
   "source": [
    "20. Write a Python program to count the occurrences of the items in a given list using\n",
    "lambda"
   ]
  },
  {
   "cell_type": "code",
   "execution_count": null,
   "id": "f0ad3ef1",
   "metadata": {},
   "outputs": [],
   "source": [
    "list1=[1,2,3,1,2,3,4, 5, 6, 7, 8, 9, 1, 2, 3, 4, 5, 6, 7, 8, 9,10, 11, 15,20]\n"
   ]
  },
  {
   "cell_type": "code",
   "execution_count": null,
   "id": "6b2161cf",
   "metadata": {},
   "outputs": [],
   "source": []
  },
  {
   "cell_type": "code",
   "execution_count": null,
   "id": "b3b1bacd",
   "metadata": {},
   "outputs": [],
   "source": [
    "21. Write a Python program to add three given lists using Python map and lambda"
   ]
  },
  {
   "cell_type": "code",
   "execution_count": 23,
   "id": "4e1cdc0b",
   "metadata": {},
   "outputs": [
    {
     "ename": "NameError",
     "evalue": "name 'list2' is not defined",
     "output_type": "error",
     "traceback": [
      "\u001b[1;31m---------------------------------------------------------------------------\u001b[0m",
      "\u001b[1;31mNameError\u001b[0m                                 Traceback (most recent call last)",
      "\u001b[1;32m~\\AppData\\Local\\Temp\\ipykernel_7880\\4037402150.py\u001b[0m in \u001b[0;36m<module>\u001b[1;34m\u001b[0m\n\u001b[1;32m----> 1\u001b[1;33m \u001b[0ma\u001b[0m\u001b[1;33m=\u001b[0m\u001b[0mmap\u001b[0m\u001b[1;33m(\u001b[0m\u001b[1;32mlambda\u001b[0m \u001b[0mlist1\u001b[0m\u001b[1;33m,\u001b[0m\u001b[0mlist2\u001b[0m\u001b[1;33m,\u001b[0m\u001b[0mlist3\u001b[0m\u001b[1;33m:\u001b[0m \u001b[0mlist1\u001b[0m\u001b[1;33m+\u001b[0m\u001b[0mlist2\u001b[0m\u001b[1;33m+\u001b[0m\u001b[0mlist3\u001b[0m\u001b[1;33m,\u001b[0m\u001b[0mlist1\u001b[0m\u001b[1;33m,\u001b[0m\u001b[0mlist2\u001b[0m\u001b[1;33m,\u001b[0m\u001b[0mlist3\u001b[0m\u001b[1;33m)\u001b[0m\u001b[1;33m\u001b[0m\u001b[1;33m\u001b[0m\u001b[0m\n\u001b[0m\u001b[0;32m      2\u001b[0m \u001b[0mlist_a\u001b[0m\u001b[1;33m=\u001b[0m\u001b[1;33m[\u001b[0m\u001b[1;36m1\u001b[0m\u001b[1;33m,\u001b[0m\u001b[1;36m2\u001b[0m\u001b[1;33m,\u001b[0m\u001b[1;36m3\u001b[0m\u001b[1;33m]\u001b[0m\u001b[1;33m\u001b[0m\u001b[1;33m\u001b[0m\u001b[0m\n\u001b[0;32m      3\u001b[0m \u001b[0mlist_b\u001b[0m\u001b[1;33m=\u001b[0m\u001b[1;33m[\u001b[0m\u001b[1;36m2\u001b[0m\u001b[1;33m,\u001b[0m\u001b[1;36m3\u001b[0m\u001b[1;33m,\u001b[0m\u001b[1;36m4\u001b[0m\u001b[1;33m]\u001b[0m\u001b[1;33m\u001b[0m\u001b[1;33m\u001b[0m\u001b[0m\n\u001b[0;32m      4\u001b[0m \u001b[0mlist_c\u001b[0m\u001b[1;33m=\u001b[0m\u001b[1;33m[\u001b[0m\u001b[1;36m5\u001b[0m\u001b[1;33m,\u001b[0m\u001b[1;36m6\u001b[0m\u001b[1;33m,\u001b[0m\u001b[1;36m7\u001b[0m\u001b[1;33m]\u001b[0m\u001b[1;33m\u001b[0m\u001b[1;33m\u001b[0m\u001b[0m\n\u001b[0;32m      5\u001b[0m \u001b[0ma\u001b[0m\u001b[1;33m(\u001b[0m\u001b[0mlist_a\u001b[0m\u001b[1;33m,\u001b[0m\u001b[0mlist_b\u001b[0m\u001b[1;33m,\u001b[0m\u001b[0mlist_c\u001b[0m\u001b[1;33m)\u001b[0m\u001b[1;33m\u001b[0m\u001b[1;33m\u001b[0m\u001b[0m\n",
      "\u001b[1;31mNameError\u001b[0m: name 'list2' is not defined"
     ]
    }
   ],
   "source": []
  },
  {
   "cell_type": "code",
   "execution_count": null,
   "id": "1d364652",
   "metadata": {},
   "outputs": [],
   "source": [
    "22. Write a Python program to listify the list of given strings individually using Python map\n",
    "23. Write a Python program to square the elements of a list using map() function\n",
    "24. Write a Python program to add two given lists and find the difference between lists.\n",
    "Use map() function\n",
    "25. Write a Python program to convert a given list of integers and a tuple of integers in a\n",
    "list of strings\n",
    "26. Write a Python program to compute the sum of elements of an given array of\n",
    "integers, use map() function\n",
    "27. Write a Python program to count the same pair in two given lists. use map() function\n",
    "28. Write a Python program to convert a given list of strings into list of lists using map\n",
    "function\n",
    "29. Write a Python program to convert a given list of tuples to a list of strings using map\n",
    "function\n",
    "30. Python program to find the diff. between two lists using filter() function\n",
    "31. Python program to remove stop words from string using filter() function\n",
    "32. Python program to find common items in two arrays using lambda and filter() function\n",
    "33. Python program to filter odd numbers from the list using filter() function\n",
    "34. Python program to filter even numbers from the list using filter() function\n",
    "35. Python program that filters non-vowels from the list using filter() function"
   ]
  },
  {
   "cell_type": "code",
   "execution_count": 10,
   "id": "2cfdff50",
   "metadata": {},
   "outputs": [
    {
     "name": "stdout",
     "output_type": "stream",
     "text": [
      "After adding two list\n",
      "[5, 7, 9]\n"
     ]
    }
   ],
   "source": [
    "lst1 = [1, 2, 3]\n",
    "lst2 = [4, 5, 6]\n",
    "result = map(lambda x, y: x + y, lst1, lst2)\n",
    "print(\"After adding two list\")\n",
    "print(list(result))"
   ]
  },
  {
   "cell_type": "code",
   "execution_count": 13,
   "id": "8a5be38d",
   "metadata": {},
   "outputs": [],
   "source": [
    "import os"
   ]
  },
  {
   "cell_type": "code",
   "execution_count": 20,
   "id": "bbdba8e3",
   "metadata": {},
   "outputs": [],
   "source": [
    "text=\"\"\"Track your progress with the free \"My Learning\" program here at W3Schools.\n",
    "\n",
    "Log in to your account, and start earning points!\n",
    "\n",
    "This is an optional feature. You can study W3Schools without using My Learning.\"\"\""
   ]
  },
  {
   "attachments": {
    "Untitled.jpg": {
     "image/jpeg": "[encoded data removed]"
    }
   },
   "cell_type": "markdown",
   "id": "136080d0",
   "metadata": {},
   "source": [
    "flower=![Untitled.jpg](attachment:Untitled.jpg)"
   ]
  },
  {
   "cell_type": "code",
   "execution_count": 23,
   "id": "54bd4121",
   "metadata": {},
   "outputs": [
    {
     "ename": "NameError",
     "evalue": "name 'flower' is not defined",
     "output_type": "error",
     "traceback": [
      "\u001b[1;31m---------------------------------------------------------------------------\u001b[0m",
      "\u001b[1;31mNameError\u001b[0m                                 Traceback (most recent call last)",
      "Cell \u001b[1;32mIn[23], line 2\u001b[0m\n\u001b[0;32m      1\u001b[0m \u001b[38;5;28;01mwith\u001b[39;00m \u001b[38;5;28mopen\u001b[39m(\u001b[38;5;124m\"\u001b[39m\u001b[38;5;124mpavanYa.txt\u001b[39m\u001b[38;5;124m\"\u001b[39m,\u001b[38;5;124m\"\u001b[39m\u001b[38;5;124mw\u001b[39m\u001b[38;5;124m\"\u001b[39m) \u001b[38;5;28;01mas\u001b[39;00m file:\n\u001b[1;32m----> 2\u001b[0m     file\u001b[38;5;241m.\u001b[39mwrite(\u001b[43mflower\u001b[49m)\n",
      "\u001b[1;31mNameError\u001b[0m: name 'flower' is not defined"
     ]
    }
   ],
   "source": [
    "with open(\"pavanYa.txt\",\"w\") as file:\n",
    "    file.write(flower)"
   ]
  },
  {
   "cell_type": "code",
   "execution_count": 22,
   "id": "433df509",
   "metadata": {},
   "outputs": [
    {
     "ename": "FileExistsError",
     "evalue": "[WinError 183] Cannot create a file when that file already exists: 'C:\\\\\\\\Users\\\\\\\\LENOVO\\\\\\\\Documents\\\\\\\\practice\\\\\\\\Assign\\\\\\\\nwfolder\\\\\\\\pavanYa.txt'",
     "output_type": "error",
     "traceback": [
      "\u001b[1;31m---------------------------------------------------------------------------\u001b[0m",
      "\u001b[1;31mFileExistsError\u001b[0m                           Traceback (most recent call last)",
      "Cell \u001b[1;32mIn[22], line 1\u001b[0m\n\u001b[1;32m----> 1\u001b[0m \u001b[43mos\u001b[49m\u001b[38;5;241;43m.\u001b[39;49m\u001b[43mmkdir\u001b[49m\u001b[43m(\u001b[49m\u001b[38;5;124;43mr\u001b[39;49m\u001b[38;5;124;43m'\u001b[39;49m\u001b[38;5;124;43mC:\u001b[39;49m\u001b[38;5;130;43;01m\\\\\u001b[39;49;00m\u001b[38;5;124;43mUsers\u001b[39;49m\u001b[38;5;130;43;01m\\\\\u001b[39;49;00m\u001b[38;5;124;43mLENOVO\u001b[39;49m\u001b[38;5;130;43;01m\\\\\u001b[39;49;00m\u001b[38;5;124;43mDocuments\u001b[39;49m\u001b[38;5;130;43;01m\\\\\u001b[39;49;00m\u001b[38;5;124;43mpractice\u001b[39;49m\u001b[38;5;130;43;01m\\\\\u001b[39;49;00m\u001b[38;5;124;43mAssign\u001b[39;49m\u001b[38;5;130;43;01m\\\\\u001b[39;49;00m\u001b[38;5;124;43mnwfolder\u001b[39;49m\u001b[38;5;130;43;01m\\\\\u001b[39;49;00m\u001b[38;5;124;43mpavanYa.txt\u001b[39;49m\u001b[38;5;124;43m'\u001b[39;49m\u001b[43m)\u001b[49m\n",
      "\u001b[1;31mFileExistsError\u001b[0m: [WinError 183] Cannot create a file when that file already exists: 'C:\\\\\\\\Users\\\\\\\\LENOVO\\\\\\\\Documents\\\\\\\\practice\\\\\\\\Assign\\\\\\\\nwfolder\\\\\\\\pavanYa.txt'"
     ]
    }
   ],
   "source": [
    "os.mkdir(r'C:\\\\Users\\\\LENOVO\\\\Documents\\\\practice\\\\Assign\\\\nwfolder\\\\pavanYa.txt')\n"
   ]
  },
  {
   "cell_type": "code",
   "execution_count": 26,
   "id": "06bba307",
   "metadata": {},
   "outputs": [],
   "source": [
    "a1=os.mkdir(r'C:\\\\Users\\\\LENOVO\\\\Documents\\\\practice\\\\Assign\\\\nwfolder')"
   ]
  },
  {
   "cell_type": "code",
   "execution_count": 29,
   "id": "24aa631b",
   "metadata": {},
   "outputs": [
    {
     "ename": "TypeError",
     "evalue": "nt.getcwd() takes no arguments (1 given)",
     "output_type": "error",
     "traceback": [
      "\u001b[1;31m---------------------------------------------------------------------------\u001b[0m",
      "\u001b[1;31mTypeError\u001b[0m                                 Traceback (most recent call last)",
      "Cell \u001b[1;32mIn[29], line 1\u001b[0m\n\u001b[1;32m----> 1\u001b[0m a\u001b[38;5;241m=\u001b[39m\u001b[43mos\u001b[49m\u001b[38;5;241;43m.\u001b[39;49m\u001b[43mgetcwd\u001b[49m\u001b[43m(\u001b[49m\u001b[38;5;124;43m'\u001b[39;49m\u001b[38;5;124;43mnwfolder\u001b[39;49m\u001b[38;5;124;43m'\u001b[39;49m\u001b[43m)\u001b[49m\n\u001b[0;32m      2\u001b[0m a\n",
      "\u001b[1;31mTypeError\u001b[0m: nt.getcwd() takes no arguments (1 given)"
     ]
    }
   ],
   "source": [
    "a=os.getcwd( )\n",
    "a"
   ]
  },
  {
   "cell_type": "code",
   "execution_count": 34,
   "id": "9c18e6d2",
   "metadata": {},
   "outputs": [
    {
     "data": {
      "text/plain": [
       "'pavanYa.txt'"
      ]
     },
     "execution_count": 34,
     "metadata": {},
     "output_type": "execute_result"
    }
   ],
   "source": [
    "a2=r\"pavanYa.txt\"\n",
    "a2"
   ]
  },
  {
   "cell_type": "code",
   "execution_count": 35,
   "id": "111bb26d",
   "metadata": {},
   "outputs": [
    {
     "ename": "TypeError",
     "evalue": "expected str, bytes or os.PathLike object, not NoneType",
     "output_type": "error",
     "traceback": [
      "\u001b[1;31m---------------------------------------------------------------------------\u001b[0m",
      "\u001b[1;31mTypeError\u001b[0m                                 Traceback (most recent call last)",
      "Cell \u001b[1;32mIn[35], line 1\u001b[0m\n\u001b[1;32m----> 1\u001b[0m \u001b[43mos\u001b[49m\u001b[38;5;241;43m.\u001b[39;49m\u001b[43mpath\u001b[49m\u001b[38;5;241;43m.\u001b[39;49m\u001b[43mjoin\u001b[49m\u001b[43m(\u001b[49m\u001b[43ma1\u001b[49m\u001b[43m,\u001b[49m\u001b[43ma2\u001b[49m\u001b[43m)\u001b[49m\n",
      "File \u001b[1;32m~\\anaconda3\\lib\\ntpath.py:104\u001b[0m, in \u001b[0;36mjoin\u001b[1;34m(path, *paths)\u001b[0m\n\u001b[0;32m    103\u001b[0m \u001b[38;5;28;01mdef\u001b[39;00m \u001b[38;5;21mjoin\u001b[39m(path, \u001b[38;5;241m*\u001b[39mpaths):\n\u001b[1;32m--> 104\u001b[0m     path \u001b[38;5;241m=\u001b[39m \u001b[43mos\u001b[49m\u001b[38;5;241;43m.\u001b[39;49m\u001b[43mfspath\u001b[49m\u001b[43m(\u001b[49m\u001b[43mpath\u001b[49m\u001b[43m)\u001b[49m\n\u001b[0;32m    105\u001b[0m     \u001b[38;5;28;01mif\u001b[39;00m \u001b[38;5;28misinstance\u001b[39m(path, \u001b[38;5;28mbytes\u001b[39m):\n\u001b[0;32m    106\u001b[0m         sep \u001b[38;5;241m=\u001b[39m \u001b[38;5;124mb\u001b[39m\u001b[38;5;124m'\u001b[39m\u001b[38;5;130;01m\\\\\u001b[39;00m\u001b[38;5;124m'\u001b[39m\n",
      "\u001b[1;31mTypeError\u001b[0m: expected str, bytes or os.PathLike object, not NoneType"
     ]
    }
   ],
   "source": [
    "os.path.join(a1,a2)"
   ]
  },
  {
   "cell_type": "code",
   "execution_count": 30,
   "id": "faa55269",
   "metadata": {},
   "outputs": [
    {
     "ename": "KeyboardInterrupt",
     "evalue": "",
     "output_type": "error",
     "traceback": [
      "\u001b[1;31m---------------------------------------------------------------------------\u001b[0m",
      "\u001b[1;31mKeyboardInterrupt\u001b[0m                         Traceback (most recent call last)",
      "Cell \u001b[1;32mIn[30], line 2\u001b[0m\n\u001b[0;32m      1\u001b[0m filename \u001b[38;5;241m=\u001b[39m \u001b[38;5;124m\"\u001b[39m\u001b[38;5;124mpavanYa.txt\u001b[39m\u001b[38;5;124m\"\u001b[39m\n\u001b[1;32m----> 2\u001b[0m \u001b[38;5;28;01mfor\u001b[39;00m root, dirs, files \u001b[38;5;129;01min\u001b[39;00m os\u001b[38;5;241m.\u001b[39mwalk(\u001b[38;5;124m'\u001b[39m\u001b[38;5;124m/\u001b[39m\u001b[38;5;124m'\u001b[39m):  \u001b[38;5;66;03m# Start from the root directory\u001b[39;00m\n\u001b[0;32m      3\u001b[0m     \u001b[38;5;28;01mif\u001b[39;00m filename \u001b[38;5;129;01min\u001b[39;00m files:\n\u001b[0;32m      4\u001b[0m         file_path \u001b[38;5;241m=\u001b[39m os\u001b[38;5;241m.\u001b[39mpath\u001b[38;5;241m.\u001b[39mjoin(root, filename)\n",
      "File \u001b[1;32m~\\anaconda3\\lib\\os.py:419\u001b[0m, in \u001b[0;36m_walk\u001b[1;34m(top, topdown, onerror, followlinks)\u001b[0m\n\u001b[0;32m    414\u001b[0m         \u001b[38;5;66;03m# Issue #23605: os.path.islink() is used instead of caching\u001b[39;00m\n\u001b[0;32m    415\u001b[0m         \u001b[38;5;66;03m# entry.is_symlink() result during the loop on os.scandir() because\u001b[39;00m\n\u001b[0;32m    416\u001b[0m         \u001b[38;5;66;03m# the caller can replace the directory entry during the \"yield\"\u001b[39;00m\n\u001b[0;32m    417\u001b[0m         \u001b[38;5;66;03m# above.\u001b[39;00m\n\u001b[0;32m    418\u001b[0m         \u001b[38;5;28;01mif\u001b[39;00m followlinks \u001b[38;5;129;01mor\u001b[39;00m \u001b[38;5;129;01mnot\u001b[39;00m islink(new_path):\n\u001b[1;32m--> 419\u001b[0m             \u001b[38;5;28;01myield from\u001b[39;00m _walk(new_path, topdown, onerror, followlinks)\n\u001b[0;32m    420\u001b[0m \u001b[38;5;28;01melse\u001b[39;00m:\n\u001b[0;32m    421\u001b[0m     \u001b[38;5;66;03m# Recurse into sub-directories\u001b[39;00m\n\u001b[0;32m    422\u001b[0m     \u001b[38;5;28;01mfor\u001b[39;00m new_path \u001b[38;5;129;01min\u001b[39;00m walk_dirs:\n",
      "File \u001b[1;32m~\\anaconda3\\lib\\os.py:419\u001b[0m, in \u001b[0;36m_walk\u001b[1;34m(top, topdown, onerror, followlinks)\u001b[0m\n\u001b[0;32m    414\u001b[0m         \u001b[38;5;66;03m# Issue #23605: os.path.islink() is used instead of caching\u001b[39;00m\n\u001b[0;32m    415\u001b[0m         \u001b[38;5;66;03m# entry.is_symlink() result during the loop on os.scandir() because\u001b[39;00m\n\u001b[0;32m    416\u001b[0m         \u001b[38;5;66;03m# the caller can replace the directory entry during the \"yield\"\u001b[39;00m\n\u001b[0;32m    417\u001b[0m         \u001b[38;5;66;03m# above.\u001b[39;00m\n\u001b[0;32m    418\u001b[0m         \u001b[38;5;28;01mif\u001b[39;00m followlinks \u001b[38;5;129;01mor\u001b[39;00m \u001b[38;5;129;01mnot\u001b[39;00m islink(new_path):\n\u001b[1;32m--> 419\u001b[0m             \u001b[38;5;28;01myield from\u001b[39;00m _walk(new_path, topdown, onerror, followlinks)\n\u001b[0;32m    420\u001b[0m \u001b[38;5;28;01melse\u001b[39;00m:\n\u001b[0;32m    421\u001b[0m     \u001b[38;5;66;03m# Recurse into sub-directories\u001b[39;00m\n\u001b[0;32m    422\u001b[0m     \u001b[38;5;28;01mfor\u001b[39;00m new_path \u001b[38;5;129;01min\u001b[39;00m walk_dirs:\n",
      "    \u001b[1;31m[... skipping similar frames: _walk at line 419 (4 times)]\u001b[0m\n",
      "File \u001b[1;32m~\\anaconda3\\lib\\os.py:419\u001b[0m, in \u001b[0;36m_walk\u001b[1;34m(top, topdown, onerror, followlinks)\u001b[0m\n\u001b[0;32m    414\u001b[0m         \u001b[38;5;66;03m# Issue #23605: os.path.islink() is used instead of caching\u001b[39;00m\n\u001b[0;32m    415\u001b[0m         \u001b[38;5;66;03m# entry.is_symlink() result during the loop on os.scandir() because\u001b[39;00m\n\u001b[0;32m    416\u001b[0m         \u001b[38;5;66;03m# the caller can replace the directory entry during the \"yield\"\u001b[39;00m\n\u001b[0;32m    417\u001b[0m         \u001b[38;5;66;03m# above.\u001b[39;00m\n\u001b[0;32m    418\u001b[0m         \u001b[38;5;28;01mif\u001b[39;00m followlinks \u001b[38;5;129;01mor\u001b[39;00m \u001b[38;5;129;01mnot\u001b[39;00m islink(new_path):\n\u001b[1;32m--> 419\u001b[0m             \u001b[38;5;28;01myield from\u001b[39;00m _walk(new_path, topdown, onerror, followlinks)\n\u001b[0;32m    420\u001b[0m \u001b[38;5;28;01melse\u001b[39;00m:\n\u001b[0;32m    421\u001b[0m     \u001b[38;5;66;03m# Recurse into sub-directories\u001b[39;00m\n\u001b[0;32m    422\u001b[0m     \u001b[38;5;28;01mfor\u001b[39;00m new_path \u001b[38;5;129;01min\u001b[39;00m walk_dirs:\n",
      "File \u001b[1;32m~\\anaconda3\\lib\\os.py:368\u001b[0m, in \u001b[0;36m_walk\u001b[1;34m(top, topdown, onerror, followlinks)\u001b[0m\n\u001b[0;32m    366\u001b[0m \u001b[38;5;28;01mtry\u001b[39;00m:\n\u001b[0;32m    367\u001b[0m     \u001b[38;5;28;01mtry\u001b[39;00m:\n\u001b[1;32m--> 368\u001b[0m         entry \u001b[38;5;241m=\u001b[39m \u001b[38;5;28;43mnext\u001b[39;49m\u001b[43m(\u001b[49m\u001b[43mscandir_it\u001b[49m\u001b[43m)\u001b[49m\n\u001b[0;32m    369\u001b[0m     \u001b[38;5;28;01mexcept\u001b[39;00m \u001b[38;5;167;01mStopIteration\u001b[39;00m:\n\u001b[0;32m    370\u001b[0m         \u001b[38;5;28;01mbreak\u001b[39;00m\n",
      "\u001b[1;31mKeyboardInterrupt\u001b[0m: "
     ]
    }
   ],
   "source": []
  },
  {
   "cell_type": "code",
   "execution_count": 39,
   "id": "9d03fbdd",
   "metadata": {},
   "outputs": [],
   "source": [
    "import glob"
   ]
  },
  {
   "cell_type": "code",
   "execution_count": 40,
   "id": "14e9c6be",
   "metadata": {},
   "outputs": [
    {
     "name": "stdout",
     "output_type": "stream",
     "text": [
      "Help on module glob:\n",
      "\n",
      "NAME\n",
      "    glob - Filename globbing utility.\n",
      "\n",
      "MODULE REFERENCE\n",
      "    https://docs.python.org/3.10/library/glob.html\n",
      "    \n",
      "    The following documentation is automatically generated from the Python\n",
      "    source files.  It may be incomplete, incorrect or include features that\n",
      "    are considered implementation detail and may vary between Python\n",
      "    implementations.  When in doubt, consult the module reference at the\n",
      "    location listed above.\n",
      "\n",
      "FUNCTIONS\n",
      "    escape(pathname)\n",
      "        Escape all special characters.\n",
      "    \n",
      "    glob(pathname, *, root_dir=None, dir_fd=None, recursive=False)\n",
      "        Return a list of paths matching a pathname pattern.\n",
      "        \n",
      "        The pattern may contain simple shell-style wildcards a la\n",
      "        fnmatch. However, unlike fnmatch, filenames starting with a\n",
      "        dot are special cases that are not matched by '*' and '?'\n",
      "        patterns.\n",
      "        \n",
      "        If recursive is true, the pattern '**' will match any files and\n",
      "        zero or more directories and subdirectories.\n",
      "    \n",
      "    iglob(pathname, *, root_dir=None, dir_fd=None, recursive=False)\n",
      "        Return an iterator which yields the paths matching a pathname pattern.\n",
      "        \n",
      "        The pattern may contain simple shell-style wildcards a la\n",
      "        fnmatch. However, unlike fnmatch, filenames starting with a\n",
      "        dot are special cases that are not matched by '*' and '?'\n",
      "        patterns.\n",
      "        \n",
      "        If recursive is true, the pattern '**' will match any files and\n",
      "        zero or more directories and subdirectories.\n",
      "\n",
      "DATA\n",
      "    __all__ = ['glob', 'iglob', 'escape']\n",
      "\n",
      "FILE\n",
      "    c:\\users\\lenovo\\anaconda3\\lib\\glob.py\n",
      "\n",
      "\n"
     ]
    }
   ],
   "source": [
    "help(glob)"
   ]
  },
  {
   "cell_type": "code",
   "execution_count": null,
   "id": "3053e038",
   "metadata": {},
   "outputs": [],
   "source": []
  }
 ],
 "metadata": {
  "kernelspec": {
   "display_name": "Python 3 (ipykernel)",
   "language": "python",
   "name": "python3"
  },
  "language_info": {
   "codemirror_mode": {
    "name": "ipython",
    "version": 3
   },
   "file_extension": ".py",
   "mimetype": "text/x-python",
   "name": "python",
   "nbconvert_exporter": "python",
   "pygments_lexer": "ipython3",
   "version": "3.10.9"
  }
 },
 "nbformat": 4,
 "nbformat_minor": 5
}
